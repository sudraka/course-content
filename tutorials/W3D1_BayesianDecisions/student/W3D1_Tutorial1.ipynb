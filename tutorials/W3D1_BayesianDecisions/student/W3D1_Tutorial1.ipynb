{
  "nbformat": 4,
  "nbformat_minor": 0,
  "metadata": {
    "colab": {
      "name": "W3D1_Tutorial1",
      "provenance": [],
      "collapsed_sections": [
        "jWmfLbhzBpfz"
      ],
      "toc_visible": true,
      "include_colab_link": true
    },
    "interpreter": {
      "hash": "3e19903e646247cead5404f55ff575624523d45cf244c3f93aaf5fa10367032a"
    },
    "kernel": {
      "display_name": "Python 3",
      "language": "python",
      "name": "python3"
    },
    "kernelspec": {
      "display_name": "Python 3.7.10 64-bit ('nma': conda)",
      "name": "python3"
    },
    "language_info": {
      "codemirror_mode": {
        "name": "ipython",
        "version": 3
      },
      "file_extension": ".py",
      "mimetype": "text/x-python",
      "name": "python",
      "nbconvert_exporter": "python",
      "pygments_lexer": "ipython3",
      "version": "3.7.11"
    },
    "widgets": {
      "application/vnd.jupyter.widget-state+json": {
        "c62fc04e87b7465c9badd9542b4af270": {
          "model_module": "@jupyter-widgets/controls",
          "model_name": "TabModel",
          "state": {
            "_view_name": "TabView",
            "_dom_classes": [],
            "_titles": {
              "0": "Youtube",
              "1": "Bilibili"
            },
            "_model_name": "TabModel",
            "_view_module": "@jupyter-widgets/controls",
            "selected_index": 0,
            "_model_module_version": "1.5.0",
            "_view_count": null,
            "_view_module_version": "1.5.0",
            "box_style": "",
            "layout": "IPY_MODEL_6608c3dc18ff4758b16ac993fec635f0",
            "_model_module": "@jupyter-widgets/controls",
            "children": [
              "IPY_MODEL_a0204994652340ff81f4481bef3aa271",
              "IPY_MODEL_3d2f4f9e5cd145eab25ef5365625889a"
            ]
          }
        },
        "6608c3dc18ff4758b16ac993fec635f0": {
          "model_module": "@jupyter-widgets/base",
          "model_name": "LayoutModel",
          "state": {
            "_view_name": "LayoutView",
            "grid_template_rows": null,
            "right": null,
            "justify_content": null,
            "_view_module": "@jupyter-widgets/base",
            "overflow": null,
            "_model_module_version": "1.2.0",
            "_view_count": null,
            "flex_flow": null,
            "width": null,
            "min_width": null,
            "border": null,
            "align_items": null,
            "bottom": null,
            "_model_module": "@jupyter-widgets/base",
            "top": null,
            "grid_column": null,
            "overflow_y": null,
            "overflow_x": null,
            "grid_auto_flow": null,
            "grid_area": null,
            "grid_template_columns": null,
            "flex": null,
            "_model_name": "LayoutModel",
            "justify_items": null,
            "grid_row": null,
            "max_height": null,
            "align_content": null,
            "visibility": null,
            "align_self": null,
            "height": null,
            "min_height": null,
            "padding": null,
            "grid_auto_rows": null,
            "grid_gap": null,
            "max_width": null,
            "order": null,
            "_view_module_version": "1.2.0",
            "grid_template_areas": null,
            "object_position": null,
            "object_fit": null,
            "grid_auto_columns": null,
            "margin": null,
            "display": null,
            "left": null
          }
        },
        "a0204994652340ff81f4481bef3aa271": {
          "model_module": "@jupyter-widgets/output",
          "model_name": "OutputModel",
          "state": {
            "_view_name": "OutputView",
            "msg_id": "",
            "_dom_classes": [],
            "_model_name": "OutputModel",
            "outputs": [
              {
                "output_type": "stream",
                "metadata": {
                  "tags": []
                },
                "text": "Video available at https://youtube.com/watch?v=Hcx2_JTpf2M\n",
                "stream": "stdout"
              },
              {
                "output_type": "display_data",
                "metadata": {
                  "tags": []
                },
                "text/html": "\n        <iframe\n            width=\"854\"\n            height=\"480\"\n            src=\"https://www.youtube.com/embed/Hcx2_JTpf2M?fs=1&rel=0\"\n            frameborder=\"0\"\n            allowfullscreen\n        ></iframe>\n        ",
                "text/plain": "<IPython.lib.display.YouTubeVideo at 0x7fe8f91cb690>",
                "image/jpeg": "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\n"
              }
            ],
            "_view_module": "@jupyter-widgets/output",
            "_model_module_version": "1.0.0",
            "_view_count": null,
            "_view_module_version": "1.0.0",
            "layout": "IPY_MODEL_3afc41f35dff42c4b08461127de1f2f2",
            "_model_module": "@jupyter-widgets/output"
          }
        },
        "3d2f4f9e5cd145eab25ef5365625889a": {
          "model_module": "@jupyter-widgets/output",
          "model_name": "OutputModel",
          "state": {
            "_view_name": "OutputView",
            "msg_id": "",
            "_dom_classes": [],
            "_model_name": "OutputModel",
            "outputs": [
              {
                "output_type": "stream",
                "metadata": {
                  "tags": []
                },
                "text": "Video available at https://www.bilibili.com/video/BV1Ch41167jN\n",
                "stream": "stdout"
              },
              {
                "output_type": "display_data",
                "metadata": {
                  "tags": []
                },
                "text/html": "\n        <iframe\n            width=\"854\"\n            height=\"480\"\n            src=\"https://player.bilibili.com/player.html?bvid=BV1Ch41167jN&page=1?fs=1\"\n            frameborder=\"0\"\n            allowfullscreen\n        ></iframe>\n        ",
                "text/plain": "<__main__.BiliVideo at 0x7fe8fda600d0>"
              }
            ],
            "_view_module": "@jupyter-widgets/output",
            "_model_module_version": "1.0.0",
            "_view_count": null,
            "_view_module_version": "1.0.0",
            "layout": "IPY_MODEL_7dd4defe09a04e898a2c7ddf844679d2",
            "_model_module": "@jupyter-widgets/output"
          }
        },
        "3afc41f35dff42c4b08461127de1f2f2": {
          "model_module": "@jupyter-widgets/base",
          "model_name": "LayoutModel",
          "state": {
            "_view_name": "LayoutView",
            "grid_template_rows": null,
            "right": null,
            "justify_content": null,
            "_view_module": "@jupyter-widgets/base",
            "overflow": null,
            "_model_module_version": "1.2.0",
            "_view_count": null,
            "flex_flow": null,
            "width": null,
            "min_width": null,
            "border": null,
            "align_items": null,
            "bottom": null,
            "_model_module": "@jupyter-widgets/base",
            "top": null,
            "grid_column": null,
            "overflow_y": null,
            "overflow_x": null,
            "grid_auto_flow": null,
            "grid_area": null,
            "grid_template_columns": null,
            "flex": null,
            "_model_name": "LayoutModel",
            "justify_items": null,
            "grid_row": null,
            "max_height": null,
            "align_content": null,
            "visibility": null,
            "align_self": null,
            "height": null,
            "min_height": null,
            "padding": null,
            "grid_auto_rows": null,
            "grid_gap": null,
            "max_width": null,
            "order": null,
            "_view_module_version": "1.2.0",
            "grid_template_areas": null,
            "object_position": null,
            "object_fit": null,
            "grid_auto_columns": null,
            "margin": null,
            "display": null,
            "left": null
          }
        },
        "7dd4defe09a04e898a2c7ddf844679d2": {
          "model_module": "@jupyter-widgets/base",
          "model_name": "LayoutModel",
          "state": {
            "_view_name": "LayoutView",
            "grid_template_rows": null,
            "right": null,
            "justify_content": null,
            "_view_module": "@jupyter-widgets/base",
            "overflow": null,
            "_model_module_version": "1.2.0",
            "_view_count": null,
            "flex_flow": null,
            "width": null,
            "min_width": null,
            "border": null,
            "align_items": null,
            "bottom": null,
            "_model_module": "@jupyter-widgets/base",
            "top": null,
            "grid_column": null,
            "overflow_y": null,
            "overflow_x": null,
            "grid_auto_flow": null,
            "grid_area": null,
            "grid_template_columns": null,
            "flex": null,
            "_model_name": "LayoutModel",
            "justify_items": null,
            "grid_row": null,
            "max_height": null,
            "align_content": null,
            "visibility": null,
            "align_self": null,
            "height": null,
            "min_height": null,
            "padding": null,
            "grid_auto_rows": null,
            "grid_gap": null,
            "max_width": null,
            "order": null,
            "_view_module_version": "1.2.0",
            "grid_template_areas": null,
            "object_position": null,
            "object_fit": null,
            "grid_auto_columns": null,
            "margin": null,
            "display": null,
            "left": null
          }
        },
        "93d1312d2210411a9c4025ab09bb6ba0": {
          "model_module": "@jupyter-widgets/controls",
          "model_name": "TabModel",
          "state": {
            "_view_name": "TabView",
            "_dom_classes": [],
            "_titles": {
              "0": "Youtube",
              "1": "Bilibili"
            },
            "_model_name": "TabModel",
            "_view_module": "@jupyter-widgets/controls",
            "selected_index": 0,
            "_model_module_version": "1.5.0",
            "_view_count": null,
            "_view_module_version": "1.5.0",
            "box_style": "",
            "layout": "IPY_MODEL_920b89ab0e294de683a5f255319798aa",
            "_model_module": "@jupyter-widgets/controls",
            "children": [
              "IPY_MODEL_d896a4a8edb14ec69fe63237599f44ba",
              "IPY_MODEL_90c0201562034c0da7a61c18eddab9f1"
            ]
          }
        },
        "920b89ab0e294de683a5f255319798aa": {
          "model_module": "@jupyter-widgets/base",
          "model_name": "LayoutModel",
          "state": {
            "_view_name": "LayoutView",
            "grid_template_rows": null,
            "right": null,
            "justify_content": null,
            "_view_module": "@jupyter-widgets/base",
            "overflow": null,
            "_model_module_version": "1.2.0",
            "_view_count": null,
            "flex_flow": null,
            "width": null,
            "min_width": null,
            "border": null,
            "align_items": null,
            "bottom": null,
            "_model_module": "@jupyter-widgets/base",
            "top": null,
            "grid_column": null,
            "overflow_y": null,
            "overflow_x": null,
            "grid_auto_flow": null,
            "grid_area": null,
            "grid_template_columns": null,
            "flex": null,
            "_model_name": "LayoutModel",
            "justify_items": null,
            "grid_row": null,
            "max_height": null,
            "align_content": null,
            "visibility": null,
            "align_self": null,
            "height": null,
            "min_height": null,
            "padding": null,
            "grid_auto_rows": null,
            "grid_gap": null,
            "max_width": null,
            "order": null,
            "_view_module_version": "1.2.0",
            "grid_template_areas": null,
            "object_position": null,
            "object_fit": null,
            "grid_auto_columns": null,
            "margin": null,
            "display": null,
            "left": null
          }
        },
        "d896a4a8edb14ec69fe63237599f44ba": {
          "model_module": "@jupyter-widgets/output",
          "model_name": "OutputModel",
          "state": {
            "_view_name": "OutputView",
            "msg_id": "",
            "_dom_classes": [],
            "_model_name": "OutputModel",
            "outputs": [
              {
                "output_type": "stream",
                "metadata": {
                  "tags": []
                },
                "text": "Video available at https://youtube.com/watch?v=kAdBjWOI_yE\n",
                "stream": "stdout"
              },
              {
                "output_type": "display_data",
                "metadata": {
                  "tags": []
                },
                "text/html": "\n        <iframe\n            width=\"854\"\n            height=\"480\"\n            src=\"https://www.youtube.com/embed/kAdBjWOI_yE?fs=1&rel=0\"\n            frameborder=\"0\"\n            allowfullscreen\n        ></iframe>\n        ",
                "text/plain": "<IPython.lib.display.YouTubeVideo at 0x7fe8fed4e2d0>",
                "image/jpeg": "/9j/4AAQSkZJRgABAQAAAQABAAD/2wCEAAUDBAkICAgICAgICAgICAgICAgICQgICAgICAgICAgICAgIChALCAgOCQgIDRUNDhERExMTCAsWGBYSGBASExIBBQUFCAcIDQgIDhINDQ8SEhISEhISEhISEhISEhISEhISEhISEhISEhISEhISEhISEhISEhISEhISEhISEhISEv/AABEIAWgB4AMBIgACEQEDEQH/xAAdAAEAAgIDAQEAAAAAAAAAAAAABgcDBQIECAEJ/8QAWRAAAQMDAQMGBwkMCAMFCQAAAQACAwQFERIGEyEHFBYxQZIIIlFSYdHSFTJTVHGBkZPiGCMzNkJVcpShsbK0JDRic3R1s8E3dvAlNYK14QkXVmODlcLT8f/EABoBAQEAAwEBAAAAAAAAAAAAAAABAwQFAgb/xAAlEQEAAgICAgEFAQEBAAAAAAAAARECAwQSITFBEyJRYXGBkRT/2gAMAwEAAhEDEQA/APGSIiAiIgIiICIiAiIgIiICIiAiIgIiICIiAiIgIiICIiAiIgIiICIiAiIgIiICIiAiIgIiICIiAiIgIiICIiAiIgIiICIiAiIgIiICIiAiIgIiICIiAiIgIiICIiAiIgIiICIiAiIgIiICIiAiIgIiICIiAiIgIiICIiAiIgIiICIiAiIgIiICIiAiIgIiICIiAiIgIiICLf8ARSfz4e8/2E6KT+fD3n+wg0CLf9FJ/Ph7z/YTopP58Pef7CDQIt/0Un8+HvP9hOik/nw95/sINAi3/RSfz4e8/wBhOik/nw95/sINAi3/AEUn8+HvP9hOik/nw95/sINAi3/RSfz4e8/2E6KT+fD3n+wg0CLf9FJ/Ph7z/YTopP58Pef7CDQIt/0Un8+HvP8AYTopP58Pef7CDQIt/wBFJ/Ph7z/YTopP58Pef7CDQIt/0Un8+HvP9hOik/nw95/sINAi3/RSfz4e8/2E6KT+fD3n+wg0CLf9FJ/Ph7z/AGE6KT+fD3n+wg0CLf8ARSfz4e8/2E6KT+fD3n+wg0CLf9FJ/Ph7z/YTopP58Pef7CDQIt/0Un8+HvP9hOik/nw95/sINAi3/RSfz4e8/wBhOik/nw95/sINAi3/AEUn8+HvP9hOik/nw95/sINAi3/RSfz4e8/2E6KT+fD3n+wg0CLf9FJ/Ph7z/YTopP58Pef7CDQIt/0Un8+HvP8AYTopP58Pef7CDQIt/wBFJ/Ph7z/YTopP58Pef7CDQIt/0Un8+HvP9hOik/nw95/sINAi3/RSfz4e8/2E6KT+fD3n+wg0CLf9FJ/Ph7z/AGE6KT+fD3n+wg0CLf8ARSfz4e8/2E6KT+fD3n+wg0CLf9FJ/Ph7z/YTopP58Pef7CDQIt/0Un8+HvP9hOik/nw95/sINAi3/RSfz4e8/wBhOik/nw95/sINAi3/AEUn8+HvP9hOik/nw95/sINAi3/RSfz4e8/2E6KT+fD3n+wgmaIi9PIiIgIiICIiAiIgIiICIiAiIgIiICIiAiIgIiICIiAiIgIiICIiAiIgIiICIiAiIgIiICIiAiIgIiICIiAiIgIiICIiAiIgIiICIiAiKNS7VhrnN3BOkkZ3nkOPMUVJUUX6XD4ufrfsJ0uHxc/W/YQpKEUX6XD4ufrfsJ0uHxc/W/YQpKEUX6XD4ufrfsJ0uHxc/W/YQpKEUX6XD4ufrfsJ0uHxc/W/YQpKEUX6XD4ufrfsJ0uHxc/W/YQpKEUX6XD4ufrfsJ0uHxc/W/YQpKEUX6XD4ufrfsJ0uHxc/W/YQpKEUX6XD4ufrfsJ0uHxc/W/YQpKEUX6XD4ufrfsJ0uHxc/W/YQpKEUX6XD4ufrfsJ0uHxc/W/YQpKEUX6XD4ufrfsJ0uHxc/W/YQpKEUX6XD4ufrfsJ0uHxc/W/YQpKEUX6XD4ufrfsJ0uHxc/W/YQpKEUX6XD4ufrfsJ0uHxc/W/YQpKEUX6XD4ufrfsJ0uHxc/W/YQpKEUco9qBJJHHuCNb2MzvM41ODc40cetSNAREVQREQEREBERAREQEREBERAREQEREBERAREQEREBERACrKr/CP/AE3fxFWaFWVX+Ef+m7+IqSsMSIiiiIiAiIgKScmOy3u3eLdaRPzbn9Syn3+7326158fda268Y6tQ+VRtWR4MH447O/5nB/ugteo8Fq2ivktDNubb7rsIYLfNRiCd0jo2ysjDTXFznFjmuw1rjg5wqF5TdiK3Z251FpuLGNqacsOuJxfBNHIwPjmgkc1pfE5p6yAQQ5pAc0gewtqeQyS6coFZfn3W3ClpKuhuD7fRzOqL0XUNNRuZA+kDWinMjoR4xeSA9hAOeHnbl927Ze9sn190ttZS0NPU0dNNbJ2mnuAt9K9pmimbqbuquRjpnYDvE3rQHHTqIVCi9V8j22my1+u9JYG7A2+noKwvpm1e/kqa6D71IYpJakxCXLiwNJEgc3XnU4t46zkl2NslDyhXXZa6UUNfQTy1dJb3VOoyU8rBzqkG9a4eMafeREj3zzGRjqQeZ0Vm2zklqJNtBsk8vDhdH0skw0h/MYtU76xgIIyaFpmaD5zQVbMXJnZ9p+UOttNupY7fYLFAW1vMw9hqnUUjY6hu8dnTK+rndFqByY6Yubx6g8sovYmw9NYNpbi/ZyXk/mslBUx1MVuvUcVRFXQOghkkgmqp5YR472RE4e+Qay1jhIHFyq/wcuSmiuG2tVYby4Sw2t1ybLC17oRWz2+oFNuQ5rg9rCS+QhpzpiIz1lBRam3J1sZR3SivlVV3yjtUtqojVUlJU7ne3aYQ1UgpKXeVEbt5qp42eI2Q5qGcOoGyOWfbm3RR3Gy1HJ5RWGt0llLUh25rKXTL4k500wbVscGOAc1+h2okOcOvD4M+yVvuNh29qa6jhqZ7bYnVNBLKCXUs4o7rJvYsHg7XDEePwYQUOinfJHtLZbW+rqLzY/d2bRCLfTyVD6aljk1P38lSWZ3o0FmGOY8Eg+94FXrHb7FtjsftFcodmqTZ642GHnUE1AC2KeMRPnwcRsbKHNgmYQ4O05Y4EZwg8novRfgd7C2i9UG1/uzHA1lJboHQ3CZuo2sSw3PfVsY1AZjETJOPwIU05GK/YjaK5v2Tpdk2x0clNUc1vVRUF90qH07N46aQ7veUznjePGmUgaWjQA7SwPICLa7X2nmFxr6HXvOZVtVSbwjBfzad8OvHZnRnHpWqQEREBERAREQduz/1mn/v4v8AUarHVcWf+s0/9/F/qNVjqwkiIiqCIiAiIgIiICIiAiIgIiICIiAiIgIiICIiAiIgIiIAVZVf4R/6bv4irNCrKr/CP/Td/EVJWGJERRRERAREQFZHgwfjjs7/AJnB/uq3XZtlfNSzR1FNNLTzwuD4p4JHxTRPHU+OSMhzHDygoPVnLXyQbWV23lbdbHRTwsdWUUlJdDNBTwwmOjpInzlzn6zGxzH5Aa4uDXANdnBlXLbbLJeOVPZy3VQgnAo3MurA9rY5aiKKuqrfSVGHcZS5sILHcXMmhbxBAHk2TlO2gcC120N8c0jBa66V5BHkIM3EKLtqHiQSh7xKH7wSBzhIJA7UHh+ch+rjnryg952Ko24G2baaSmbatkaG4SRRxwR0FJbTbQ58VDol/CVE02af72w5D5caIxlrfOfhSw19n27r7luZqZ/ujBcLdUSRPbFMYG00sc0D3DTM1sjWg6ScOBBwRhVxtDt/ebiyKOvvF0rI4XNfEypramZjJGZLJQ2SQjejJ8f33pXU2n2quV2fE653GtuD4m7uF1bUzVBiadIIY6d50A6WknhkjJyeKD3vtTcrZRUVbyo02htXXbMUlNSQua1+m4VD9DHS6T98ma80cDse9ZSS8cZXnjwEtt4LftJU09fUCEXqkdSx1MrhqNfvmSwh0shwHSffgC7Op7ox2rp+EfthbYrBs1sjYq2Kvo7bAay4VUGvcz3GQyA6DJhzfvstdLpOQBUxAHxVQKD1ntXdeVqhuMlvZJc60CV7IKykttBLRzxBxEc3OGUpjpw5oDtMrmubnBAKpXZzZvae47SXM0LJ3bS0FRXXCuNPNTwVLKqKtENc+J0b2xPfzioILIiQ4OdpBHBail5VdoooBTR7Q3pkAAa2NlxrGhrQMBjCJcsjxw0jA9C0Fr2hrqWpdW0tdWU1Y8vc+rgqJoal5kdrkLp43iRxc7iSTxPFB7T2brrttBsptHFyh2nm0Fro5JaG61tHzCt502GY7yCJzW6pmuEAbJC1rZN5uyJNRCqzwRPxb5S/+W3/AMhelSG1O3t4usbYbld7lXQsLS2Gqq6iaIOaCA/dPeW7zBPjYzx61rLTfqykjqYaSsq6WKsj3NXFTzzQx1UJa9hiqWRuDZ49Mkg0vBGJHDtKD0v4IOzw6N7R3q00FJc9q6KZkNuhqmxyupIXRRO5xTxye9ne19ZpP5ZpQwHBcDZmwdPthXbJ7Yx7Tc5mr621VHuTQSMpm1rmilqmzbuhpGB7Ncr4WNaW5c5uAOrPiHZfaWvtc3OLbXVdBOW6XS0k8tO9zNQdoeYnDXHkA6XZBx1LvUm315irX3KO8XNtwkiMElbz2pNVJAS07l85k1viy1h0kkZY09YCC9PBPppIdnuU+GaN8UsWz8scsUjXMkjkZQ3xr45GOAcx7XAgg8QQVHPAS/Ha3/4a4/ycqqGm2ouMRrTHca6M3IPFxLKqoZz8SbzeCt0v/pQdvpc7zVnevz74rrWO8VVDM2poaqpo6hgc1s9LNLTzND2lrw2WFwcAWkggHiCg3XK7+MN+/wA5un89OoustXUPlkfLK98ssr3SSSSOc+SSR7i573vcSXvLiSSeJJKxICIiAiIgIiIO3Z/6zT/38X+o1WOq4s/9Zp/7+L/UarHVhJERFUEREBERAREQEREBERAREQEREBERAREQEREBERAREQAqyq/wj/03fxFWaFWVX+Ef+m7+IqSsMSIiiiIiAiIgKef+5raf/wCG73/9vqv/ANaga9g+HbyiXqz7SUUFru1fQwPslNO+GmnkjidM6vuTHSOjadJeWRxgnHUxvkQeV9pNlLlbNAuVtr7eZM7sVtJUUmvHE6N+xur5lpl6+8F/lan2smqdj9rTHdqW5Us5pJp2RtqGSwR710OuNg1OETJZmTfhI3w8CcjRRFv5ILjW7U1uy9va2WppKysgdPMTHBHTUspZz2ocxrjHCW7s8ASTKxoBJAQVwi9CO8HGkrY66LZ7a23X670EL5prVDTup3StiIbIKWp5w9tQdRDQ4N0ansBc3UCqm5KuT+4bS3KO12yNjp3sdLJJK4sgpoGFrX1FQ9rXFkQc9jeDSSXtABJAQRRbey7M19bBV1VHQ1VTT0EYlrZ4IZJYqWMtkfrqHsBETNMUhy7HBjvIrvu/IFs/STS0U/KFaI7hBrZNTOo8Qxzx5D4H1fPdDJGvBaWkBwIIIBGFpOQWyXaq2c20nt14FuoqS3MkudGaWKoNzh5tcXCETSeNTeIyZupnw2fyQgpRFZvIdyRTbSi4VUldT2m1WqJstwuVU1z2RB7ZHNZHEHNEr9MTifHaGjHHLmg/OVbk+s9rooau07V0d/dJUinkpoqV1HUQtMUkm/MUlQ9zosxhucAZkbxQQtuy9wNAboKGrNtbJujX7mTmgl1Bm7M+nRr1EDGesrTq8aaxXc8m81eLyBZRdBG6y80hJdPziJu/57+EHjlrtPV4q0nI7yKz32iqrvWXCksdionbua6V3FjpSWjd08Wtm9IdJG3Jc0F0rWt1Oy0BVKK89pPB/jfa6u7bM7Q0W00FubvLhBBA6jrKeIBzt6KZ8she3SyR3EtJET9OsghRzkH5Hp9rG3fm9WKeW10rKhkO4M76t8gn0QR4kbu3F0IGTn344cEFXovSll8FZlSZLf0ss7do44HyvskYE5ikaM7meqZPrY5uW6i2F2nJOHDBNObBcnFwvF9Zs9BG2Gv39RBPvid1Smk3nOnTvjDsNZunjhnLtIGS4IIcivHbbkZsNvp7judurdV3G3RTufbuZOgM09OHaqWCpdVuZJKXNLQGgnPYqOQEREBERAREQduz/wBZp/7+L/UarHVcWf8ArNP/AH8X+o1WOrCSIiKoIiICIiAiIgIi6NwrxGOAznqPl+Tt+dSZWIt3XEDrOFjNSwHGsZHWo3K+WY5wePAAuA+jK6coe08XY9GSD+0cV47SvVMo5Gu96QfkK5qGRVzmAgO7fL2jtC21uvreDZsg9j8fxY/evUZJTeosNPUsk4seHfJ1/R1rMvQIiIgiIgIiICIiAiIgBVlV/hH/AKbv4irNCrKr/CP/AE3fxFSVhiREUUREQEREBemf/aO/jVQf8v0v/mN1XmZemNqfCjorrM2ouWw9kr52RiFk1ZI2okbC173tiD5aUkMD5JDjqy93lQazwCdlpqramO6aSyjs1NVT1E7hiISVNLNRxQueeAeWzSyfJA5Wp4LG0NLdtpuUOtjbzh9a2SahjicYqiooBUVbCIXEh0bntNCCeGHPZ1cFRfKJ4Q9zuVvks1vo7ds/Z5dTZKK0Q83M0bwN5FNKCAY3kHUI2x6gS12oEg17ycba1+z9xgulsm3NTASMOGuKeJ3CWnqI84kheOBHAghrmlrmtcAvzk/5ZNh9n69twtey94pqyNkkQea98o0St0yMdFPUuYfnHAgeRSXwIbmyrr9vKihZuauriFTbYnFu9jjlmuT2s8Xh4sktGDjhnT6FALh4QFjqZXVtTyfWSa5SEyTVLp/6PNO8l0k0tEaUtkc55LiXucSSckniqr2N5Rq+zXt19tm6pKh088rqaNhFE6GokL5KJ8AcNVJggBuQW6GOaWua1wCIztcHuEgcHhzg8PBDw8E6g4HiHZznK9K+Cj+J3KV/k8f8ld11Lr4R1oqJnV79gLHJdHkyPrJ5GzRvnPEzvpjSDW/V42S8uz+Vniq55LuVSSxWjaK0so46hu0NI2kkmdK6N1KGw1cOtjAwiU4qicEj3g8qDceDpywx7N+6FBcqBt0sd3jbHX0vi71paHs3kQkOiQGORzXMcW5xGQ5unxpPyzclFgm2edthsfVz+5sdTHT11tqy50lHJK6KIRxvfmVr2STQZjkdJqE4e2TSADBeSPlNo7PSVVBc9nLbf6SpnbUNFUdzU08gj3TtxU7uQxtLQ33rQevic4G05VuXB11tUVgtVoo9n7IyUTyUdK908lRM12tpnqCxmtofpdjTkuY0lxwAAn9F/wAGKj/PG/zkCy8pn/B/ZfmWvce6x55o143m8vG83/8AY51jGrhndY/JVSw8rEjdj5NkuZRmKStFZz3fO3gImZLu9xoxjLMZ1dq7fI7y01Fho6q01VBSXux1rt5UWquH3sSjSd7BLpdunF0cTuLXAGJrm6XeMgsj/wBnQJekN0J1czFjm5zqzuNRrKLc7zPia9AqMZ/J3uO1dzwG6ncxbczUr3x7q0iSmfnEjNDbg6F+ex4w0/KFCNpvCBaLXVWjZvZ+g2Zprg0sr5aaV1VWVMZBaY+cuijLWlj5G8Q4gSO0luTmL8ivKxJszDeoY6KOrF5ouZPc+Z0RgAZOzeNDWO3h+/ngce9Qb/wK5HP29sj3uLnuddHOc4lznOdZ7iXOcTxJJOcldWr2+qdmdv7xd6SNkzqe/wB6ZLTyEtZUU8tdUxzQlzeLHFpy12Dpc1pw4AtMQ5GtuH7N3uivUdO2rfRc5xTvkMTZOcUlRSHMjWuLcCcu6uOnHatps1ynCk2iuN9ntNDcIrnNcJKm2Vo31MY7hUGofG1zmkamO0gOc08AeGTwC8ajYzZPlFiuNbs4KiybSxQS11RbZsGlqnkt1y6AXNEbpXNZvYSzSZg58R1DPkpX/V+EVT0dFW02zOy1v2dqbjGYaqviqH1c4icHAtp8wR7lw1Eji5rTxDc4IoBAREQEREBERB27P/Waf+/i/wBRqsdVxZ/6zT/38X+o1WOrCSIiKoIiICIiAiLBWS6WnHvjwA9P/X71JmldO8XDd4a0t1Hjx4/sH71qpbs4jSAC7gA4jq/QYOB+XrXaiss87ySMautzsYA8uM5d5OCzyW5lOMaXSydhLTjt6hniFgyyiWaMZpoZJHE+OM9vHgc+jyLtRhz2ktIByGkZHH5ncDwXaNM5595oGOAPFvEdrD1dS6dRTOByGOYR2tLgPocTw+fCnYjB06uIg4e0A44EcCR6R2n5l09GD6VuYXl+GOYHHqHDGflHUf3hcpbS53FjSAezrAPbgr12pOl+mpp5HMcCHEOB4EHipXY7pvvEfgSN+YOA/wB1F6iiLcntGOv1pE8tkY9pwcgj5RjOV7iWOYr2nqLFSzCRjXjqcM/Ie0fSsqyIIiIgiIgIiICIiAFWVX+Ef+m7+IqzQqyq/wAI/wDTd/EVJWGJERRRERAREQEREBbhmy1xcARbq8ggEEUtQQQeIIIZxGFp1f3Izy87UVF92ft015mfRzXa00UsBgogH0slZTwPiLmwB4BiJbkHPHrQU10TuX5tuH6pUewtMvUHhK8ue01q2rvFvt94lpqOmmhbBA2Cje2NrqSnkcA6WBzj473HiT1qn7tyZyU+ydBtUatjoq65vtraMROEkbmNrHb0zatLm/0M+Lge/HHggr9FYEHJnI/ZOXarnbBFFcxbTR7p28Li2N2932rAH3z3uns61dt05Dtmeh9mrPd63UVTU1komv8AIyukhrdJrP6FHTOm0QvjwGlzQ3JpSe1B5SRWdyT8kE18gr7lPcKS0WK2ybqru9ZqMW9OnRDTwjBnmO8h8TU38NGBlzmtOw215FWw2eS/2C9Uu0drppBHXvp4JqKrodWA2SaincX7nJbk5DhqDtJaHOaFQrs0FBNUOc2CGWdzGGRzYY3yObG0gOe4MBIYC5vE8OIVv8mXIBUXyxMvrLpRUVM2ulpqs1g3UNHTU7N5PWzVBfjQBhoYG8XPbktGXCRciux1TSbS3mh2X2mo5hDs5UTy3VtCyaCppnS0BqKNkEkj91IJXR/fMk/ejwGUHnVFNuSzYmku3O5LhfrdYqWjbCXyVmuWondOZdLaOjjw6pLRC4uwQW6mcDq4SPlW5HGWmz0W0FsvNNfbPWVBpOcw08tJLDUaZXBktNK5zmNxDICXFpBDQR4wyEDuGyFwp7ZSXiakey210skNJVl0ZZNLC+WORjWh2sEOhlHED3hWiXonlK/4UbF/5rdf527rzsgIiICIiAiIgIiIO3Z/6zT/AN/F/qNVjquLP/Waf+/i/wBRqsdWEkREVQREQEREBc4ixpaXjJJIaMZ4kYB/afoXBSzYHZfndZESMxsZvpCfKG8APRqc36Fh3ZdcWfj4ds4hgobMyVhedbnE569PUOGDj95HyLoXigGPwL2F3DOvPjA9ZaOBBXoOm2VYGtiijaMtDSXk8B5T5PkXKn5OmH76QHOGS3LWkA+VgB6/+slc763nw7UcSKedLPYKlzmsLC9h62OGoY48c4Bae3JwtvV7FvOC8OweGRxDMeceGPJgK/6HYYQlz3B0j3cWtbjtzpBBcB1+X0rDW7LvA0OOB+U1uHEcfe9Xk458quWyXrDjY+nn6TYgtxKx3AYPUewnzhk9X7V8FCGHBAHDGeo/Qr1umzrWxkNGGt6h1nJ/JB8irbaegbGH4GMHtHEeTH7VPq37ev8AzRjFwrPaGzhwc5uM4PDHX1eRQgQEZGMjJ7OpWjU4LSep2riB1f2seQHj9CiG0VDu3nTghxcQfQTn5uJ6vStvVk5PJ1+bZtn35iwfyXEfTxWxXQsjMRn9LAXfW3HpoyIiKoIiICIiAiIgBVlV/hH/AKbv4irNCrKr/CP/AE3fxFSVhiREUUREQEREBERAUz5Cfxq2a/5gs3/mNMoYu5Y7pNQ1VNW0sm6qaOohqqeXSx+7np5GywyaJAWO0vY04cCDjiCgs7wwfx3v/wDiKf8AkaVTbaOkln5ILHuIpJtztPK6URMdJu2ubdo2uk0A6Gl80TcntlYOtwVCbXbRVd2rZ7jcJjUVlS5rp5iyOMyOaxsbToha1jcMY0cAOpSXk15Xr/s5FNT2a5vpIJ5N9LCYaWpiMugM3rWVcMjY5C1rAXNwXCNgOdIwF137ZWttPJG6K4076Wapv8NYyCUFszIJWxsjM0bgDE926LtJ46XNzjOBqNvIXP5Itlnsa5zYr5Xb1zQSI9dReA0vI96CS0ZPa4eUKo9oeVG+XCjqqCuuU1VS1lb7oVMczIXulqwxkbZN8Y961rWRRsbG1wY1rGgNAGF3OTrlj2h2ep5KS0XR9LTSSb50DoKSqjEpABextZDJuiQG50YzpGc4QWvBE+v5IN3btT32raB093ijaS/m5EzxI9oGXRNFTRvL+oCB/HxHY4+C7TvpNkeUK41QMNuqbKaGGWTxIqitfBXwxRxOcMOkbLVQM4Zw6pYOsqlOTzlAu2z076mz181FLK0Ml0COSKVrclomgna6KUtLnYLmkjU7GMlbHlF5Xb/tDFHBd7nLU08TtbKdkdPS0+vse+CkijZK9oJAc8Et1OwRk5C14pHN5HXhrnND9pQ14BID2jQ8NcB75uprXYPa0HsC6/gF/wDfd8/5Uuf83bVTPTe5e5HuDzo+5POeec03UGOc9W832733/h1Y9C+bC7aXGxzT1FqqjSTVNLLRTPEcEuulmfHJJFieNwbl0MZ1AB3i8DxKC0eRLk+tb9mr1tdeKOqu8FrqWUcNopZpKUSyFtM6Soq6mEGWOnaKqPizGkRyE6uAFgcob45eSlk1NZTY6aS/RSxUYkrZ2uicHBtUJq5xkkZITgOB08Bhef8Ak15Ub3s2Z/cW4yUYqdO/Zu6eoieWZ0vMNVE+MSDJGoAHHDOFt6rl22nmhucE15mnhu8b4q6KeKkmY+OSIwPZC2SEijaYnEYg3fYesAgLA5Sv+FGxf+a3X+du687KQ3LbS41Nqo7JNVF9rt8ss9HS7uBohlmfLJK8StjEr8vnlOHOIGvhjAxHkBERAREQEREBERB27P8A1mn/AL+L/UarHVcWb+s0/wDfxf6jVY6sJIiIqgiIgIiICvHkpDGtOAA58MPV2jdNxn58nh5FSNPC6R7I2DU97msa0dZc4gAfSVaGwdRNDcKehkaRJFDplwQR97LyMH8pul0f0rV5XnCm9wYnvdeF+WKMascOOMnHXjCmFLTtIHicG8cY6+HDGVE7AcsaeHA4P0lTK2yn5vJhczU7+2ftc+aNaC9zfGIIDeGG54cfK70rSXChZnPAdZ4dvDiVIqt3i8eHBai5MLve9Q4nPkxjt6lnzYNVoXfo2tYSB1j9o6yqZ24ja7LR154enr/erc2pe4NcMcANI7Or5FVl7i4+MM+MCAPp4rXvy28oqFa1o3fiuwNIaPlJJyOHoC0tfBvyGgcG++8hJ4A+XqAHzLcX+PeTyNbn32APLwPHrWoonuY5wcDndu+UgdZ+UEZXQ1x4cHlZeadWjg3bNPaOJ+Ql2P2grMuF2rCJMNaHE8OsAaWuIznHDhj6FzyDxa4OHY5uSD8mQtvGY9NDLGY8/AiIvbGIiICIiAiIgLhuW+Y3uj1LmiKx7lnmN7o9Sm3IlsHDtDd47ZLK6mY+Com3sUcb3gwtaQ3S/hg5UNVxeBz+NdP/AIKu/gYoLO+5EoPzvV/q1Kn3IlB+d6v9WpV6WRRXmn7kSg/O9X+rUqfciUH53q/1alXpZEHmn7kSg/O9X+rUqfciUH53q/1alXpZEHmn7kSg/O9X+rUqfciUH53q/wBWpV6WRB5p+5EoPzvV/q1Kn3IlB+d6v9WpV6WRB5p+5EoPzvV/q1Kn3IlB+d6v9WpV6WRB5p+5EoPzvV/q1Kn3IlB+d6v9WpV6WRB5p+5EoPzvV/q1Kn3IlB+d6v8AVqVelkQeafuRKD871f6tSp9yJQfner/VqVelkQeafuRKD871f6tSp9yJQfner/VqVelkQeafuRKD871f6tSp9yJQfner/VqVelkQeafuRKD871f6tSp9yJQfner/AFalXpZEHmn7kSg/O9X+rUqfciUH53q/1alXpZEHkLlU8GyistnrrpHcaid9HE2RsUlPTtY8uljjw5zeIGHk8PIvOW5Z5je6PUv0D8Jr8U71/h4/5mBeAFUlwETR+S36AuaIqgiIgIiICIiDZbLTMjrqN8pxG2phMh8jN40OPyAZPzK6dorPza+WqqaDmoirad5yMAwRtewDA4niRx81UIvQuz1Xz+02GqJ1y09RVQyuPZJzaWIOcfOIDe8tTkx6l0+BncZa/wBxP/PCytk5oy0HWM54jIwMdeexS+huUAOHSxtd1aS5vzdZyqauGzdRqjEcm5p3uBmk1antYTgiPIwDntcOGc9i0m0HJzUuuIlglPueXSPdK6p1yOZu6cMj0vIcyRj2TnIzqMzfehuFq6tcTEzDo79uUTEVPn8PQ1dUMLdWoEZxkHhx4D9669bVsZF1jJb2/wC6rfYyxTQljXVskrM4cHceAxjVn8rB6x5FF/CIu9bSiCnpHuj3rnNcWniWgHHHsyvPaZlkn7Y/iQ7Z3qnaHh80TXDBLdY/d5cqu7ndaaSJz2yNc3iCQRwUa5NdjWXIy1F3lke0wyiMl7g3fYxG127OtrQTnynTjI4ZjV32QmoWzb2pi0apC2NjnzDBe5zGtDuOA0tblxBwMnisuOmPcy19nI2TMVjcMNRIx8j3xuyWnUB5R+VgejC1d7cWzR4/KZ1+jHEf9eRZKGzTmPf6dBbp4DAB9OOwH6FsLhbHPigqPgxKHj0hpc0j5ws2FNHbjM+/lGbvKx7zHHnIwDnhk57PKNXastvYWxgHhxcceTJ6l0WvDqlo6msIBcO3Ser0nq/Ytu48Twxkk48meKy6o+WPk1jj1fERFnaIiIgIiICIiAiIgK4vA5/Gun/wVd/AxU6ri8Dn8a6f/BV38DFFe5ERFFEREBeevDKjdNNsbSb2oihrtpaWjqebzSwPkgqHRRSs3kTg4Za48exehV5x8Ne2Q1s2xdFUs3lNV7T0tLUR6nM1wVDoopWa2EOblj3DLSCM8EE/2c5DLNQVdPW07rqZqaVs0QmulfPFrYcjXFLKWSN9BCw7W8vVmtlyuVonZXyXC3CkApaanbPNcJa2COohp7dEyXXPLu5AXagxrdJy7qz3uTzkP2d2frPdC0251LV7qSDemrrpxupC0vboqJ3s4ljeOM8FX/JvQxP5VdtJ3xsdNBbrOIZHAF0Qmt1uEu7J96XBoBI44yOolBv+UPaG2Vs2xFZcG7QW6etusbrbRxthpniqL4MU97gkLnNhBDMtYc8XKYcrHKna9mo6c3B88lTWP3dFb6KI1NdWSZa3RBACB757W5c5oJc0ZyQFXnhQ/wDfvJ5/zNH/ABUq1O0m5j5XrY+4YDZdnXR2l8g8TnQkq8sjcfFEml1YADxzK0dbm5C1OTTlMbe55qY2PaKzyQwicG927mEczC8RkQP3rt48EtJGBwPaqv8ACwo+ebR7A26Sapjpa+tusFUymqJqZ0sf/ZXAvhcHcMnB7MlejV588JP8ceTX/Mrr+61IO1th4Pe5ppJ9mb3fbVdYGmWl1XSqno6iVnjNgqo5nk7t+NGc4GvJa8AtO+8HHlX93dmDdrm+OmqLa6opbvK8CCFklHGyaSpcDhsTXU8kcjgMNa4vAwBhWHtptNSWegqblcJ2U9LSxOkke8gZwPFijBP3yZ7sNawcXOc0DJK8dWexXCLki2hrXRSRy3q5e6+6ja9rxb31tuikfp98IXMpppNXUYnA8WnJC96XwjrO58Ek1DfqO1VUzYKbaCttr6eyTPeSI3CqfJrZE8g4e9jR4rydIa4jVbe1sto5SdnKkzObRbQ2ystMsRe7dirpXCZkoYTpMj3voIuoHgeJzhaN3Jpftp9l6WgG1FpdZa6ht7oGU9k3TmQQGnnp42PbVZjcwwsYRgEaXNIHELaeF9Z56XZa1XSN4mrdlrjaLhvtJBlMLo6WQ4ySxrp5IJD14EfzoIL4Vu2lbSbX2qsppZG2zZd1nmuwie8aXXSsle9k0bTiRj6WlibjGfvvDryLU8Ierkrbtsfs7TySR+6N4NyrXROIDrbZojUTwSFrgQybeYHZmL5jWcFpbtRsnyi35sbz7tVs9Rb3aXb2ag2biidbSGY1Ne4wTM0Yzlzh2raeCpfH7UX2S/y7xzLLszZ7DG54IZLXzsFTc52Ajg9s0cjM9rZWdeRgLI2QrLZ012nZBNeJLrFRW91fTzuhdaYojSUjoPc6Nv30TOj3Rdq4FxfjsUK5MvCIqq+93qiqrJe30sNXQU9vjpbRNzqgbUGdspvmZiKU5EZBP5MUpxwXd5Mf+KO3H+XWT+Qt65eDp+OfKSO3n9nOPRu7nx+TiPpQYL94QNRSbXz2g2e8z26moJy6CmtM01ynrIax8HPKdol++2h0bPFmAAJcFftrqxUQQziOWITxRzCKdhjmjEjA/dzRnjHK3OC3sIIVHzOA5WowSBnYsgek+6bzgeU4BPzFXygIiICIiCuPCa/FO9f4eP8AmYF4AXv/AMJr8U71/h4/5mBeAFYSRERVBERAREQEREBWxyHXMGlr6R54wvgrIBnqc97YJcDyYLe8qnW42Mq3Q19MWuLQ6Vkb8HGpj3AFp9HV9AWPbj2xmGxxdnTZE/Hqf5L1zbXiSIMwDkDgeo9h+VdhtjY4eMOHXxwcY6uDQM/OtTYbg1gaHYzgD6O35Vsp79I94hpog44BdI/xY4xniSe0+gcSuXFRD63LrMRMOxTsa1zA1ojja4ANbgAfR6Qqq5f6ln3p+MyNlbjq6jn5+pWOHyyy7rOXasOI4A48gPABVDy8072zMBGlsnVIT4vDPi8Oo8Exxl6nXEYzPzTo7BESvMT26XEZBHDGRx4j0KU1+xMDyJZw+QN8Zoe9zmg9fvS4tGMKrbHtLHSXFrIHteHMa1+slw1N7Qc+KT2q35dot7T+M0NOkHHDTxHWCPQrnFMOGWEzU/CtNuK4R5iZG0NY0tZpAAAOBgehRWef/s/Vk5HOAfq3YOO1dvbe6NlqSPyePAYyQOJ/cVrK54FHIzIIlm4AE50lpzjHZgBbOnFyedsjtUfCK22NpHV73iCesl3Xk+gAfSu8vjWgDAGAvq3McesU5O3Z3ysREXpiEREBERAREQEREBXF4HP410/+Crv4GKnVcHgePDdqqcuIA5lXcSQB7xnaVFe5kWHnUfwkffb6051H8JH32+tRWZFh51H8JH32+tOdR/CR99vrQZlDOVPk0t20jKSO5c5xQzmppnUs76aSObSGh4kj8YOGAQRjB4qW86j+Ej77fWnOo/hI++31oKytPIXbKaogqWV20Dn080U7Gy3mulic+GRsjWyRPfpkjJaAWngQSFK7PsJQ0l5uN+hbKLhdYqeGrc6Quicyliihh0RYwwhkLOI6+KkXOo/hI++31pzqP4SPvt9aCPbZ7C0N3qbVV1jZTNZqwV1EY5DG1tQDGQZGj8I3723gfSupyp8mdq2lghhutO57qWQy0lVDI+CrpJHABzoJ4zkA6WEsdlpMbCQSxpEs51H8JH32+tOdR/CR99vrQQfk65KaKyVLq2Osu9wrDTPoxU3a4T1z2U0kkMr4o2OxGwF9PCchufE6+tZeVLkstu0clBNcDVtlthqHUclHUyUkkbqncb12uLxtX9Hjwc8OPlUz51H8JH32+tOdR/CR99vrQVVS+Dts5v4qirp626vgOqJt2uFbXwsJxnME0m7kacDLXtcDjiFas9JE+J0D4o3wPjMT4XMa6J0Tm6HROjI0ujLSWlpGMHCc6j+Ej77fWnOo/hI++31oKkh8Hazwue2jrdoLfRSOe99robvV09uc55y/7yCXgHiMB4HH5MWLfdlaSttc1mnjcaGaj5i6MPdrEG7ETdMhy7W0AEOOTkArbc6j+Ej77fWnOo/hI++31oNHsJsXQ2W1w2ahic2hgbOxscr3SucKiWWabW93F2p80nzHHUF0eSfk3tuzFHLQ2mOWOCaodVSGaR00jpnRxRE63cQ3RCzDeocT2lSrnUfwkffb6051H8JH32+tBHbPsHQ0l5uN+hbKLhdIqeGrc6Quicymiiii0REYYQyFnEdfFR++cjVsqb2L/FPc7fcHuhNWbbWyUkNwFPo3bK2IAiWPEcYLWlocG8ckkmwudR/CR99vrTnUfwkffb60EE5TuSK23+qpLhUSV9DcqFhip7la6p1FWshcXkw75rTmP75L2ZG9kwRqOZ1bqUQQxQtdI8QxRxB8rzJK8RtDA6SR3F8hAyXHiSSV951H8JH32+tOdR/CR99vrQZkWHnUfwkffb6051H8JH32+tBmRYedR/CR99vrTnUfwkffb60FfeE1+Kd6/wAPH/MwLwAvffhL1DHbKXoB7Cebx8A5pP8AWYOwFeBFYSRERVBERAREQEREBc6eQsex462Oa4dnFpBH7lwRRXpLZm9R1lPDINQEjQRgjOrqc0eUggfSs9ZcpGPjYwSgOzgRte8gNzxkLc6flKpfk+v5izSvdpaX72F+SNEjQSW8OsHGR6QPKrt2PvW/3b3DG9Ba/wB778BpAGT2nr8i4+7VOGX6fQcbkRnjDG65zse6ppquB0oaQ6LeRhpAaG8BqyDnt6+PUqh5TZrvcWNFQx1O2PW4aQA1/EnVnrwAcfSr5utvpo9UssDXDi5wMbXA46gTjrVe7RPoZi8CjaHYIAcSfT4rTnDetZMesesnRzxxyxrtP4eeqGkfSP3kr2tLTkNcfGPZ1dqsPZO5V9VTv3cLt2CAHSAjV1jxR2jiPoXGt2fjllBip9LS/L3aMDGerOMgetb653b3OpssLQGNcCB6Q4DgOo5TPKMvXmXNjD6czN+EC29kayrETSNTGu1uByMjqAPZjP7Fwnc4U8bT1B/X/wCE8M9v/oo9FM6aZ8vv5JHZwRkeM709Zzxx/ZUmuLdMLW+SVwJ8pDeJ+nK29WNU5m7PvctaiItppCIiAiIgIiICIiAiIgLi9gcMEAjyEZH0FckQYubR/Bs7rfUnNo/g2d1vqWVEGLm0fwbO631JzaP4Nndb6llRBi5tH8Gzut9Sc2j+DZ3W+pZUQYubR/Bs7rfUnNo/g2d1vqWVEGLm0fwbO631JzaP4Nndb6llRBi5tH8Gzut9Sc2j+DZ3W+pZUQYubR/Bs7rfUnNo/g2d1vqWVEGLm0fwbO631JzaP4Nndb6llRBi5tH8Gzut9Sc2j+DZ3W+pZUQYubR/Bs7rfUnNo/g2d1vqWVEGLm0fwbO631JzaP4Nndb6llRBi5tH8Gzut9Sc2j+DZ3W+pZUQYubR/Bs7rfUnNo/g2d1vqWVEGNsDAchjAR2hoB+nCyIiAiIgIiICIiAiIgIiIPrOsfKOpXJsvNLbKlsM2t9PUNYYKnSHZkzwjkHU13ADs1asqorbSunmihYCXSSNYAPSQM/IBx+ZekXWyOan3MzA9hAaQR2dWQew9WD2LS5UxcRP7dLga5yjKY+KSdt91RtDmxnIy4nHHhjgAOI4HitDfJKcFx3bA8Z1ENGeJI4ZGDk44eRR250Nwo26qYCsjDSGMLmxzMjAxujqOmTqHjcCodftoq1uSKCdjng5Dy04e4EOw5riNPqC0+n4dOORGMfc7O0e07YnvhIYSQSCwBudAJ8Uflf/ANVTbX3l1TJpc52katPp4uwCBwIyP2elcrnFWPe58jDqHvXOdnQOIPAA/wDrhaJ9O5jsu4u7T5Pkx2LZ164xhzuTyMts16hsbNGIwHdTz1Y/efSpDWtLqUP68Tfscw//AJAqKU7yHgkn1Ka2uRj6Z8bupzMfIesEeQ5AWeMvNy1+t4zCPotGy6GnmkhqJC9owY5A0atJzwe1g6x6AtpSVsUv4ORr/QDxHytPELYibakxXh2ERFUEREBERAREQEREBERAREQEREBERAREQEREBERAREQEREBERAREQEREBERAREQEREBERAREQEREBERAWOombG0ucQAPpPoHlK1d3vjIssjxJJ1Hj4jD/aI6z6B+xR9tQ6R5fI4uc7tP5PoaPyR6EHojwdtld+wXaZ+t0r5Y4Ix+Dp443uY4HHvpnaeLj1DgOsq530+kE+TP7yqF8FXbuOlqXWaseGQ1smuikdwayrIw6Bzjwa2UNaW/2gfOXpe6UYwRjtP/AF8q5PIxyjZPb/P47/Dzw+nj1/3+tI+AuYSOIP0jA6jhaO52tj85APpGPmUlonY8X/ZYK6Icc9ZHyf8AovMT4Z9mFqk2nszQx2mM5+TH7ScKrLpZywuBGOzyntPYvQl7gB1cPk7eztKgN1s+p5JHzjj+zyrJjnTXz0Kfrafd6c4Havvui5oAaeI/2Wz24iDJQ0DGB29efkUQulQYmHz3jDfn6z9C2MPLS3fZNNLc5zJM93Xxx9HD6F1mkjBGQQcgg4I+QjqWQRr6GraiKc+Zvy2VBtBPHgOxM3+3wd3x/vlb2i2ggk4OJid5H+9744fThRAtXzSvSLFY8OGWkEHtBBH0hclXcEr4zljnMP8AZJbn5cda2lJtBOzg/TIP7Qw7vN9SCYItLSbRQu4PDoj5T4zfpHH9i28UjXAOa4OaeotIIPzhBzREQEW/2H2dZc5auE1kdJJT26ur4GvhkndWPoYXTvpImxkFsjoo53avGIELsNd1DrWHZi43Bm8obbcK2Pj99pKSpqYgW8CN7DGWagezOeCDUouxcaGamlMNTBPTTtAc6Gpikp5mgkgF0UzQ8AkHiR2FddAREQEREBERAREQEREBETKAiLsUtBPMyaSKCeWOnYJKiSKKSSOnjcdLZJ3saWwsLuAc4gZQddERAREQEREBERAREQEREBERAREQEREBFiqahkTS6RwY0drjj5h5T6FHLntMTltOMf8AzHDj8rW9nz/QgkFdWxwjVI8N8g63O/RaOJUWu1+km8SPMcZ8h8d3yke9HoH0rVSyue4ue4ucesuJJ/b+5cmDtPWgNGCB5FlYOK4M8q5s/wB0SZZ2PI7SCCCHNOC0g5DgR1HI61608HPlebdY47Vc3tFxjZpgncQ0VkbQAP8A64HWOGeteRys1NO6N7XxvdG9jg9j2Etcx4OQ5rhxBB7Vj2a4zhl07p1z49fL9Dqy3lrgQ3IXRuFIdJI+cFUxyQeEUzRHRX8aXNAay4sBLXjqHOWNBLHYx448Xgc6V6BjnpqynE1LNFNE9upskbg9j+GQWubkOC5+eqcPbuauRGfqbV7Xwg5H7McB1dS6MllLmOcB2Z/YpcyiDnaSOHb2/Lg+hZto6ylt1vqKurlbDTQRkySP6w3hpa1o4vkcSA1o4knCx44zMs2WVeZeW+USjZE6aom8SOPAB6tTuOlrQffEnyKnqud08hkcMDqa3sa0dQCk3KRta+8VbptJgpWOcKanOMsaT7+Ujg6Zw4k9QzgcOJjLupdPVr6xc+3B5O7vlNemIoFzcuJWRrPmF8wuS+Kpb5hfHhcwvhCPTEVnoqySF2qNxb5R+S70Ob1FY3DtXEBBYyIiC++SDb3mVNQ3W9y2+tpaAMsVooqejopr9SvwwGobIGsliom0hka7L3GQlg06nAv6XL7tWx9ZdqWYX+23Siq4aa300dwDrKaOKT+ttpWMjdTGal0yNDdeTJF4wAcFDNhaaOtsl/oY6SmluUAo7tSTbkOr3UtLLouUNPN74BkLo5RG3i4On4HhiI7ypuFUzVJPW1lXLDCx80r5p6iaQsggYZpnEvcSY2DUerSOACKm2xW1r7i+Cx36eWtt9XI2npquocZ66z1c7t3T1lJVSZlMG9dG2SF7iwszgDBDoLeqCSjqKmlnAE9JPPTTNGcCWnkfFIGkgEt1sOD2jCtDZzkuuJoqxrLLXs2jtd2t0jHVBZHQSUUrZODDL/RqoR1FPqe5riNEzCCQHNMR5Y6hk95r547jSXY1BZLJW0NO6kpJZnQsD2wROkkyxpaBrD36+LskkoJdfeSm3Wo0TrxtJFRxV9FTVUDYrdU1VRrlaTNvIoZCIaWMmPEzjmQl4DW6CTrqzkfrWbQOsLaineG0wuDri7MdMy2acvrpGai5gDvvegE+OQNWk6xm8Juuhqa20up5op2t2WtUZdC9krWyCSvcYyWEgP0vYdPXh7fKrSuW21BS7VDe1tLHS3LY2ktgr/vNTTUlS9880LqkO1RGHTjU14LfvkerDSSiKfrdhLfUUVfV2O+e6z7VAKmuppbfPbpDSai2StpHTSOE0TDxcw4c1uCTkta7U8oWxxtEFnmNQKj3WtFPdNIi3XNzO0O3Gdbt6Ggt8fxc8fFCsnaKK+0VBcH1t52UpKeegqqbTb4rOaq6xzR4fR0Yo6JsxZKOGslmnxXEDGW8dstn27SWjZuqobnaIGWyyQ2y5ivrWUr6GamZG1z5I3NLnRnEhHUSAwt1B+QVpaXkZdJfaCyC4jVW2SO8c4FKSIzI2cc2ERnGv75B+E1N4P8Ae8OPVtvJZBWVcVuoL7S1dbE2aa8ObS1MdutVNTtbv5m3CQhleGyuEY3YbqLgToAcRblNe6Bu3dnmir6V9GzZCGFlUZomRkt5/I1r3F2I5TCWv0HiA4cFTPg83ukp33K3XCoZRU98slTa+eyeLHSTyx6Y3zOPBkRDpAXEgAhmcDJBHYk5NqCspa2awX5t3qLbTuqqqikt9Tb5paaM4lqKIzPdv2t8wDPFvHLmh3KHkyoobVabzdL8ygo7nHM7dsoKisqmyxyYjigigeTMwxhz3ykNDCGNw8vGJNye2Loe64Xe7V9qe91qqqK30VBWMrJq+oqXQlrmNY0FtK0xNy9w4CTJDdPGM8qVZC/ZnYiGKaKSSno7uyZjHse+ImoomtErGnMZJjfjVjOh3kQd6/cklvtc0XuttNTU1FWtjktdRBQ1NTLVwSMY41M8Eb9NDTsMjBrc9wdxI04ONezkcrPd+ssclTBFHQU5raq6SNcKWO37tkgqjHqyHHeBu7LhhzJPG0tL198IqtinptmRBNFMY9k7fHIIntkMcgY8GN4YTokyD4pweCtTa/aW3TbTbQ26W4UsFPf9nKa2w3HeMkpYKrcSmJs8rHaWRubUEkkgeKwflhBXOz/JRbrsax1n2kZVx0NFUVM7ZrbU0lSHxtzDu4p5AJaWRweDIDmMhgLXawRvaTZaxP2Kje+9xRMdfWvfdvcSskmjqHUADrZuGu3742tJdvQ7dnHVldrka2RGz9XdZbrdLOyolsNwgpqamr4qh0jHGKWaokdhoijG4jDA7Dn65DpG7KjvJ/SsvGx89ip6uigukF8ZcmU9bUR0nOKU0ccBdA+Tg9zXl+R2aBnGpuStNbOTqjht9Nc75em2qmuDpvcyGOhnr6ysgiIBq3QRPBp6fBa7jnhJHxBc0Gb8k+zMEdLtrQU13oKulmstue26t1w0sUMpuDpH1cbsvp5Imte58eXEAN7TgdK/WZu1FosDLfXW2K4WKhNpuFBWVcVO/FPuoo6umfksnp37gu1tJaRI3jlpC6+x1DT2m3bbULrpbqyR9joQJKOcPgfUufWtlpKeR+nnT43PiaXMGMytGAcgERy7cnlE+0Vl2st7F2ZbHwNuMElvqLdLEyodojqIW1Dy6SLJPAgcI5OOWFqrpWfyT10MWzu20ck0Uck1FaWwse9jHzOFRWAiJjjmQgvZkNzjW3yqsEBERAREQEREBERAREQEREBERAWpvl5bB4jcPlIzj8lueou9S7lzqxDGXflHxWDyu9Q61BJWuL3ayS4klx8pPHKEy+1c8kztUjy53ZnqA8jR1NHyL5FH5VyYxZQjzb5p9CBqyL4ULfAF8K5AoUQC5YXFq5hBxK22y21dwtT9dvrZ6Yk+NGx33mTy7yB+Y3nh1kZWpeuLipMX7escpifHheOx/hDVUTg250rZ28A6elIil7PfQyO0P4Z6nN+RQvli5TqraKoG8Bp6CB2aWiactacY385HCSpI7epoJDe0ugIGFw6z6F4x14xNxDNlytmWPWZc3FfB1JlfXrIwOLl8X1/YiI+EIAvq+FAC+oetAg49nzrivresj0ri7rA9KLaxUREenbs1znoqiGrpJn09VTyCWCeMgPjeARkZBBBaXNLXAtc1zmkEEgzKXamyVrt/cLHPS1hcJJKiw1zaKGeXOS/mFVBLFSuJwSYXAEknAKgSIL/5KeVx4qTaKBtNaKOqguL2196uNVcZoriaOR9JVTVVW9sEcRmiiDoGxaSZHEEuJ1U/tbtG2vjo2C22qhlpWzsmntlLHRiudK9jmyTxwgR5YGYbpAH3x+MAho0CIr4AgC+oiPgaB1ABC0deBlfUQfMDyL6iIPgaB1AD5EwvqIN1atk7hVU5qqejllgG+Ie3dh0u4bqnMETnCSq0N98Ymu04OcYWNuzFcaM3AUkvMxG6YzeIPvDZN06oEWreuphIdJmDdAIILuBU75O9prXRNtMk0scMlKKxlaJLa6vrHSVMlU2OajrJHFlDRthngLmQBkuqGfxZDLqWjuVfbpqenmdXVrJ6axUtmNDSxOhfO+kp20Rc6rfmL3MniaZXxOGsmR7NPHUg0l02OuFJC2aegmijc+KPqY57JZ2l8Ec0EbjLTyvAOlkjWudjgCthdOT+vpqPnFTTyxzOuVJbIaQRtmknmqoK2Uta6GR2mpY+kZGact15qWZ08A6dDbi1UslVPTyQytN2s1zpaWO1up53wWy4mpdTV1ymc+esuBhkH3yV7otUL3B+ZNI1ezW09rs7onQ1dTcsX+C5SA0j4C2j9zbxQPdid+JLgx1wje4cGOLGBrzxLQhtRsTcmzw0rqCZ09QyeSnjj3c++FMxz6kRPhc5kkkbWkuYDqbkAgFwBy1+wl1giknloJWwwwuqHSh8D2GCNuuWeExyHnETG8Xui1Bgzq0qUja6jpo46WGanfG2nvzy+3Wz3LpW1Nwsc1rpA2J2Z5J3PLN5IdLGtEQGvSXLWWbaalidaC9zw2i2fvlumxGTpqrh0g3DWD8ph90aXLhwGXZ96gi9VYKuKSqjkppGSUMTJqtrtP8AR4pHQMje85xpc6ppwME53rcZWuVj7bXHd2K2skjmhuV0pqOOvbMxzHSW+wyVVNa5y2TD9NQ2SA6yPG9ymkEgjNcICIiAiIgIiICIiAiIgIiICIurdandQySdobw/SPBv7SEGgvtVvJSBxbHljflHvj9PD/wrWy8flH7li3q4GVHmWZfcLrslX3eoOwuLjwWAyrg6XsQdhrsYXPK628TeIjs5X3UusHr46RCnYLlxcVgEia0Vn1LiSsWtC5CIZgV9JWDUmtFplcepMrE53ampEplymVhL0D0IhmBXEO4rEHIXItObzh2fLhcZPfD5Vwe7qXxzuIRVlooZ0rn8yHuv9tOlc/mQ91/tqLSZooZ0rn8yHuv9tOlc/mQ91/toUmaKGdK5/Mh7r/bTpXP5kPdf7aFJmihnSufzIe6/206Vz+ZD3X+2hSZooZ0rn8yHuv8AbTpXP5kPdf7aFJmihnSufzIe6/206Vz+ZD3X+2hSZooZ0rn8yHuv9tOlc/mQ91/toUmaKGdK5/Mh7r/bTpXP5kPdf7aFJmihnSufzIe6/wBtOlc/mQ91/toUmaKGdK5/Mh7r/bTpXP5kPdf7aFJo4knJJJwBknJwAGgZPYAAPkAXxQzpXP5kPdf7adK5/Mh7r/bQpM0UM6Vz+ZD3X+2nSufzIe6/20KTNFDOlc/mQ91/tp0rn8yHuv8AbQpM0UM6Vz+ZD3X+2nSufzIe6/20KTNFDOlc/mQ91/tp0rn8yHuv9tCkzRQzpXP5kPdf7adK5/Mh7r/bQpM0UM6Vz+ZD3X+2nSufzIe6/wBtCkzUd23qMRxR+e4uPyMHD9p/Ytd0rn8yHuv9ta67XN9S5rpAwFo0jQHAYznjknillOvqXzUseUyhTJqTUseUyhTmXICuGUyhTJqTUseUyhTJqTUseUyhTJqTUseUyhTJqTUseUyhTJqTUseUyhTJqX3WsWUyhTJqTUseUyhTJqXwuXDKZQpzz2L5lccplCnxERRRERAREQEREBERAREQEREBERAREQEREBERAREQEREBERAREQEREBERAREQEREBERAREQEREBERAREQEREBERAREQEREBERAREQEREBERAREQEREBERAREQEREBERAREQEREBERAREQEREBERAREQEREBERAREQEREBERAREQEREBERAREQEREBERAREQEREBERAREQEREBERAREQEREBERAREQEREBERAREQEREBERAREQEREBERAREQEREBERAREQEREBERAREQEREBERAREQEREBERAREQEREBERAREQf//Z\n"
              }
            ],
            "_view_module": "@jupyter-widgets/output",
            "_model_module_version": "1.0.0",
            "_view_count": null,
            "_view_module_version": "1.0.0",
            "layout": "IPY_MODEL_f7ac3d1d75e94a3fa835e9dd4e2b23f8",
            "_model_module": "@jupyter-widgets/output"
          }
        },
        "90c0201562034c0da7a61c18eddab9f1": {
          "model_module": "@jupyter-widgets/output",
          "model_name": "OutputModel",
          "state": {
            "_view_name": "OutputView",
            "msg_id": "",
            "_dom_classes": [],
            "_model_name": "OutputModel",
            "outputs": [
              {
                "output_type": "stream",
                "metadata": {
                  "tags": []
                },
                "text": "Video available at https://www.bilibili.com/video/BV1TP4y147pJ\n",
                "stream": "stdout"
              },
              {
                "output_type": "display_data",
                "metadata": {
                  "tags": []
                },
                "text/html": "\n        <iframe\n            width=\"854\"\n            height=\"480\"\n            src=\"https://player.bilibili.com/player.html?bvid=BV1TP4y147pJ&page=1?fs=1\"\n            frameborder=\"0\"\n            allowfullscreen\n        ></iframe>\n        ",
                "text/plain": "<__main__.BiliVideo at 0x7fe8ed913f50>"
              }
            ],
            "_view_module": "@jupyter-widgets/output",
            "_model_module_version": "1.0.0",
            "_view_count": null,
            "_view_module_version": "1.0.0",
            "layout": "IPY_MODEL_feee3b943563490b83426767060c12f0",
            "_model_module": "@jupyter-widgets/output"
          }
        },
        "f7ac3d1d75e94a3fa835e9dd4e2b23f8": {
          "model_module": "@jupyter-widgets/base",
          "model_name": "LayoutModel",
          "state": {
            "_view_name": "LayoutView",
            "grid_template_rows": null,
            "right": null,
            "justify_content": null,
            "_view_module": "@jupyter-widgets/base",
            "overflow": null,
            "_model_module_version": "1.2.0",
            "_view_count": null,
            "flex_flow": null,
            "width": null,
            "min_width": null,
            "border": null,
            "align_items": null,
            "bottom": null,
            "_model_module": "@jupyter-widgets/base",
            "top": null,
            "grid_column": null,
            "overflow_y": null,
            "overflow_x": null,
            "grid_auto_flow": null,
            "grid_area": null,
            "grid_template_columns": null,
            "flex": null,
            "_model_name": "LayoutModel",
            "justify_items": null,
            "grid_row": null,
            "max_height": null,
            "align_content": null,
            "visibility": null,
            "align_self": null,
            "height": null,
            "min_height": null,
            "padding": null,
            "grid_auto_rows": null,
            "grid_gap": null,
            "max_width": null,
            "order": null,
            "_view_module_version": "1.2.0",
            "grid_template_areas": null,
            "object_position": null,
            "object_fit": null,
            "grid_auto_columns": null,
            "margin": null,
            "display": null,
            "left": null
          }
        },
        "feee3b943563490b83426767060c12f0": {
          "model_module": "@jupyter-widgets/base",
          "model_name": "LayoutModel",
          "state": {
            "_view_name": "LayoutView",
            "grid_template_rows": null,
            "right": null,
            "justify_content": null,
            "_view_module": "@jupyter-widgets/base",
            "overflow": null,
            "_model_module_version": "1.2.0",
            "_view_count": null,
            "flex_flow": null,
            "width": null,
            "min_width": null,
            "border": null,
            "align_items": null,
            "bottom": null,
            "_model_module": "@jupyter-widgets/base",
            "top": null,
            "grid_column": null,
            "overflow_y": null,
            "overflow_x": null,
            "grid_auto_flow": null,
            "grid_area": null,
            "grid_template_columns": null,
            "flex": null,
            "_model_name": "LayoutModel",
            "justify_items": null,
            "grid_row": null,
            "max_height": null,
            "align_content": null,
            "visibility": null,
            "align_self": null,
            "height": null,
            "min_height": null,
            "padding": null,
            "grid_auto_rows": null,
            "grid_gap": null,
            "max_width": null,
            "order": null,
            "_view_module_version": "1.2.0",
            "grid_template_areas": null,
            "object_position": null,
            "object_fit": null,
            "grid_auto_columns": null,
            "margin": null,
            "display": null,
            "left": null
          }
        },
        "cc76f7869e6946d9b2a2522324831528": {
          "model_module": "@jupyter-widgets/controls",
          "model_name": "TabModel",
          "state": {
            "_view_name": "TabView",
            "_dom_classes": [],
            "_titles": {
              "0": "Youtube",
              "1": "Bilibili"
            },
            "_model_name": "TabModel",
            "_view_module": "@jupyter-widgets/controls",
            "selected_index": 0,
            "_model_module_version": "1.5.0",
            "_view_count": null,
            "_view_module_version": "1.5.0",
            "box_style": "",
            "layout": "IPY_MODEL_135fc01473024a2a92e5c157cf37a6c4",
            "_model_module": "@jupyter-widgets/controls",
            "children": [
              "IPY_MODEL_2ddc191185e14248a9df97df5b9340d8",
              "IPY_MODEL_562ccd6583994b57b3be302052287656"
            ]
          }
        },
        "135fc01473024a2a92e5c157cf37a6c4": {
          "model_module": "@jupyter-widgets/base",
          "model_name": "LayoutModel",
          "state": {
            "_view_name": "LayoutView",
            "grid_template_rows": null,
            "right": null,
            "justify_content": null,
            "_view_module": "@jupyter-widgets/base",
            "overflow": null,
            "_model_module_version": "1.2.0",
            "_view_count": null,
            "flex_flow": null,
            "width": null,
            "min_width": null,
            "border": null,
            "align_items": null,
            "bottom": null,
            "_model_module": "@jupyter-widgets/base",
            "top": null,
            "grid_column": null,
            "overflow_y": null,
            "overflow_x": null,
            "grid_auto_flow": null,
            "grid_area": null,
            "grid_template_columns": null,
            "flex": null,
            "_model_name": "LayoutModel",
            "justify_items": null,
            "grid_row": null,
            "max_height": null,
            "align_content": null,
            "visibility": null,
            "align_self": null,
            "height": null,
            "min_height": null,
            "padding": null,
            "grid_auto_rows": null,
            "grid_gap": null,
            "max_width": null,
            "order": null,
            "_view_module_version": "1.2.0",
            "grid_template_areas": null,
            "object_position": null,
            "object_fit": null,
            "grid_auto_columns": null,
            "margin": null,
            "display": null,
            "left": null
          }
        },
        "2ddc191185e14248a9df97df5b9340d8": {
          "model_module": "@jupyter-widgets/output",
          "model_name": "OutputModel",
          "state": {
            "_view_name": "OutputView",
            "msg_id": "",
            "_dom_classes": [],
            "_model_name": "OutputModel",
            "outputs": [
              {
                "output_type": "stream",
                "metadata": {
                  "tags": []
                },
                "text": "Video available at https://youtube.com/watch?v=8-5RM0k3IKE\n",
                "stream": "stdout"
              },
              {
                "output_type": "display_data",
                "metadata": {
                  "tags": []
                },
                "text/html": "\n        <iframe\n            width=\"854\"\n            height=\"480\"\n            src=\"https://www.youtube.com/embed/8-5RM0k3IKE?fs=1&rel=0\"\n            frameborder=\"0\"\n            allowfullscreen\n        ></iframe>\n        ",
                "text/plain": "<IPython.lib.display.YouTubeVideo at 0x7fe8ed88d350>",
                "image/jpeg": "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\n"
              }
            ],
            "_view_module": "@jupyter-widgets/output",
            "_model_module_version": "1.0.0",
            "_view_count": null,
            "_view_module_version": "1.0.0",
            "layout": "IPY_MODEL_5d29b2c0a05a4dd28b44eab5c4d4b2d7",
            "_model_module": "@jupyter-widgets/output"
          }
        },
        "562ccd6583994b57b3be302052287656": {
          "model_module": "@jupyter-widgets/output",
          "model_name": "OutputModel",
          "state": {
            "_view_name": "OutputView",
            "msg_id": "",
            "_dom_classes": [],
            "_model_name": "OutputModel",
            "outputs": [
              {
                "output_type": "stream",
                "metadata": {
                  "tags": []
                },
                "text": "Video available at https://www.bilibili.com/video/BV1uL411H7ZE\n",
                "stream": "stdout"
              },
              {
                "output_type": "display_data",
                "metadata": {
                  "tags": []
                },
                "text/html": "\n        <iframe\n            width=\"854\"\n            height=\"480\"\n            src=\"https://player.bilibili.com/player.html?bvid=BV1uL411H7ZE&page=1?fs=1\"\n            frameborder=\"0\"\n            allowfullscreen\n        ></iframe>\n        ",
                "text/plain": "<__main__.BiliVideo at 0x7fe8ed88d050>"
              }
            ],
            "_view_module": "@jupyter-widgets/output",
            "_model_module_version": "1.0.0",
            "_view_count": null,
            "_view_module_version": "1.0.0",
            "layout": "IPY_MODEL_71f46039255746c2be8b0cf4ef70df28",
            "_model_module": "@jupyter-widgets/output"
          }
        },
        "5d29b2c0a05a4dd28b44eab5c4d4b2d7": {
          "model_module": "@jupyter-widgets/base",
          "model_name": "LayoutModel",
          "state": {
            "_view_name": "LayoutView",
            "grid_template_rows": null,
            "right": null,
            "justify_content": null,
            "_view_module": "@jupyter-widgets/base",
            "overflow": null,
            "_model_module_version": "1.2.0",
            "_view_count": null,
            "flex_flow": null,
            "width": null,
            "min_width": null,
            "border": null,
            "align_items": null,
            "bottom": null,
            "_model_module": "@jupyter-widgets/base",
            "top": null,
            "grid_column": null,
            "overflow_y": null,
            "overflow_x": null,
            "grid_auto_flow": null,
            "grid_area": null,
            "grid_template_columns": null,
            "flex": null,
            "_model_name": "LayoutModel",
            "justify_items": null,
            "grid_row": null,
            "max_height": null,
            "align_content": null,
            "visibility": null,
            "align_self": null,
            "height": null,
            "min_height": null,
            "padding": null,
            "grid_auto_rows": null,
            "grid_gap": null,
            "max_width": null,
            "order": null,
            "_view_module_version": "1.2.0",
            "grid_template_areas": null,
            "object_position": null,
            "object_fit": null,
            "grid_auto_columns": null,
            "margin": null,
            "display": null,
            "left": null
          }
        },
        "71f46039255746c2be8b0cf4ef70df28": {
          "model_module": "@jupyter-widgets/base",
          "model_name": "LayoutModel",
          "state": {
            "_view_name": "LayoutView",
            "grid_template_rows": null,
            "right": null,
            "justify_content": null,
            "_view_module": "@jupyter-widgets/base",
            "overflow": null,
            "_model_module_version": "1.2.0",
            "_view_count": null,
            "flex_flow": null,
            "width": null,
            "min_width": null,
            "border": null,
            "align_items": null,
            "bottom": null,
            "_model_module": "@jupyter-widgets/base",
            "top": null,
            "grid_column": null,
            "overflow_y": null,
            "overflow_x": null,
            "grid_auto_flow": null,
            "grid_area": null,
            "grid_template_columns": null,
            "flex": null,
            "_model_name": "LayoutModel",
            "justify_items": null,
            "grid_row": null,
            "max_height": null,
            "align_content": null,
            "visibility": null,
            "align_self": null,
            "height": null,
            "min_height": null,
            "padding": null,
            "grid_auto_rows": null,
            "grid_gap": null,
            "max_width": null,
            "order": null,
            "_view_module_version": "1.2.0",
            "grid_template_areas": null,
            "object_position": null,
            "object_fit": null,
            "grid_auto_columns": null,
            "margin": null,
            "display": null,
            "left": null
          }
        },
        "c4a27ecb95c14e76aa2d3aae8939d80f": {
          "model_module": "@jupyter-widgets/controls",
          "model_name": "VBoxModel",
          "state": {
            "_view_name": "VBoxView",
            "_dom_classes": [
              "widget-interact"
            ],
            "_model_name": "VBoxModel",
            "_view_module": "@jupyter-widgets/controls",
            "_model_module_version": "1.5.0",
            "_view_count": null,
            "_view_module_version": "1.5.0",
            "box_style": "",
            "layout": "IPY_MODEL_888eab990d1040618790efcca3b6889e",
            "_model_module": "@jupyter-widgets/controls",
            "children": [
              "IPY_MODEL_35ca85d51dc94de2a527c4898bf3fd30",
              "IPY_MODEL_540b340a97324a378d8a9b9701fe7855"
            ]
          }
        },
        "888eab990d1040618790efcca3b6889e": {
          "model_module": "@jupyter-widgets/base",
          "model_name": "LayoutModel",
          "state": {
            "_view_name": "LayoutView",
            "grid_template_rows": null,
            "right": null,
            "justify_content": null,
            "_view_module": "@jupyter-widgets/base",
            "overflow": null,
            "_model_module_version": "1.2.0",
            "_view_count": null,
            "flex_flow": null,
            "width": null,
            "min_width": null,
            "border": null,
            "align_items": null,
            "bottom": null,
            "_model_module": "@jupyter-widgets/base",
            "top": null,
            "grid_column": null,
            "overflow_y": null,
            "overflow_x": null,
            "grid_auto_flow": null,
            "grid_area": null,
            "grid_template_columns": null,
            "flex": null,
            "_model_name": "LayoutModel",
            "justify_items": null,
            "grid_row": null,
            "max_height": null,
            "align_content": null,
            "visibility": null,
            "align_self": null,
            "height": null,
            "min_height": null,
            "padding": null,
            "grid_auto_rows": null,
            "grid_gap": null,
            "max_width": null,
            "order": null,
            "_view_module_version": "1.2.0",
            "grid_template_areas": null,
            "object_position": null,
            "object_fit": null,
            "grid_auto_columns": null,
            "margin": null,
            "display": null,
            "left": null
          }
        },
        "35ca85d51dc94de2a527c4898bf3fd30": {
          "model_module": "@jupyter-widgets/controls",
          "model_name": "FloatSliderModel",
          "state": {
            "_view_name": "FloatSliderView",
            "style": "IPY_MODEL_1ad8e9b85925455f8c8a74106322d4f3",
            "_dom_classes": [],
            "description": "p(s = left)",
            "step": 0.01,
            "_model_name": "FloatSliderModel",
            "orientation": "horizontal",
            "max": 1,
            "_view_module": "@jupyter-widgets/controls",
            "_model_module_version": "1.5.0",
            "value": 0.4,
            "_view_count": null,
            "disabled": false,
            "_view_module_version": "1.5.0",
            "min": 0,
            "continuous_update": true,
            "readout_format": ".2f",
            "description_tooltip": null,
            "readout": true,
            "_model_module": "@jupyter-widgets/controls",
            "layout": "IPY_MODEL_fdc9c635163a4fd5b33908f0c6721fa5"
          }
        },
        "540b340a97324a378d8a9b9701fe7855": {
          "model_module": "@jupyter-widgets/output",
          "model_name": "OutputModel",
          "state": {
            "_view_name": "OutputView",
            "msg_id": "",
            "_dom_classes": [],
            "_model_name": "OutputModel",
            "outputs": [
              {
                "output_type": "display_data",
                "metadata": {
                  "tags": [],
                  "image/png": {
                    "width": 674,
                    "height": 277
                  },
                  "needs_background": "light"
                },
                "image/png": "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\n",
                "text/plain": "<Figure size 1224x216 with 3 Axes>"
              }
            ],
            "_view_module": "@jupyter-widgets/output",
            "_model_module_version": "1.0.0",
            "_view_count": null,
            "_view_module_version": "1.0.0",
            "layout": "IPY_MODEL_3b0ee5c88c4d421b8c87981d0e5636dd",
            "_model_module": "@jupyter-widgets/output"
          }
        },
        "1ad8e9b85925455f8c8a74106322d4f3": {
          "model_module": "@jupyter-widgets/controls",
          "model_name": "SliderStyleModel",
          "state": {
            "_view_name": "StyleView",
            "handle_color": null,
            "_model_name": "SliderStyleModel",
            "description_width": "",
            "_view_module": "@jupyter-widgets/base",
            "_model_module_version": "1.5.0",
            "_view_count": null,
            "_view_module_version": "1.2.0",
            "_model_module": "@jupyter-widgets/controls"
          }
        },
        "fdc9c635163a4fd5b33908f0c6721fa5": {
          "model_module": "@jupyter-widgets/base",
          "model_name": "LayoutModel",
          "state": {
            "_view_name": "LayoutView",
            "grid_template_rows": null,
            "right": null,
            "justify_content": null,
            "_view_module": "@jupyter-widgets/base",
            "overflow": null,
            "_model_module_version": "1.2.0",
            "_view_count": null,
            "flex_flow": null,
            "width": null,
            "min_width": null,
            "border": null,
            "align_items": null,
            "bottom": null,
            "_model_module": "@jupyter-widgets/base",
            "top": null,
            "grid_column": null,
            "overflow_y": null,
            "overflow_x": null,
            "grid_auto_flow": null,
            "grid_area": null,
            "grid_template_columns": null,
            "flex": null,
            "_model_name": "LayoutModel",
            "justify_items": null,
            "grid_row": null,
            "max_height": null,
            "align_content": null,
            "visibility": null,
            "align_self": null,
            "height": null,
            "min_height": null,
            "padding": null,
            "grid_auto_rows": null,
            "grid_gap": null,
            "max_width": null,
            "order": null,
            "_view_module_version": "1.2.0",
            "grid_template_areas": null,
            "object_position": null,
            "object_fit": null,
            "grid_auto_columns": null,
            "margin": null,
            "display": null,
            "left": null
          }
        },
        "3b0ee5c88c4d421b8c87981d0e5636dd": {
          "model_module": "@jupyter-widgets/base",
          "model_name": "LayoutModel",
          "state": {
            "_view_name": "LayoutView",
            "grid_template_rows": null,
            "right": null,
            "justify_content": null,
            "_view_module": "@jupyter-widgets/base",
            "overflow": null,
            "_model_module_version": "1.2.0",
            "_view_count": null,
            "flex_flow": null,
            "width": null,
            "min_width": null,
            "border": null,
            "align_items": null,
            "bottom": null,
            "_model_module": "@jupyter-widgets/base",
            "top": null,
            "grid_column": null,
            "overflow_y": null,
            "overflow_x": null,
            "grid_auto_flow": null,
            "grid_area": null,
            "grid_template_columns": null,
            "flex": null,
            "_model_name": "LayoutModel",
            "justify_items": null,
            "grid_row": null,
            "max_height": null,
            "align_content": null,
            "visibility": null,
            "align_self": null,
            "height": null,
            "min_height": null,
            "padding": null,
            "grid_auto_rows": null,
            "grid_gap": null,
            "max_width": null,
            "order": null,
            "_view_module_version": "1.2.0",
            "grid_template_areas": null,
            "object_position": null,
            "object_fit": null,
            "grid_auto_columns": null,
            "margin": null,
            "display": null,
            "left": null
          }
        },
        "f58759f799e440cfa30a1d8ffa674c2f": {
          "model_module": "@jupyter-widgets/controls",
          "model_name": "TabModel",
          "state": {
            "_view_name": "TabView",
            "_dom_classes": [],
            "_titles": {
              "0": "Youtube",
              "1": "Bilibili"
            },
            "_model_name": "TabModel",
            "_view_module": "@jupyter-widgets/controls",
            "selected_index": 0,
            "_model_module_version": "1.5.0",
            "_view_count": null,
            "_view_module_version": "1.5.0",
            "box_style": "",
            "layout": "IPY_MODEL_6c5c06479cd34baa836afa10521cfa9b",
            "_model_module": "@jupyter-widgets/controls",
            "children": [
              "IPY_MODEL_fa63e543436f4013978ff2e0f1f63dc2",
              "IPY_MODEL_8a7e52ab44cb4f26b35ab8baa3c67f52"
            ]
          }
        },
        "6c5c06479cd34baa836afa10521cfa9b": {
          "model_module": "@jupyter-widgets/base",
          "model_name": "LayoutModel",
          "state": {
            "_view_name": "LayoutView",
            "grid_template_rows": null,
            "right": null,
            "justify_content": null,
            "_view_module": "@jupyter-widgets/base",
            "overflow": null,
            "_model_module_version": "1.2.0",
            "_view_count": null,
            "flex_flow": null,
            "width": null,
            "min_width": null,
            "border": null,
            "align_items": null,
            "bottom": null,
            "_model_module": "@jupyter-widgets/base",
            "top": null,
            "grid_column": null,
            "overflow_y": null,
            "overflow_x": null,
            "grid_auto_flow": null,
            "grid_area": null,
            "grid_template_columns": null,
            "flex": null,
            "_model_name": "LayoutModel",
            "justify_items": null,
            "grid_row": null,
            "max_height": null,
            "align_content": null,
            "visibility": null,
            "align_self": null,
            "height": null,
            "min_height": null,
            "padding": null,
            "grid_auto_rows": null,
            "grid_gap": null,
            "max_width": null,
            "order": null,
            "_view_module_version": "1.2.0",
            "grid_template_areas": null,
            "object_position": null,
            "object_fit": null,
            "grid_auto_columns": null,
            "margin": null,
            "display": null,
            "left": null
          }
        },
        "fa63e543436f4013978ff2e0f1f63dc2": {
          "model_module": "@jupyter-widgets/output",
          "model_name": "OutputModel",
          "state": {
            "_view_name": "OutputView",
            "msg_id": "",
            "_dom_classes": [],
            "_model_name": "OutputModel",
            "outputs": [
              {
                "output_type": "stream",
                "metadata": {
                  "tags": []
                },
                "text": "Video available at https://youtube.com/watch?v=GHQbmsEyQjE\n",
                "stream": "stdout"
              },
              {
                "output_type": "display_data",
                "metadata": {
                  "tags": []
                },
                "text/html": "\n        <iframe\n            width=\"854\"\n            height=\"480\"\n            src=\"https://www.youtube.com/embed/GHQbmsEyQjE?fs=1&rel=0\"\n            frameborder=\"0\"\n            allowfullscreen\n        ></iframe>\n        ",
                "text/plain": "<IPython.lib.display.YouTubeVideo at 0x7fe8ed926290>",
                "image/jpeg": "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\n"
              }
            ],
            "_view_module": "@jupyter-widgets/output",
            "_model_module_version": "1.0.0",
            "_view_count": null,
            "_view_module_version": "1.0.0",
            "layout": "IPY_MODEL_a7971a8ee49147f988c48901fdfcab60",
            "_model_module": "@jupyter-widgets/output"
          }
        },
        "8a7e52ab44cb4f26b35ab8baa3c67f52": {
          "model_module": "@jupyter-widgets/output",
          "model_name": "OutputModel",
          "state": {
            "_view_name": "OutputView",
            "msg_id": "",
            "_dom_classes": [],
            "_model_name": "OutputModel",
            "outputs": [
              {
                "output_type": "stream",
                "metadata": {
                  "tags": []
                },
                "text": "Video available at https://www.bilibili.com/video/BV1po4y1D7Fu\n",
                "stream": "stdout"
              },
              {
                "output_type": "display_data",
                "metadata": {
                  "tags": []
                },
                "text/html": "\n        <iframe\n            width=\"854\"\n            height=\"480\"\n            src=\"https://player.bilibili.com/player.html?bvid=BV1po4y1D7Fu&page=1?fs=1\"\n            frameborder=\"0\"\n            allowfullscreen\n        ></iframe>\n        ",
                "text/plain": "<__main__.BiliVideo at 0x7fe8ed9ca0d0>"
              }
            ],
            "_view_module": "@jupyter-widgets/output",
            "_model_module_version": "1.0.0",
            "_view_count": null,
            "_view_module_version": "1.0.0",
            "layout": "IPY_MODEL_e9ab2e9527ad48ee828490268fb56708",
            "_model_module": "@jupyter-widgets/output"
          }
        },
        "a7971a8ee49147f988c48901fdfcab60": {
          "model_module": "@jupyter-widgets/base",
          "model_name": "LayoutModel",
          "state": {
            "_view_name": "LayoutView",
            "grid_template_rows": null,
            "right": null,
            "justify_content": null,
            "_view_module": "@jupyter-widgets/base",
            "overflow": null,
            "_model_module_version": "1.2.0",
            "_view_count": null,
            "flex_flow": null,
            "width": null,
            "min_width": null,
            "border": null,
            "align_items": null,
            "bottom": null,
            "_model_module": "@jupyter-widgets/base",
            "top": null,
            "grid_column": null,
            "overflow_y": null,
            "overflow_x": null,
            "grid_auto_flow": null,
            "grid_area": null,
            "grid_template_columns": null,
            "flex": null,
            "_model_name": "LayoutModel",
            "justify_items": null,
            "grid_row": null,
            "max_height": null,
            "align_content": null,
            "visibility": null,
            "align_self": null,
            "height": null,
            "min_height": null,
            "padding": null,
            "grid_auto_rows": null,
            "grid_gap": null,
            "max_width": null,
            "order": null,
            "_view_module_version": "1.2.0",
            "grid_template_areas": null,
            "object_position": null,
            "object_fit": null,
            "grid_auto_columns": null,
            "margin": null,
            "display": null,
            "left": null
          }
        },
        "e9ab2e9527ad48ee828490268fb56708": {
          "model_module": "@jupyter-widgets/base",
          "model_name": "LayoutModel",
          "state": {
            "_view_name": "LayoutView",
            "grid_template_rows": null,
            "right": null,
            "justify_content": null,
            "_view_module": "@jupyter-widgets/base",
            "overflow": null,
            "_model_module_version": "1.2.0",
            "_view_count": null,
            "flex_flow": null,
            "width": null,
            "min_width": null,
            "border": null,
            "align_items": null,
            "bottom": null,
            "_model_module": "@jupyter-widgets/base",
            "top": null,
            "grid_column": null,
            "overflow_y": null,
            "overflow_x": null,
            "grid_auto_flow": null,
            "grid_area": null,
            "grid_template_columns": null,
            "flex": null,
            "_model_name": "LayoutModel",
            "justify_items": null,
            "grid_row": null,
            "max_height": null,
            "align_content": null,
            "visibility": null,
            "align_self": null,
            "height": null,
            "min_height": null,
            "padding": null,
            "grid_auto_rows": null,
            "grid_gap": null,
            "max_width": null,
            "order": null,
            "_view_module_version": "1.2.0",
            "grid_template_areas": null,
            "object_position": null,
            "object_fit": null,
            "grid_auto_columns": null,
            "margin": null,
            "display": null,
            "left": null
          }
        },
        "fb99b853c7254d6f93efbe835beed5ba": {
          "model_module": "@jupyter-widgets/controls",
          "model_name": "TabModel",
          "state": {
            "_view_name": "TabView",
            "_dom_classes": [],
            "_titles": {
              "0": "Youtube",
              "1": "Bilibili"
            },
            "_model_name": "TabModel",
            "_view_module": "@jupyter-widgets/controls",
            "selected_index": 0,
            "_model_module_version": "1.5.0",
            "_view_count": null,
            "_view_module_version": "1.5.0",
            "box_style": "",
            "layout": "IPY_MODEL_1d1bd8faa77144559e79e2240be8d3c9",
            "_model_module": "@jupyter-widgets/controls",
            "children": [
              "IPY_MODEL_e8874b523f7147fe97d8c13353a29c28",
              "IPY_MODEL_f778e2477ac5431a86c810e43cdb807e"
            ]
          }
        },
        "1d1bd8faa77144559e79e2240be8d3c9": {
          "model_module": "@jupyter-widgets/base",
          "model_name": "LayoutModel",
          "state": {
            "_view_name": "LayoutView",
            "grid_template_rows": null,
            "right": null,
            "justify_content": null,
            "_view_module": "@jupyter-widgets/base",
            "overflow": null,
            "_model_module_version": "1.2.0",
            "_view_count": null,
            "flex_flow": null,
            "width": null,
            "min_width": null,
            "border": null,
            "align_items": null,
            "bottom": null,
            "_model_module": "@jupyter-widgets/base",
            "top": null,
            "grid_column": null,
            "overflow_y": null,
            "overflow_x": null,
            "grid_auto_flow": null,
            "grid_area": null,
            "grid_template_columns": null,
            "flex": null,
            "_model_name": "LayoutModel",
            "justify_items": null,
            "grid_row": null,
            "max_height": null,
            "align_content": null,
            "visibility": null,
            "align_self": null,
            "height": null,
            "min_height": null,
            "padding": null,
            "grid_auto_rows": null,
            "grid_gap": null,
            "max_width": null,
            "order": null,
            "_view_module_version": "1.2.0",
            "grid_template_areas": null,
            "object_position": null,
            "object_fit": null,
            "grid_auto_columns": null,
            "margin": null,
            "display": null,
            "left": null
          }
        },
        "e8874b523f7147fe97d8c13353a29c28": {
          "model_module": "@jupyter-widgets/output",
          "model_name": "OutputModel",
          "state": {
            "_view_name": "OutputView",
            "msg_id": "",
            "_dom_classes": [],
            "_model_name": "OutputModel",
            "outputs": [
              {
                "output_type": "stream",
                "metadata": {
                  "tags": []
                },
                "text": "Video available at https://youtube.com/watch?v=Yv8MDjdm1l4\n",
                "stream": "stdout"
              },
              {
                "output_type": "display_data",
                "metadata": {
                  "tags": []
                },
                "text/html": "\n        <iframe\n            width=\"854\"\n            height=\"480\"\n            src=\"https://www.youtube.com/embed/Yv8MDjdm1l4?fs=1&rel=0\"\n            frameborder=\"0\"\n            allowfullscreen\n        ></iframe>\n        ",
                "text/plain": "<IPython.lib.display.YouTubeVideo at 0x7fe8ed149710>",
                "image/jpeg": "/9j/4AAQSkZJRgABAQAAAQABAAD/2wCEAAUDBAkICAgICAgICAgICAgICAgICQgICAgICAgICAgICAgIChALCAgOCQgIDRUNDhERExMTCAsWGBYSGBASExIBBQUFCAcIDQgIDhINDQ8SEhISEhISEhISEhISEhISEhISEhISEhISEhISEhISEhISEhISEhISEhISEhISEhISEv/AABEIAWgB4AMBIgACEQEDEQH/xAAdAAEAAgIDAQEAAAAAAAAAAAAABgcDBQIECAEJ/8QAWRAAAQMDAQMGBwkMCAMFCQAAAQACAwQFERIGEyEHFBYxQZIIIlFSYdHSFTJTVHGBkZPiGCMzNkJVcpShsbK0JDRic3R1s8E3dvAlNYK14QkXVmODlcLT8f/EABoBAQEAAwEBAAAAAAAAAAAAAAABAwQFAgb/xAAlEQEAAgICAgEFAQEBAAAAAAAAARECAwQSITFBEyJRYXGBkRT/2gAMAwEAAhEDEQA/APGSIiAiIgIiICIiAiIgIiICIiAiIgIiICIiAiIgIiICIiAiIgIiICIiAiIgIiICIiAiIgIiICIiAiIgIiICIiAiIgIiICIiAiIgIiICIiAiIgIiICIiAiIgIiICIiAiIgIiICIiAiIgIiICIiAiIgIiICIiAiIgIiICIiAiIgIiICIiAiIgIiICIiAiIgIiICIiAiIgIiICLf8ARSfz4e8/2E6KT+fD3n+wg0CLf9FJ/Ph7z/YTopP58Pef7CDQIt/0Un8+HvP9hOik/nw95/sINAi3/RSfz4e8/wBhOik/nw95/sINAi3/AEUn8+HvP9hOik/nw95/sINAi3/RSfz4e8/2E6KT+fD3n+wg0CLf9FJ/Ph7z/YTopP58Pef7CDQIt/0Un8+HvP8AYTopP58Pef7CDQIt/wBFJ/Ph7z/YTopP58Pef7CDQIt/0Un8+HvP9hOik/nw95/sINAi3/RSfz4e8/2E6KT+fD3n+wg0CLf9FJ/Ph7z/AGE6KT+fD3n+wg0CLf8ARSfz4e8/2E6KT+fD3n+wg0CLf9FJ/Ph7z/YTopP58Pef7CDQIt/0Un8+HvP9hOik/nw95/sINAi3/RSfz4e8/wBhOik/nw95/sINAi3/AEUn8+HvP9hOik/nw95/sINAi3/RSfz4e8/2E6KT+fD3n+wg0CLf9FJ/Ph7z/YTopP58Pef7CDQIt/0Un8+HvP8AYTopP58Pef7CDQIt/wBFJ/Ph7z/YTopP58Pef7CDQIt/0Un8+HvP9hOik/nw95/sINAi3/RSfz4e8/2E6KT+fD3n+wg0CLf9FJ/Ph7z/AGE6KT+fD3n+wg0CLf8ARSfz4e8/2E6KT+fD3n+wg0CLf9FJ/Ph7z/YTopP58Pef7CDQIt/0Un8+HvP9hOik/nw95/sINAi3/RSfz4e8/wBhOik/nw95/sINAi3/AEUn8+HvP9hOik/nw95/sINAi3/RSfz4e8/2E6KT+fD3n+wgmaIi9PIiIgIiICIiAiIgIiICIiAiIgIiICIiAiIgIiICIiAiIgIiICIiAiIgIiICIiAiIgIiICIiAiIgIiICIiAiIgIiICIiAiIgIiICIiAiKNS7VhrnN3BOkkZ3nkOPMUVJUUX6XD4ufrfsJ0uHxc/W/YQpKEUX6XD4ufrfsJ0uHxc/W/YQpKEUX6XD4ufrfsJ0uHxc/W/YQpKEUX6XD4ufrfsJ0uHxc/W/YQpKEUX6XD4ufrfsJ0uHxc/W/YQpKEUX6XD4ufrfsJ0uHxc/W/YQpKEUX6XD4ufrfsJ0uHxc/W/YQpKEUX6XD4ufrfsJ0uHxc/W/YQpKEUX6XD4ufrfsJ0uHxc/W/YQpKEUX6XD4ufrfsJ0uHxc/W/YQpKEUX6XD4ufrfsJ0uHxc/W/YQpKEUX6XD4ufrfsJ0uHxc/W/YQpKEUX6XD4ufrfsJ0uHxc/W/YQpKEUX6XD4ufrfsJ0uHxc/W/YQpKEUX6XD4ufrfsJ0uHxc/W/YQpKEUco9qBJJHHuCNb2MzvM41ODc40cetSNAREVQREQEREBERAREQEREBERAREQEREBERAREQEREBERACrKr/CP/AE3fxFWaFWVX+Ef+m7+IqSsMSIiiiIiAiIgKScmOy3u3eLdaRPzbn9Syn3+7326158fda268Y6tQ+VRtWR4MH447O/5nB/ugteo8Fq2ivktDNubb7rsIYLfNRiCd0jo2ysjDTXFznFjmuw1rjg5wqF5TdiK3Z251FpuLGNqacsOuJxfBNHIwPjmgkc1pfE5p6yAQQ5pAc0gewtqeQyS6coFZfn3W3ClpKuhuD7fRzOqL0XUNNRuZA+kDWinMjoR4xeSA9hAOeHnbl927Ze9sn190ttZS0NPU0dNNbJ2mnuAt9K9pmimbqbuquRjpnYDvE3rQHHTqIVCi9V8j22my1+u9JYG7A2+noKwvpm1e/kqa6D71IYpJakxCXLiwNJEgc3XnU4t46zkl2NslDyhXXZa6UUNfQTy1dJb3VOoyU8rBzqkG9a4eMafeREj3zzGRjqQeZ0Vm2zklqJNtBsk8vDhdH0skw0h/MYtU76xgIIyaFpmaD5zQVbMXJnZ9p+UOttNupY7fYLFAW1vMw9hqnUUjY6hu8dnTK+rndFqByY6Yubx6g8sovYmw9NYNpbi/ZyXk/mslBUx1MVuvUcVRFXQOghkkgmqp5YR472RE4e+Qay1jhIHFyq/wcuSmiuG2tVYby4Sw2t1ybLC17oRWz2+oFNuQ5rg9rCS+QhpzpiIz1lBRam3J1sZR3SivlVV3yjtUtqojVUlJU7ne3aYQ1UgpKXeVEbt5qp42eI2Q5qGcOoGyOWfbm3RR3Gy1HJ5RWGt0llLUh25rKXTL4k500wbVscGOAc1+h2okOcOvD4M+yVvuNh29qa6jhqZ7bYnVNBLKCXUs4o7rJvYsHg7XDEePwYQUOinfJHtLZbW+rqLzY/d2bRCLfTyVD6aljk1P38lSWZ3o0FmGOY8Eg+94FXrHb7FtjsftFcodmqTZ642GHnUE1AC2KeMRPnwcRsbKHNgmYQ4O05Y4EZwg8novRfgd7C2i9UG1/uzHA1lJboHQ3CZuo2sSw3PfVsY1AZjETJOPwIU05GK/YjaK5v2Tpdk2x0clNUc1vVRUF90qH07N46aQ7veUznjePGmUgaWjQA7SwPICLa7X2nmFxr6HXvOZVtVSbwjBfzad8OvHZnRnHpWqQEREBERAREQduz/1mn/v4v8AUarHVcWf+s0/9/F/qNVjqwkiIiqCIiAiIgIiICIiAiIgIiICIiAiIgIiICIiAiIgIiIAVZVf4R/6bv4irNCrKr/CP/Td/EVJWGJERRRERAREQFZHgwfjjs7/AJnB/uq3XZtlfNSzR1FNNLTzwuD4p4JHxTRPHU+OSMhzHDygoPVnLXyQbWV23lbdbHRTwsdWUUlJdDNBTwwmOjpInzlzn6zGxzH5Aa4uDXANdnBlXLbbLJeOVPZy3VQgnAo3MurA9rY5aiKKuqrfSVGHcZS5sILHcXMmhbxBAHk2TlO2gcC120N8c0jBa66V5BHkIM3EKLtqHiQSh7xKH7wSBzhIJA7UHh+ch+rjnryg952Ko24G2baaSmbatkaG4SRRxwR0FJbTbQ58VDol/CVE02af72w5D5caIxlrfOfhSw19n27r7luZqZ/ujBcLdUSRPbFMYG00sc0D3DTM1sjWg6ScOBBwRhVxtDt/ebiyKOvvF0rI4XNfEypramZjJGZLJQ2SQjejJ8f33pXU2n2quV2fE653GtuD4m7uF1bUzVBiadIIY6d50A6WknhkjJyeKD3vtTcrZRUVbyo02htXXbMUlNSQua1+m4VD9DHS6T98ma80cDse9ZSS8cZXnjwEtt4LftJU09fUCEXqkdSx1MrhqNfvmSwh0shwHSffgC7Op7ox2rp+EfthbYrBs1sjYq2Kvo7bAay4VUGvcz3GQyA6DJhzfvstdLpOQBUxAHxVQKD1ntXdeVqhuMlvZJc60CV7IKykttBLRzxBxEc3OGUpjpw5oDtMrmubnBAKpXZzZvae47SXM0LJ3bS0FRXXCuNPNTwVLKqKtENc+J0b2xPfzioILIiQ4OdpBHBail5VdoooBTR7Q3pkAAa2NlxrGhrQMBjCJcsjxw0jA9C0Fr2hrqWpdW0tdWU1Y8vc+rgqJoal5kdrkLp43iRxc7iSTxPFB7T2brrttBsptHFyh2nm0Fro5JaG61tHzCt502GY7yCJzW6pmuEAbJC1rZN5uyJNRCqzwRPxb5S/+W3/AMhelSG1O3t4usbYbld7lXQsLS2Gqq6iaIOaCA/dPeW7zBPjYzx61rLTfqykjqYaSsq6WKsj3NXFTzzQx1UJa9hiqWRuDZ49Mkg0vBGJHDtKD0v4IOzw6N7R3q00FJc9q6KZkNuhqmxyupIXRRO5xTxye9ne19ZpP5ZpQwHBcDZmwdPthXbJ7Yx7Tc5mr621VHuTQSMpm1rmilqmzbuhpGB7Ncr4WNaW5c5uAOrPiHZfaWvtc3OLbXVdBOW6XS0k8tO9zNQdoeYnDXHkA6XZBx1LvUm315irX3KO8XNtwkiMElbz2pNVJAS07l85k1viy1h0kkZY09YCC9PBPppIdnuU+GaN8UsWz8scsUjXMkjkZQ3xr45GOAcx7XAgg8QQVHPAS/Ha3/4a4/ycqqGm2ouMRrTHca6M3IPFxLKqoZz8SbzeCt0v/pQdvpc7zVnevz74rrWO8VVDM2poaqpo6hgc1s9LNLTzND2lrw2WFwcAWkggHiCg3XK7+MN+/wA5un89OoustXUPlkfLK98ssr3SSSSOc+SSR7i573vcSXvLiSSeJJKxICIiAiIgIiIO3Z/6zT/38X+o1WOq4s/9Zp/7+L/UarHVhJERFUEREBERAREQEREBERAREQEREBERAREQEREBERAREQAqyq/wj/03fxFWaFWVX+Ef+m7+IqSsMSIiiiIiAiIgKef+5raf/wCG73/9vqv/ANaga9g+HbyiXqz7SUUFru1fQwPslNO+GmnkjidM6vuTHSOjadJeWRxgnHUxvkQeV9pNlLlbNAuVtr7eZM7sVtJUUmvHE6N+xur5lpl6+8F/lan2smqdj9rTHdqW5Us5pJp2RtqGSwR710OuNg1OETJZmTfhI3w8CcjRRFv5ILjW7U1uy9va2WppKysgdPMTHBHTUspZz2ocxrjHCW7s8ASTKxoBJAQVwi9CO8HGkrY66LZ7a23X670EL5prVDTup3StiIbIKWp5w9tQdRDQ4N0ansBc3UCqm5KuT+4bS3KO12yNjp3sdLJJK4sgpoGFrX1FQ9rXFkQc9jeDSSXtABJAQRRbey7M19bBV1VHQ1VTT0EYlrZ4IZJYqWMtkfrqHsBETNMUhy7HBjvIrvu/IFs/STS0U/KFaI7hBrZNTOo8Qxzx5D4H1fPdDJGvBaWkBwIIIBGFpOQWyXaq2c20nt14FuoqS3MkudGaWKoNzh5tcXCETSeNTeIyZupnw2fyQgpRFZvIdyRTbSi4VUldT2m1WqJstwuVU1z2RB7ZHNZHEHNEr9MTifHaGjHHLmg/OVbk+s9rooau07V0d/dJUinkpoqV1HUQtMUkm/MUlQ9zosxhucAZkbxQQtuy9wNAboKGrNtbJujX7mTmgl1Bm7M+nRr1EDGesrTq8aaxXc8m81eLyBZRdBG6y80hJdPziJu/57+EHjlrtPV4q0nI7yKz32iqrvWXCksdionbua6V3FjpSWjd08Wtm9IdJG3Jc0F0rWt1Oy0BVKK89pPB/jfa6u7bM7Q0W00FubvLhBBA6jrKeIBzt6KZ8she3SyR3EtJET9OsghRzkH5Hp9rG3fm9WKeW10rKhkO4M76t8gn0QR4kbu3F0IGTn344cEFXovSll8FZlSZLf0ss7do44HyvskYE5ikaM7meqZPrY5uW6i2F2nJOHDBNObBcnFwvF9Zs9BG2Gv39RBPvid1Smk3nOnTvjDsNZunjhnLtIGS4IIcivHbbkZsNvp7judurdV3G3RTufbuZOgM09OHaqWCpdVuZJKXNLQGgnPYqOQEREBERAREQduz/wBZp/7+L/UarHVcWf8ArNP/AH8X+o1WOrCSIiKoIiICIiAiIgIi6NwrxGOAznqPl+Tt+dSZWIt3XEDrOFjNSwHGsZHWo3K+WY5wePAAuA+jK6coe08XY9GSD+0cV47SvVMo5Gu96QfkK5qGRVzmAgO7fL2jtC21uvreDZsg9j8fxY/evUZJTeosNPUsk4seHfJ1/R1rMvQIiIgiIgIiICIiAiIgBVlV/hH/AKbv4irNCrKr/CP/AE3fxFSVhiREUUREQEREBemf/aO/jVQf8v0v/mN1XmZemNqfCjorrM2ouWw9kr52RiFk1ZI2okbC173tiD5aUkMD5JDjqy93lQazwCdlpqramO6aSyjs1NVT1E7hiISVNLNRxQueeAeWzSyfJA5Wp4LG0NLdtpuUOtjbzh9a2SahjicYqiooBUVbCIXEh0bntNCCeGHPZ1cFRfKJ4Q9zuVvks1vo7ds/Z5dTZKK0Q83M0bwN5FNKCAY3kHUI2x6gS12oEg17ycba1+z9xgulsm3NTASMOGuKeJ3CWnqI84kheOBHAghrmlrmtcAvzk/5ZNh9n69twtey94pqyNkkQea98o0St0yMdFPUuYfnHAgeRSXwIbmyrr9vKihZuauriFTbYnFu9jjlmuT2s8Xh4sktGDjhnT6FALh4QFjqZXVtTyfWSa5SEyTVLp/6PNO8l0k0tEaUtkc55LiXucSSckniqr2N5Rq+zXt19tm6pKh088rqaNhFE6GokL5KJ8AcNVJggBuQW6GOaWua1wCIztcHuEgcHhzg8PBDw8E6g4HiHZznK9K+Cj+J3KV/k8f8ld11Lr4R1oqJnV79gLHJdHkyPrJ5GzRvnPEzvpjSDW/V42S8uz+Vniq55LuVSSxWjaK0so46hu0NI2kkmdK6N1KGw1cOtjAwiU4qicEj3g8qDceDpywx7N+6FBcqBt0sd3jbHX0vi71paHs3kQkOiQGORzXMcW5xGQ5unxpPyzclFgm2edthsfVz+5sdTHT11tqy50lHJK6KIRxvfmVr2STQZjkdJqE4e2TSADBeSPlNo7PSVVBc9nLbf6SpnbUNFUdzU08gj3TtxU7uQxtLQ33rQevic4G05VuXB11tUVgtVoo9n7IyUTyUdK908lRM12tpnqCxmtofpdjTkuY0lxwAAn9F/wAGKj/PG/zkCy8pn/B/ZfmWvce6x55o143m8vG83/8AY51jGrhndY/JVSw8rEjdj5NkuZRmKStFZz3fO3gImZLu9xoxjLMZ1dq7fI7y01Fho6q01VBSXux1rt5UWquH3sSjSd7BLpdunF0cTuLXAGJrm6XeMgsj/wBnQJekN0J1czFjm5zqzuNRrKLc7zPia9AqMZ/J3uO1dzwG6ncxbczUr3x7q0iSmfnEjNDbg6F+ex4w0/KFCNpvCBaLXVWjZvZ+g2Zprg0sr5aaV1VWVMZBaY+cuijLWlj5G8Q4gSO0luTmL8ivKxJszDeoY6KOrF5ouZPc+Z0RgAZOzeNDWO3h+/ngce9Qb/wK5HP29sj3uLnuddHOc4lznOdZ7iXOcTxJJOcldWr2+qdmdv7xd6SNkzqe/wB6ZLTyEtZUU8tdUxzQlzeLHFpy12Dpc1pw4AtMQ5GtuH7N3uivUdO2rfRc5xTvkMTZOcUlRSHMjWuLcCcu6uOnHatps1ynCk2iuN9ntNDcIrnNcJKm2Vo31MY7hUGofG1zmkamO0gOc08AeGTwC8ajYzZPlFiuNbs4KiybSxQS11RbZsGlqnkt1y6AXNEbpXNZvYSzSZg58R1DPkpX/V+EVT0dFW02zOy1v2dqbjGYaqviqH1c4icHAtp8wR7lw1Eji5rTxDc4IoBAREQEREBERB27P/Waf+/i/wBRqsdVxZ/6zT/38X+o1WOrCSIiKoIiICIiAiLBWS6WnHvjwA9P/X71JmldO8XDd4a0t1Hjx4/sH71qpbs4jSAC7gA4jq/QYOB+XrXaiss87ySMautzsYA8uM5d5OCzyW5lOMaXSydhLTjt6hniFgyyiWaMZpoZJHE+OM9vHgc+jyLtRhz2ktIByGkZHH5ncDwXaNM5595oGOAPFvEdrD1dS6dRTOByGOYR2tLgPocTw+fCnYjB06uIg4e0A44EcCR6R2n5l09GD6VuYXl+GOYHHqHDGflHUf3hcpbS53FjSAezrAPbgr12pOl+mpp5HMcCHEOB4EHipXY7pvvEfgSN+YOA/wB1F6iiLcntGOv1pE8tkY9pwcgj5RjOV7iWOYr2nqLFSzCRjXjqcM/Ie0fSsqyIIiIgiIgIiICIiAFWVX+Ef+m7+IqzQqyq/wAI/wDTd/EVJWGJERRRERAREQEREBbhmy1xcARbq8ggEEUtQQQeIIIZxGFp1f3Izy87UVF92ft015mfRzXa00UsBgogH0slZTwPiLmwB4BiJbkHPHrQU10TuX5tuH6pUewtMvUHhK8ue01q2rvFvt94lpqOmmhbBA2Cje2NrqSnkcA6WBzj473HiT1qn7tyZyU+ydBtUatjoq65vtraMROEkbmNrHb0zatLm/0M+Lge/HHggr9FYEHJnI/ZOXarnbBFFcxbTR7p28Li2N2932rAH3z3uns61dt05Dtmeh9mrPd63UVTU1komv8AIyukhrdJrP6FHTOm0QvjwGlzQ3JpSe1B5SRWdyT8kE18gr7lPcKS0WK2ybqru9ZqMW9OnRDTwjBnmO8h8TU38NGBlzmtOw215FWw2eS/2C9Uu0drppBHXvp4JqKrodWA2SaincX7nJbk5DhqDtJaHOaFQrs0FBNUOc2CGWdzGGRzYY3yObG0gOe4MBIYC5vE8OIVv8mXIBUXyxMvrLpRUVM2ulpqs1g3UNHTU7N5PWzVBfjQBhoYG8XPbktGXCRciux1TSbS3mh2X2mo5hDs5UTy3VtCyaCppnS0BqKNkEkj91IJXR/fMk/ejwGUHnVFNuSzYmku3O5LhfrdYqWjbCXyVmuWondOZdLaOjjw6pLRC4uwQW6mcDq4SPlW5HGWmz0W0FsvNNfbPWVBpOcw08tJLDUaZXBktNK5zmNxDICXFpBDQR4wyEDuGyFwp7ZSXiakey210skNJVl0ZZNLC+WORjWh2sEOhlHED3hWiXonlK/4UbF/5rdf527rzsgIiICIiAiIgIiIO3Z/6zT/AN/F/qNVjquLP/Waf+/i/wBRqsdWEkREVQREQEREBc4ixpaXjJJIaMZ4kYB/afoXBSzYHZfndZESMxsZvpCfKG8APRqc36Fh3ZdcWfj4ds4hgobMyVhedbnE569PUOGDj95HyLoXigGPwL2F3DOvPjA9ZaOBBXoOm2VYGtiijaMtDSXk8B5T5PkXKn5OmH76QHOGS3LWkA+VgB6/+slc763nw7UcSKedLPYKlzmsLC9h62OGoY48c4Bae3JwtvV7FvOC8OweGRxDMeceGPJgK/6HYYQlz3B0j3cWtbjtzpBBcB1+X0rDW7LvA0OOB+U1uHEcfe9Xk458quWyXrDjY+nn6TYgtxKx3AYPUewnzhk9X7V8FCGHBAHDGeo/Qr1umzrWxkNGGt6h1nJ/JB8irbaegbGH4GMHtHEeTH7VPq37ev8AzRjFwrPaGzhwc5uM4PDHX1eRQgQEZGMjJ7OpWjU4LSep2riB1f2seQHj9CiG0VDu3nTghxcQfQTn5uJ6vStvVk5PJ1+bZtn35iwfyXEfTxWxXQsjMRn9LAXfW3HpoyIiKoIiICIiAiIgBVlV/hH/AKbv4irNCrKr/CP/AE3fxFSVhiREUUREQEREBERAUz5Cfxq2a/5gs3/mNMoYu5Y7pNQ1VNW0sm6qaOohqqeXSx+7np5GywyaJAWO0vY04cCDjiCgs7wwfx3v/wDiKf8AkaVTbaOkln5ILHuIpJtztPK6URMdJu2ubdo2uk0A6Gl80TcntlYOtwVCbXbRVd2rZ7jcJjUVlS5rp5iyOMyOaxsbToha1jcMY0cAOpSXk15Xr/s5FNT2a5vpIJ5N9LCYaWpiMugM3rWVcMjY5C1rAXNwXCNgOdIwF137ZWttPJG6K4076Wapv8NYyCUFszIJWxsjM0bgDE926LtJ46XNzjOBqNvIXP5Itlnsa5zYr5Xb1zQSI9dReA0vI96CS0ZPa4eUKo9oeVG+XCjqqCuuU1VS1lb7oVMczIXulqwxkbZN8Y961rWRRsbG1wY1rGgNAGF3OTrlj2h2ep5KS0XR9LTSSb50DoKSqjEpABextZDJuiQG50YzpGc4QWvBE+v5IN3btT32raB093ijaS/m5EzxI9oGXRNFTRvL+oCB/HxHY4+C7TvpNkeUK41QMNuqbKaGGWTxIqitfBXwxRxOcMOkbLVQM4Zw6pYOsqlOTzlAu2z076mz181FLK0Ml0COSKVrclomgna6KUtLnYLmkjU7GMlbHlF5Xb/tDFHBd7nLU08TtbKdkdPS0+vse+CkijZK9oJAc8Et1OwRk5C14pHN5HXhrnND9pQ14BID2jQ8NcB75uprXYPa0HsC6/gF/wDfd8/5Uuf83bVTPTe5e5HuDzo+5POeec03UGOc9W832733/h1Y9C+bC7aXGxzT1FqqjSTVNLLRTPEcEuulmfHJJFieNwbl0MZ1AB3i8DxKC0eRLk+tb9mr1tdeKOqu8FrqWUcNopZpKUSyFtM6Soq6mEGWOnaKqPizGkRyE6uAFgcob45eSlk1NZTY6aS/RSxUYkrZ2uicHBtUJq5xkkZITgOB08Bhef8Ak15Ub3s2Z/cW4yUYqdO/Zu6eoieWZ0vMNVE+MSDJGoAHHDOFt6rl22nmhucE15mnhu8b4q6KeKkmY+OSIwPZC2SEijaYnEYg3fYesAgLA5Sv+FGxf+a3X+du687KQ3LbS41Nqo7JNVF9rt8ss9HS7uBohlmfLJK8StjEr8vnlOHOIGvhjAxHkBERAREQEREBERB27P8A1mn/AL+L/UarHVcWb+s0/wDfxf6jVY6sJIiIqgiIgIiICvHkpDGtOAA58MPV2jdNxn58nh5FSNPC6R7I2DU97msa0dZc4gAfSVaGwdRNDcKehkaRJFDplwQR97LyMH8pul0f0rV5XnCm9wYnvdeF+WKMascOOMnHXjCmFLTtIHicG8cY6+HDGVE7AcsaeHA4P0lTK2yn5vJhczU7+2ftc+aNaC9zfGIIDeGG54cfK70rSXChZnPAdZ4dvDiVIqt3i8eHBai5MLve9Q4nPkxjt6lnzYNVoXfo2tYSB1j9o6yqZ24ja7LR154enr/erc2pe4NcMcANI7Or5FVl7i4+MM+MCAPp4rXvy28oqFa1o3fiuwNIaPlJJyOHoC0tfBvyGgcG++8hJ4A+XqAHzLcX+PeTyNbn32APLwPHrWoonuY5wcDndu+UgdZ+UEZXQ1x4cHlZeadWjg3bNPaOJ+Ql2P2grMuF2rCJMNaHE8OsAaWuIznHDhj6FzyDxa4OHY5uSD8mQtvGY9NDLGY8/AiIvbGIiICIiAiIgLhuW+Y3uj1LmiKx7lnmN7o9Sm3IlsHDtDd47ZLK6mY+Com3sUcb3gwtaQ3S/hg5UNVxeBz+NdP/AIKu/gYoLO+5EoPzvV/q1Kn3IlB+d6v9WpV6WRRXmn7kSg/O9X+rUqfciUH53q/1alXpZEHmn7kSg/O9X+rUqfciUH53q/1alXpZEHmn7kSg/O9X+rUqfciUH53q/wBWpV6WRB5p+5EoPzvV/q1Kn3IlB+d6v9WpV6WRB5p+5EoPzvV/q1Kn3IlB+d6v9WpV6WRB5p+5EoPzvV/q1Kn3IlB+d6v9WpV6WRB5p+5EoPzvV/q1Kn3IlB+d6v8AVqVelkQeafuRKD871f6tSp9yJQfner/VqVelkQeafuRKD871f6tSp9yJQfner/VqVelkQeafuRKD871f6tSp9yJQfner/VqVelkQeafuRKD871f6tSp9yJQfner/AFalXpZEHmn7kSg/O9X+rUqfciUH53q/1alXpZEHkLlU8GyistnrrpHcaid9HE2RsUlPTtY8uljjw5zeIGHk8PIvOW5Z5je6PUv0D8Jr8U71/h4/5mBeAFUlwETR+S36AuaIqgiIgIiICIiDZbLTMjrqN8pxG2phMh8jN40OPyAZPzK6dorPza+WqqaDmoirad5yMAwRtewDA4niRx81UIvQuz1Xz+02GqJ1y09RVQyuPZJzaWIOcfOIDe8tTkx6l0+BncZa/wBxP/PCytk5oy0HWM54jIwMdeexS+huUAOHSxtd1aS5vzdZyqauGzdRqjEcm5p3uBmk1antYTgiPIwDntcOGc9i0m0HJzUuuIlglPueXSPdK6p1yOZu6cMj0vIcyRj2TnIzqMzfehuFq6tcTEzDo79uUTEVPn8PQ1dUMLdWoEZxkHhx4D9669bVsZF1jJb2/wC6rfYyxTQljXVskrM4cHceAxjVn8rB6x5FF/CIu9bSiCnpHuj3rnNcWniWgHHHsyvPaZlkn7Y/iQ7Z3qnaHh80TXDBLdY/d5cqu7ndaaSJz2yNc3iCQRwUa5NdjWXIy1F3lke0wyiMl7g3fYxG127OtrQTnynTjI4ZjV32QmoWzb2pi0apC2NjnzDBe5zGtDuOA0tblxBwMnisuOmPcy19nI2TMVjcMNRIx8j3xuyWnUB5R+VgejC1d7cWzR4/KZ1+jHEf9eRZKGzTmPf6dBbp4DAB9OOwH6FsLhbHPigqPgxKHj0hpc0j5ws2FNHbjM+/lGbvKx7zHHnIwDnhk57PKNXastvYWxgHhxcceTJ6l0WvDqlo6msIBcO3Ser0nq/Ytu48Twxkk48meKy6o+WPk1jj1fERFnaIiIgIiICIiAiIgK4vA5/Gun/wVd/AxU6ri8Dn8a6f/BV38DFFe5ERFFEREBeevDKjdNNsbSb2oihrtpaWjqebzSwPkgqHRRSs3kTg4Za48exehV5x8Ne2Q1s2xdFUs3lNV7T0tLUR6nM1wVDoopWa2EOblj3DLSCM8EE/2c5DLNQVdPW07rqZqaVs0QmulfPFrYcjXFLKWSN9BCw7W8vVmtlyuVonZXyXC3CkApaanbPNcJa2COohp7dEyXXPLu5AXagxrdJy7qz3uTzkP2d2frPdC0251LV7qSDemrrpxupC0vboqJ3s4ljeOM8FX/JvQxP5VdtJ3xsdNBbrOIZHAF0Qmt1uEu7J96XBoBI44yOolBv+UPaG2Vs2xFZcG7QW6etusbrbRxthpniqL4MU97gkLnNhBDMtYc8XKYcrHKna9mo6c3B88lTWP3dFb6KI1NdWSZa3RBACB757W5c5oJc0ZyQFXnhQ/wDfvJ5/zNH/ABUq1O0m5j5XrY+4YDZdnXR2l8g8TnQkq8sjcfFEml1YADxzK0dbm5C1OTTlMbe55qY2PaKzyQwicG927mEczC8RkQP3rt48EtJGBwPaqv8ACwo+ebR7A26Sapjpa+tusFUymqJqZ0sf/ZXAvhcHcMnB7MlejV588JP8ceTX/Mrr+61IO1th4Pe5ppJ9mb3fbVdYGmWl1XSqno6iVnjNgqo5nk7t+NGc4GvJa8AtO+8HHlX93dmDdrm+OmqLa6opbvK8CCFklHGyaSpcDhsTXU8kcjgMNa4vAwBhWHtptNSWegqblcJ2U9LSxOkke8gZwPFijBP3yZ7sNawcXOc0DJK8dWexXCLki2hrXRSRy3q5e6+6ja9rxb31tuikfp98IXMpppNXUYnA8WnJC96XwjrO58Ek1DfqO1VUzYKbaCttr6eyTPeSI3CqfJrZE8g4e9jR4rydIa4jVbe1sto5SdnKkzObRbQ2ystMsRe7dirpXCZkoYTpMj3voIuoHgeJzhaN3Jpftp9l6WgG1FpdZa6ht7oGU9k3TmQQGnnp42PbVZjcwwsYRgEaXNIHELaeF9Z56XZa1XSN4mrdlrjaLhvtJBlMLo6WQ4ySxrp5IJD14EfzoIL4Vu2lbSbX2qsppZG2zZd1nmuwie8aXXSsle9k0bTiRj6WlibjGfvvDryLU8Ierkrbtsfs7TySR+6N4NyrXROIDrbZojUTwSFrgQybeYHZmL5jWcFpbtRsnyi35sbz7tVs9Rb3aXb2ag2biidbSGY1Ne4wTM0Yzlzh2raeCpfH7UX2S/y7xzLLszZ7DG54IZLXzsFTc52Ajg9s0cjM9rZWdeRgLI2QrLZ012nZBNeJLrFRW91fTzuhdaYojSUjoPc6Nv30TOj3Rdq4FxfjsUK5MvCIqq+93qiqrJe30sNXQU9vjpbRNzqgbUGdspvmZiKU5EZBP5MUpxwXd5Mf+KO3H+XWT+Qt65eDp+OfKSO3n9nOPRu7nx+TiPpQYL94QNRSbXz2g2e8z26moJy6CmtM01ynrIax8HPKdol++2h0bPFmAAJcFftrqxUQQziOWITxRzCKdhjmjEjA/dzRnjHK3OC3sIIVHzOA5WowSBnYsgek+6bzgeU4BPzFXygIiICIiCuPCa/FO9f4eP8AmYF4AXv/AMJr8U71/h4/5mBeAFYSRERVBERAREQEREBWxyHXMGlr6R54wvgrIBnqc97YJcDyYLe8qnW42Mq3Q19MWuLQ6Vkb8HGpj3AFp9HV9AWPbj2xmGxxdnTZE/Hqf5L1zbXiSIMwDkDgeo9h+VdhtjY4eMOHXxwcY6uDQM/OtTYbg1gaHYzgD6O35Vsp79I94hpog44BdI/xY4xniSe0+gcSuXFRD63LrMRMOxTsa1zA1ojja4ANbgAfR6Qqq5f6ln3p+MyNlbjq6jn5+pWOHyyy7rOXasOI4A48gPABVDy8072zMBGlsnVIT4vDPi8Oo8Exxl6nXEYzPzTo7BESvMT26XEZBHDGRx4j0KU1+xMDyJZw+QN8Zoe9zmg9fvS4tGMKrbHtLHSXFrIHteHMa1+slw1N7Qc+KT2q35dot7T+M0NOkHHDTxHWCPQrnFMOGWEzU/CtNuK4R5iZG0NY0tZpAAAOBgehRWef/s/Vk5HOAfq3YOO1dvbe6NlqSPyePAYyQOJ/cVrK54FHIzIIlm4AE50lpzjHZgBbOnFyedsjtUfCK22NpHV73iCesl3Xk+gAfSu8vjWgDAGAvq3McesU5O3Z3ysREXpiEREBERAREQEREBXF4HP410/+Crv4GKnVcHgePDdqqcuIA5lXcSQB7xnaVFe5kWHnUfwkffb6051H8JH32+tRWZFh51H8JH32+tOdR/CR99vrQZlDOVPk0t20jKSO5c5xQzmppnUs76aSObSGh4kj8YOGAQRjB4qW86j+Ej77fWnOo/hI++31oKytPIXbKaogqWV20Dn080U7Gy3mulic+GRsjWyRPfpkjJaAWngQSFK7PsJQ0l5uN+hbKLhdYqeGrc6Quicyliihh0RYwwhkLOI6+KkXOo/hI++31pzqP4SPvt9aCPbZ7C0N3qbVV1jZTNZqwV1EY5DG1tQDGQZGj8I3723gfSupyp8mdq2lghhutO57qWQy0lVDI+CrpJHABzoJ4zkA6WEsdlpMbCQSxpEs51H8JH32+tOdR/CR99vrQQfk65KaKyVLq2Osu9wrDTPoxU3a4T1z2U0kkMr4o2OxGwF9PCchufE6+tZeVLkstu0clBNcDVtlthqHUclHUyUkkbqncb12uLxtX9Hjwc8OPlUz51H8JH32+tOdR/CR99vrQVVS+Dts5v4qirp626vgOqJt2uFbXwsJxnME0m7kacDLXtcDjiFas9JE+J0D4o3wPjMT4XMa6J0Tm6HROjI0ujLSWlpGMHCc6j+Ej77fWnOo/hI++31oKkh8Hazwue2jrdoLfRSOe99robvV09uc55y/7yCXgHiMB4HH5MWLfdlaSttc1mnjcaGaj5i6MPdrEG7ETdMhy7W0AEOOTkArbc6j+Ej77fWnOo/hI++31oNHsJsXQ2W1w2ahic2hgbOxscr3SucKiWWabW93F2p80nzHHUF0eSfk3tuzFHLQ2mOWOCaodVSGaR00jpnRxRE63cQ3RCzDeocT2lSrnUfwkffb6051H8JH32+tBHbPsHQ0l5uN+hbKLhdIqeGrc6Quicymiiii0REYYQyFnEdfFR++cjVsqb2L/FPc7fcHuhNWbbWyUkNwFPo3bK2IAiWPEcYLWlocG8ckkmwudR/CR99vrTnUfwkffb60EE5TuSK23+qpLhUSV9DcqFhip7la6p1FWshcXkw75rTmP75L2ZG9kwRqOZ1bqUQQxQtdI8QxRxB8rzJK8RtDA6SR3F8hAyXHiSSV951H8JH32+tOdR/CR99vrQZkWHnUfwkffb6051H8JH32+tBmRYedR/CR99vrTnUfwkffb60FfeE1+Kd6/wAPH/MwLwAvffhL1DHbKXoB7Cebx8A5pP8AWYOwFeBFYSRERVBERAREQEREBc6eQsex462Oa4dnFpBH7lwRRXpLZm9R1lPDINQEjQRgjOrqc0eUggfSs9ZcpGPjYwSgOzgRte8gNzxkLc6flKpfk+v5izSvdpaX72F+SNEjQSW8OsHGR6QPKrt2PvW/3b3DG9Ba/wB778BpAGT2nr8i4+7VOGX6fQcbkRnjDG65zse6ppquB0oaQ6LeRhpAaG8BqyDnt6+PUqh5TZrvcWNFQx1O2PW4aQA1/EnVnrwAcfSr5utvpo9UssDXDi5wMbXA46gTjrVe7RPoZi8CjaHYIAcSfT4rTnDetZMesesnRzxxyxrtP4eeqGkfSP3kr2tLTkNcfGPZ1dqsPZO5V9VTv3cLt2CAHSAjV1jxR2jiPoXGt2fjllBip9LS/L3aMDGerOMgetb653b3OpssLQGNcCB6Q4DgOo5TPKMvXmXNjD6czN+EC29kayrETSNTGu1uByMjqAPZjP7Fwnc4U8bT1B/X/wCE8M9v/oo9FM6aZ8vv5JHZwRkeM709Zzxx/ZUmuLdMLW+SVwJ8pDeJ+nK29WNU5m7PvctaiItppCIiAiIgIiICIiAiIgLi9gcMEAjyEZH0FckQYubR/Bs7rfUnNo/g2d1vqWVEGLm0fwbO631JzaP4Nndb6llRBi5tH8Gzut9Sc2j+DZ3W+pZUQYubR/Bs7rfUnNo/g2d1vqWVEGLm0fwbO631JzaP4Nndb6llRBi5tH8Gzut9Sc2j+DZ3W+pZUQYubR/Bs7rfUnNo/g2d1vqWVEGLm0fwbO631JzaP4Nndb6llRBi5tH8Gzut9Sc2j+DZ3W+pZUQYubR/Bs7rfUnNo/g2d1vqWVEGLm0fwbO631JzaP4Nndb6llRBi5tH8Gzut9Sc2j+DZ3W+pZUQYubR/Bs7rfUnNo/g2d1vqWVEGNsDAchjAR2hoB+nCyIiAiIgIiICIiAiIgIiIPrOsfKOpXJsvNLbKlsM2t9PUNYYKnSHZkzwjkHU13ADs1asqorbSunmihYCXSSNYAPSQM/IBx+ZekXWyOan3MzA9hAaQR2dWQew9WD2LS5UxcRP7dLga5yjKY+KSdt91RtDmxnIy4nHHhjgAOI4HitDfJKcFx3bA8Z1ENGeJI4ZGDk44eRR250Nwo26qYCsjDSGMLmxzMjAxujqOmTqHjcCodftoq1uSKCdjng5Dy04e4EOw5riNPqC0+n4dOORGMfc7O0e07YnvhIYSQSCwBudAJ8Uflf/ANVTbX3l1TJpc52katPp4uwCBwIyP2elcrnFWPe58jDqHvXOdnQOIPAA/wDrhaJ9O5jsu4u7T5Pkx2LZ164xhzuTyMts16hsbNGIwHdTz1Y/efSpDWtLqUP68Tfscw//AJAqKU7yHgkn1Ka2uRj6Z8bupzMfIesEeQ5AWeMvNy1+t4zCPotGy6GnmkhqJC9owY5A0atJzwe1g6x6AtpSVsUv4ORr/QDxHytPELYibakxXh2ERFUEREBERAREQEREBERAREQEREBERAREQEREBERAREQEREBERAREQEREBERAREQEREBERAREQEREBERAWOombG0ucQAPpPoHlK1d3vjIssjxJJ1Hj4jD/aI6z6B+xR9tQ6R5fI4uc7tP5PoaPyR6EHojwdtld+wXaZ+t0r5Y4Ix+Dp443uY4HHvpnaeLj1DgOsq530+kE+TP7yqF8FXbuOlqXWaseGQ1smuikdwayrIw6Bzjwa2UNaW/2gfOXpe6UYwRjtP/AF8q5PIxyjZPb/P47/Dzw+nj1/3+tI+AuYSOIP0jA6jhaO52tj85APpGPmUlonY8X/ZYK6Icc9ZHyf8AovMT4Z9mFqk2nszQx2mM5+TH7ScKrLpZywuBGOzyntPYvQl7gB1cPk7eztKgN1s+p5JHzjj+zyrJjnTXz0Kfrafd6c4Havvui5oAaeI/2Wz24iDJQ0DGB29efkUQulQYmHz3jDfn6z9C2MPLS3fZNNLc5zJM93Xxx9HD6F1mkjBGQQcgg4I+QjqWQRr6GraiKc+Zvy2VBtBPHgOxM3+3wd3x/vlb2i2ggk4OJid5H+9744fThRAtXzSvSLFY8OGWkEHtBBH0hclXcEr4zljnMP8AZJbn5cda2lJtBOzg/TIP7Qw7vN9SCYItLSbRQu4PDoj5T4zfpHH9i28UjXAOa4OaeotIIPzhBzREQEW/2H2dZc5auE1kdJJT26ur4GvhkndWPoYXTvpImxkFsjoo53avGIELsNd1DrWHZi43Bm8obbcK2Pj99pKSpqYgW8CN7DGWagezOeCDUouxcaGamlMNTBPTTtAc6Gpikp5mgkgF0UzQ8AkHiR2FddAREQEREBERAREQEREBETKAiLsUtBPMyaSKCeWOnYJKiSKKSSOnjcdLZJ3saWwsLuAc4gZQddERAREQEREBERAREQEREBERAREQEREBFiqahkTS6RwY0drjj5h5T6FHLntMTltOMf8AzHDj8rW9nz/QgkFdWxwjVI8N8g63O/RaOJUWu1+km8SPMcZ8h8d3yke9HoH0rVSyue4ue4ucesuJJ/b+5cmDtPWgNGCB5FlYOK4M8q5s/wB0SZZ2PI7SCCCHNOC0g5DgR1HI61608HPlebdY47Vc3tFxjZpgncQ0VkbQAP8A64HWOGeteRys1NO6N7XxvdG9jg9j2Etcx4OQ5rhxBB7Vj2a4zhl07p1z49fL9Dqy3lrgQ3IXRuFIdJI+cFUxyQeEUzRHRX8aXNAay4sBLXjqHOWNBLHYx448Xgc6V6BjnpqynE1LNFNE9upskbg9j+GQWubkOC5+eqcPbuauRGfqbV7Xwg5H7McB1dS6MllLmOcB2Z/YpcyiDnaSOHb2/Lg+hZto6ylt1vqKurlbDTQRkySP6w3hpa1o4vkcSA1o4knCx44zMs2WVeZeW+USjZE6aom8SOPAB6tTuOlrQffEnyKnqud08hkcMDqa3sa0dQCk3KRta+8VbptJgpWOcKanOMsaT7+Ujg6Zw4k9QzgcOJjLupdPVr6xc+3B5O7vlNemIoFzcuJWRrPmF8wuS+Kpb5hfHhcwvhCPTEVnoqySF2qNxb5R+S70Ob1FY3DtXEBBYyIiC++SDb3mVNQ3W9y2+tpaAMsVooqejopr9SvwwGobIGsliom0hka7L3GQlg06nAv6XL7tWx9ZdqWYX+23Siq4aa300dwDrKaOKT+ttpWMjdTGal0yNDdeTJF4wAcFDNhaaOtsl/oY6SmluUAo7tSTbkOr3UtLLouUNPN74BkLo5RG3i4On4HhiI7ypuFUzVJPW1lXLDCx80r5p6iaQsggYZpnEvcSY2DUerSOACKm2xW1r7i+Cx36eWtt9XI2npquocZ66z1c7t3T1lJVSZlMG9dG2SF7iwszgDBDoLeqCSjqKmlnAE9JPPTTNGcCWnkfFIGkgEt1sOD2jCtDZzkuuJoqxrLLXs2jtd2t0jHVBZHQSUUrZODDL/RqoR1FPqe5riNEzCCQHNMR5Y6hk95r547jSXY1BZLJW0NO6kpJZnQsD2wROkkyxpaBrD36+LskkoJdfeSm3Wo0TrxtJFRxV9FTVUDYrdU1VRrlaTNvIoZCIaWMmPEzjmQl4DW6CTrqzkfrWbQOsLaineG0wuDri7MdMy2acvrpGai5gDvvegE+OQNWk6xm8Juuhqa20up5op2t2WtUZdC9krWyCSvcYyWEgP0vYdPXh7fKrSuW21BS7VDe1tLHS3LY2ktgr/vNTTUlS9880LqkO1RGHTjU14LfvkerDSSiKfrdhLfUUVfV2O+e6z7VAKmuppbfPbpDSai2StpHTSOE0TDxcw4c1uCTkta7U8oWxxtEFnmNQKj3WtFPdNIi3XNzO0O3Gdbt6Ggt8fxc8fFCsnaKK+0VBcH1t52UpKeegqqbTb4rOaq6xzR4fR0Yo6JsxZKOGslmnxXEDGW8dstn27SWjZuqobnaIGWyyQ2y5ivrWUr6GamZG1z5I3NLnRnEhHUSAwt1B+QVpaXkZdJfaCyC4jVW2SO8c4FKSIzI2cc2ERnGv75B+E1N4P8Ae8OPVtvJZBWVcVuoL7S1dbE2aa8ObS1MdutVNTtbv5m3CQhleGyuEY3YbqLgToAcRblNe6Bu3dnmir6V9GzZCGFlUZomRkt5/I1r3F2I5TCWv0HiA4cFTPg83ukp33K3XCoZRU98slTa+eyeLHSTyx6Y3zOPBkRDpAXEgAhmcDJBHYk5NqCspa2awX5t3qLbTuqqqikt9Tb5paaM4lqKIzPdv2t8wDPFvHLmh3KHkyoobVabzdL8ygo7nHM7dsoKisqmyxyYjigigeTMwxhz3ykNDCGNw8vGJNye2Loe64Xe7V9qe91qqqK30VBWMrJq+oqXQlrmNY0FtK0xNy9w4CTJDdPGM8qVZC/ZnYiGKaKSSno7uyZjHse+ImoomtErGnMZJjfjVjOh3kQd6/cklvtc0XuttNTU1FWtjktdRBQ1NTLVwSMY41M8Eb9NDTsMjBrc9wdxI04ONezkcrPd+ssclTBFHQU5raq6SNcKWO37tkgqjHqyHHeBu7LhhzJPG0tL198IqtinptmRBNFMY9k7fHIIntkMcgY8GN4YTokyD4pweCtTa/aW3TbTbQ26W4UsFPf9nKa2w3HeMkpYKrcSmJs8rHaWRubUEkkgeKwflhBXOz/JRbrsax1n2kZVx0NFUVM7ZrbU0lSHxtzDu4p5AJaWRweDIDmMhgLXawRvaTZaxP2Kje+9xRMdfWvfdvcSskmjqHUADrZuGu3742tJdvQ7dnHVldrka2RGz9XdZbrdLOyolsNwgpqamr4qh0jHGKWaokdhoijG4jDA7Dn65DpG7KjvJ/SsvGx89ip6uigukF8ZcmU9bUR0nOKU0ccBdA+Tg9zXl+R2aBnGpuStNbOTqjht9Nc75em2qmuDpvcyGOhnr6ysgiIBq3QRPBp6fBa7jnhJHxBc0Gb8k+zMEdLtrQU13oKulmstue26t1w0sUMpuDpH1cbsvp5Imte58eXEAN7TgdK/WZu1FosDLfXW2K4WKhNpuFBWVcVO/FPuoo6umfksnp37gu1tJaRI3jlpC6+x1DT2m3bbULrpbqyR9joQJKOcPgfUufWtlpKeR+nnT43PiaXMGMytGAcgERy7cnlE+0Vl2st7F2ZbHwNuMElvqLdLEyodojqIW1Dy6SLJPAgcI5OOWFqrpWfyT10MWzu20ck0Uck1FaWwse9jHzOFRWAiJjjmQgvZkNzjW3yqsEBERAREQEREBERAREQEREBERAWpvl5bB4jcPlIzj8lueou9S7lzqxDGXflHxWDyu9Q61BJWuL3ayS4klx8pPHKEy+1c8kztUjy53ZnqA8jR1NHyL5FH5VyYxZQjzb5p9CBqyL4ULfAF8K5AoUQC5YXFq5hBxK22y21dwtT9dvrZ6Yk+NGx33mTy7yB+Y3nh1kZWpeuLipMX7escpifHheOx/hDVUTg250rZ28A6elIil7PfQyO0P4Z6nN+RQvli5TqraKoG8Bp6CB2aWiactacY385HCSpI7epoJDe0ugIGFw6z6F4x14xNxDNlytmWPWZc3FfB1JlfXrIwOLl8X1/YiI+EIAvq+FAC+oetAg49nzrivresj0ri7rA9KLaxUREenbs1znoqiGrpJn09VTyCWCeMgPjeARkZBBBaXNLXAtc1zmkEEgzKXamyVrt/cLHPS1hcJJKiw1zaKGeXOS/mFVBLFSuJwSYXAEknAKgSIL/5KeVx4qTaKBtNaKOqguL2196uNVcZoriaOR9JVTVVW9sEcRmiiDoGxaSZHEEuJ1U/tbtG2vjo2C22qhlpWzsmntlLHRiudK9jmyTxwgR5YGYbpAH3x+MAho0CIr4AgC+oiPgaB1ABC0deBlfUQfMDyL6iIPgaB1AD5EwvqIN1atk7hVU5qqejllgG+Ie3dh0u4bqnMETnCSq0N98Ymu04OcYWNuzFcaM3AUkvMxG6YzeIPvDZN06oEWreuphIdJmDdAIILuBU75O9prXRNtMk0scMlKKxlaJLa6vrHSVMlU2OajrJHFlDRthngLmQBkuqGfxZDLqWjuVfbpqenmdXVrJ6axUtmNDSxOhfO+kp20Rc6rfmL3MniaZXxOGsmR7NPHUg0l02OuFJC2aegmijc+KPqY57JZ2l8Ec0EbjLTyvAOlkjWudjgCthdOT+vpqPnFTTyxzOuVJbIaQRtmknmqoK2Uta6GR2mpY+kZGact15qWZ08A6dDbi1UslVPTyQytN2s1zpaWO1up53wWy4mpdTV1ymc+esuBhkH3yV7otUL3B+ZNI1ezW09rs7onQ1dTcsX+C5SA0j4C2j9zbxQPdid+JLgx1wje4cGOLGBrzxLQhtRsTcmzw0rqCZ09QyeSnjj3c++FMxz6kRPhc5kkkbWkuYDqbkAgFwBy1+wl1giknloJWwwwuqHSh8D2GCNuuWeExyHnETG8Xui1Bgzq0qUja6jpo46WGanfG2nvzy+3Wz3LpW1Nwsc1rpA2J2Z5J3PLN5IdLGtEQGvSXLWWbaalidaC9zw2i2fvlumxGTpqrh0g3DWD8ph90aXLhwGXZ96gi9VYKuKSqjkppGSUMTJqtrtP8AR4pHQMje85xpc6ppwME53rcZWuVj7bXHd2K2skjmhuV0pqOOvbMxzHSW+wyVVNa5y2TD9NQ2SA6yPG9ymkEgjNcICIiAiIgIiICIiAiIgIiICIurdandQySdobw/SPBv7SEGgvtVvJSBxbHljflHvj9PD/wrWy8flH7li3q4GVHmWZfcLrslX3eoOwuLjwWAyrg6XsQdhrsYXPK628TeIjs5X3UusHr46RCnYLlxcVgEia0Vn1LiSsWtC5CIZgV9JWDUmtFplcepMrE53ampEplymVhL0D0IhmBXEO4rEHIXItObzh2fLhcZPfD5Vwe7qXxzuIRVlooZ0rn8yHuv9tOlc/mQ91/tqLSZooZ0rn8yHuv9tOlc/mQ91/toUmaKGdK5/Mh7r/bTpXP5kPdf7aFJmihnSufzIe6/206Vz+ZD3X+2hSZooZ0rn8yHuv8AbTpXP5kPdf7aFJmihnSufzIe6/206Vz+ZD3X+2hSZooZ0rn8yHuv9tOlc/mQ91/toUmaKGdK5/Mh7r/bTpXP5kPdf7aFJmihnSufzIe6/wBtOlc/mQ91/toUmaKGdK5/Mh7r/bTpXP5kPdf7aFJo4knJJJwBknJwAGgZPYAAPkAXxQzpXP5kPdf7adK5/Mh7r/bQpM0UM6Vz+ZD3X+2nSufzIe6/20KTNFDOlc/mQ91/tp0rn8yHuv8AbQpM0UM6Vz+ZD3X+2nSufzIe6/20KTNFDOlc/mQ91/tp0rn8yHuv9tCkzRQzpXP5kPdf7adK5/Mh7r/bQpM0UM6Vz+ZD3X+2nSufzIe6/wBtCkzUd23qMRxR+e4uPyMHD9p/Ytd0rn8yHuv9ta67XN9S5rpAwFo0jQHAYznjknillOvqXzUseUyhTJqTUseUyhTmXICuGUyhTJqTUseUyhTJqTUseUyhTJqTUseUyhTJqTUseUyhTJqTUseUyhTJqX3WsWUyhTJqTUseUyhTJqXwuXDKZQpzz2L5lccplCnxERRRERAREQEREBERAREQEREBERAREQEREBERAREQEREBERAREQEREBERAREQEREBERAREQEREBERAREQEREBERAREQEREBERAREQEREBERAREQEREBERAREQEREBERAREQEREBERAREQEREBERAREQEREBERAREQEREBERAREQEREBERAREQEREBERAREQEREBERAREQEREBERAREQEREBERAREQEREBERAREQEREBERAREQEREBERAREQEREBERAREQEREBERAREQEREBERAREQEREBERAREQEREBERAREQf//Z\n"
              }
            ],
            "_view_module": "@jupyter-widgets/output",
            "_model_module_version": "1.0.0",
            "_view_count": null,
            "_view_module_version": "1.0.0",
            "layout": "IPY_MODEL_41e7c1e4e83a4a65bb48e4057dc2e014",
            "_model_module": "@jupyter-widgets/output"
          }
        },
        "f778e2477ac5431a86c810e43cdb807e": {
          "model_module": "@jupyter-widgets/output",
          "model_name": "OutputModel",
          "state": {
            "_view_name": "OutputView",
            "msg_id": "",
            "_dom_classes": [],
            "_model_name": "OutputModel",
            "outputs": [
              {
                "output_type": "stream",
                "metadata": {
                  "tags": []
                },
                "text": "Video available at https://www.bilibili.com/video/BV1EK4y1u7AV\n",
                "stream": "stdout"
              },
              {
                "output_type": "display_data",
                "metadata": {
                  "tags": []
                },
                "text/html": "\n        <iframe\n            width=\"854\"\n            height=\"480\"\n            src=\"https://player.bilibili.com/player.html?bvid=BV1EK4y1u7AV&page=1?fs=1\"\n            frameborder=\"0\"\n            allowfullscreen\n        ></iframe>\n        ",
                "text/plain": "<__main__.BiliVideo at 0x7fe8ed1445d0>"
              }
            ],
            "_view_module": "@jupyter-widgets/output",
            "_model_module_version": "1.0.0",
            "_view_count": null,
            "_view_module_version": "1.0.0",
            "layout": "IPY_MODEL_c23cd39c3e7a49d3a49ecef23105061d",
            "_model_module": "@jupyter-widgets/output"
          }
        },
        "41e7c1e4e83a4a65bb48e4057dc2e014": {
          "model_module": "@jupyter-widgets/base",
          "model_name": "LayoutModel",
          "state": {
            "_view_name": "LayoutView",
            "grid_template_rows": null,
            "right": null,
            "justify_content": null,
            "_view_module": "@jupyter-widgets/base",
            "overflow": null,
            "_model_module_version": "1.2.0",
            "_view_count": null,
            "flex_flow": null,
            "width": null,
            "min_width": null,
            "border": null,
            "align_items": null,
            "bottom": null,
            "_model_module": "@jupyter-widgets/base",
            "top": null,
            "grid_column": null,
            "overflow_y": null,
            "overflow_x": null,
            "grid_auto_flow": null,
            "grid_area": null,
            "grid_template_columns": null,
            "flex": null,
            "_model_name": "LayoutModel",
            "justify_items": null,
            "grid_row": null,
            "max_height": null,
            "align_content": null,
            "visibility": null,
            "align_self": null,
            "height": null,
            "min_height": null,
            "padding": null,
            "grid_auto_rows": null,
            "grid_gap": null,
            "max_width": null,
            "order": null,
            "_view_module_version": "1.2.0",
            "grid_template_areas": null,
            "object_position": null,
            "object_fit": null,
            "grid_auto_columns": null,
            "margin": null,
            "display": null,
            "left": null
          }
        },
        "c23cd39c3e7a49d3a49ecef23105061d": {
          "model_module": "@jupyter-widgets/base",
          "model_name": "LayoutModel",
          "state": {
            "_view_name": "LayoutView",
            "grid_template_rows": null,
            "right": null,
            "justify_content": null,
            "_view_module": "@jupyter-widgets/base",
            "overflow": null,
            "_model_module_version": "1.2.0",
            "_view_count": null,
            "flex_flow": null,
            "width": null,
            "min_width": null,
            "border": null,
            "align_items": null,
            "bottom": null,
            "_model_module": "@jupyter-widgets/base",
            "top": null,
            "grid_column": null,
            "overflow_y": null,
            "overflow_x": null,
            "grid_auto_flow": null,
            "grid_area": null,
            "grid_template_columns": null,
            "flex": null,
            "_model_name": "LayoutModel",
            "justify_items": null,
            "grid_row": null,
            "max_height": null,
            "align_content": null,
            "visibility": null,
            "align_self": null,
            "height": null,
            "min_height": null,
            "padding": null,
            "grid_auto_rows": null,
            "grid_gap": null,
            "max_width": null,
            "order": null,
            "_view_module_version": "1.2.0",
            "grid_template_areas": null,
            "object_position": null,
            "object_fit": null,
            "grid_auto_columns": null,
            "margin": null,
            "display": null,
            "left": null
          }
        },
        "4d77bba67c3a4f6791276e851140bdd4": {
          "model_module": "@jupyter-widgets/controls",
          "model_name": "TabModel",
          "state": {
            "_view_name": "TabView",
            "_dom_classes": [],
            "_titles": {
              "0": "Youtube",
              "1": "Bilibili"
            },
            "_model_name": "TabModel",
            "_view_module": "@jupyter-widgets/controls",
            "selected_index": 0,
            "_model_module_version": "1.5.0",
            "_view_count": null,
            "_view_module_version": "1.5.0",
            "box_style": "",
            "layout": "IPY_MODEL_baab8b3b21c349f2a662ac4ff1b045ab",
            "_model_module": "@jupyter-widgets/controls",
            "children": [
              "IPY_MODEL_03532d07906449008c8e6b492994110d",
              "IPY_MODEL_3b64676ea956477aa82053c9907aa0fc"
            ]
          }
        },
        "baab8b3b21c349f2a662ac4ff1b045ab": {
          "model_module": "@jupyter-widgets/base",
          "model_name": "LayoutModel",
          "state": {
            "_view_name": "LayoutView",
            "grid_template_rows": null,
            "right": null,
            "justify_content": null,
            "_view_module": "@jupyter-widgets/base",
            "overflow": null,
            "_model_module_version": "1.2.0",
            "_view_count": null,
            "flex_flow": null,
            "width": null,
            "min_width": null,
            "border": null,
            "align_items": null,
            "bottom": null,
            "_model_module": "@jupyter-widgets/base",
            "top": null,
            "grid_column": null,
            "overflow_y": null,
            "overflow_x": null,
            "grid_auto_flow": null,
            "grid_area": null,
            "grid_template_columns": null,
            "flex": null,
            "_model_name": "LayoutModel",
            "justify_items": null,
            "grid_row": null,
            "max_height": null,
            "align_content": null,
            "visibility": null,
            "align_self": null,
            "height": null,
            "min_height": null,
            "padding": null,
            "grid_auto_rows": null,
            "grid_gap": null,
            "max_width": null,
            "order": null,
            "_view_module_version": "1.2.0",
            "grid_template_areas": null,
            "object_position": null,
            "object_fit": null,
            "grid_auto_columns": null,
            "margin": null,
            "display": null,
            "left": null
          }
        },
        "03532d07906449008c8e6b492994110d": {
          "model_module": "@jupyter-widgets/output",
          "model_name": "OutputModel",
          "state": {
            "_view_name": "OutputView",
            "msg_id": "",
            "_dom_classes": [],
            "_model_name": "OutputModel",
            "outputs": [
              {
                "output_type": "stream",
                "metadata": {
                  "tags": []
                },
                "text": "Video available at https://youtube.com/watch?v=iprFMHch2_g\n",
                "stream": "stdout"
              },
              {
                "output_type": "display_data",
                "metadata": {
                  "tags": []
                },
                "text/html": "\n        <iframe\n            width=\"854\"\n            height=\"480\"\n            src=\"https://www.youtube.com/embed/iprFMHch2_g?fs=1&rel=0\"\n            frameborder=\"0\"\n            allowfullscreen\n        ></iframe>\n        ",
                "text/plain": "<IPython.lib.display.YouTubeVideo at 0x7fe8ecb386d0>",
                "image/jpeg": "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\n"
              }
            ],
            "_view_module": "@jupyter-widgets/output",
            "_model_module_version": "1.0.0",
            "_view_count": null,
            "_view_module_version": "1.0.0",
            "layout": "IPY_MODEL_5811c165b4b7451586aa783798d5d4f3",
            "_model_module": "@jupyter-widgets/output"
          }
        },
        "3b64676ea956477aa82053c9907aa0fc": {
          "model_module": "@jupyter-widgets/output",
          "model_name": "OutputModel",
          "state": {
            "_view_name": "OutputView",
            "msg_id": "",
            "_dom_classes": [],
            "_model_name": "OutputModel",
            "outputs": [
              {
                "output_type": "stream",
                "metadata": {
                  "tags": []
                },
                "text": "Video available at https://www.bilibili.com/video/BV1Zq4y1p7N6\n",
                "stream": "stdout"
              },
              {
                "output_type": "display_data",
                "metadata": {
                  "tags": []
                },
                "text/html": "\n        <iframe\n            width=\"854\"\n            height=\"480\"\n            src=\"https://player.bilibili.com/player.html?bvid=BV1Zq4y1p7N6&page=1?fs=1\"\n            frameborder=\"0\"\n            allowfullscreen\n        ></iframe>\n        ",
                "text/plain": "<__main__.BiliVideo at 0x7fe8ecb01e90>"
              }
            ],
            "_view_module": "@jupyter-widgets/output",
            "_model_module_version": "1.0.0",
            "_view_count": null,
            "_view_module_version": "1.0.0",
            "layout": "IPY_MODEL_25b691f74e97460593c9fddb8d6ec9be",
            "_model_module": "@jupyter-widgets/output"
          }
        },
        "5811c165b4b7451586aa783798d5d4f3": {
          "model_module": "@jupyter-widgets/base",
          "model_name": "LayoutModel",
          "state": {
            "_view_name": "LayoutView",
            "grid_template_rows": null,
            "right": null,
            "justify_content": null,
            "_view_module": "@jupyter-widgets/base",
            "overflow": null,
            "_model_module_version": "1.2.0",
            "_view_count": null,
            "flex_flow": null,
            "width": null,
            "min_width": null,
            "border": null,
            "align_items": null,
            "bottom": null,
            "_model_module": "@jupyter-widgets/base",
            "top": null,
            "grid_column": null,
            "overflow_y": null,
            "overflow_x": null,
            "grid_auto_flow": null,
            "grid_area": null,
            "grid_template_columns": null,
            "flex": null,
            "_model_name": "LayoutModel",
            "justify_items": null,
            "grid_row": null,
            "max_height": null,
            "align_content": null,
            "visibility": null,
            "align_self": null,
            "height": null,
            "min_height": null,
            "padding": null,
            "grid_auto_rows": null,
            "grid_gap": null,
            "max_width": null,
            "order": null,
            "_view_module_version": "1.2.0",
            "grid_template_areas": null,
            "object_position": null,
            "object_fit": null,
            "grid_auto_columns": null,
            "margin": null,
            "display": null,
            "left": null
          }
        },
        "25b691f74e97460593c9fddb8d6ec9be": {
          "model_module": "@jupyter-widgets/base",
          "model_name": "LayoutModel",
          "state": {
            "_view_name": "LayoutView",
            "grid_template_rows": null,
            "right": null,
            "justify_content": null,
            "_view_module": "@jupyter-widgets/base",
            "overflow": null,
            "_model_module_version": "1.2.0",
            "_view_count": null,
            "flex_flow": null,
            "width": null,
            "min_width": null,
            "border": null,
            "align_items": null,
            "bottom": null,
            "_model_module": "@jupyter-widgets/base",
            "top": null,
            "grid_column": null,
            "overflow_y": null,
            "overflow_x": null,
            "grid_auto_flow": null,
            "grid_area": null,
            "grid_template_columns": null,
            "flex": null,
            "_model_name": "LayoutModel",
            "justify_items": null,
            "grid_row": null,
            "max_height": null,
            "align_content": null,
            "visibility": null,
            "align_self": null,
            "height": null,
            "min_height": null,
            "padding": null,
            "grid_auto_rows": null,
            "grid_gap": null,
            "max_width": null,
            "order": null,
            "_view_module_version": "1.2.0",
            "grid_template_areas": null,
            "object_position": null,
            "object_fit": null,
            "grid_auto_columns": null,
            "margin": null,
            "display": null,
            "left": null
          }
        },
        "00a0651707ac40ff8f99c38678f913f7": {
          "model_module": "@jupyter-widgets/controls",
          "model_name": "VBoxModel",
          "state": {
            "_view_name": "VBoxView",
            "_dom_classes": [
              "widget-interact"
            ],
            "_model_name": "VBoxModel",
            "_view_module": "@jupyter-widgets/controls",
            "_model_module_version": "1.5.0",
            "_view_count": null,
            "_view_module_version": "1.5.0",
            "box_style": "",
            "layout": "IPY_MODEL_61f8291604cb42438e328ed6bd5213c7",
            "_model_module": "@jupyter-widgets/controls",
            "children": [
              "IPY_MODEL_cf009dc20cdb487da4675996ef1341af",
              "IPY_MODEL_2d931cc115624b64bf95a535950f7602",
              "IPY_MODEL_5ceee5f1fece4b758df38c5cb2860cee",
              "IPY_MODEL_6e5d539fa81842ddaf64863bb8a564f1"
            ]
          }
        },
        "61f8291604cb42438e328ed6bd5213c7": {
          "model_module": "@jupyter-widgets/base",
          "model_name": "LayoutModel",
          "state": {
            "_view_name": "LayoutView",
            "grid_template_rows": null,
            "right": null,
            "justify_content": null,
            "_view_module": "@jupyter-widgets/base",
            "overflow": null,
            "_model_module_version": "1.2.0",
            "_view_count": null,
            "flex_flow": null,
            "width": null,
            "min_width": null,
            "border": null,
            "align_items": null,
            "bottom": null,
            "_model_module": "@jupyter-widgets/base",
            "top": null,
            "grid_column": null,
            "overflow_y": null,
            "overflow_x": null,
            "grid_auto_flow": null,
            "grid_area": null,
            "grid_template_columns": null,
            "flex": null,
            "_model_name": "LayoutModel",
            "justify_items": null,
            "grid_row": null,
            "max_height": null,
            "align_content": null,
            "visibility": null,
            "align_self": null,
            "height": null,
            "min_height": null,
            "padding": null,
            "grid_auto_rows": null,
            "grid_gap": null,
            "max_width": null,
            "order": null,
            "_view_module_version": "1.2.0",
            "grid_template_areas": null,
            "object_position": null,
            "object_fit": null,
            "grid_auto_columns": null,
            "margin": null,
            "display": null,
            "left": null
          }
        },
        "cf009dc20cdb487da4675996ef1341af": {
          "model_module": "@jupyter-widgets/controls",
          "model_name": "FloatSliderModel",
          "state": {
            "_view_name": "FloatSliderView",
            "style": "IPY_MODEL_0fc7428029484cd3892c94bea27d411d",
            "_dom_classes": [],
            "description": "p(color=golden)",
            "step": 0.01,
            "_model_name": "FloatSliderModel",
            "orientation": "horizontal",
            "max": 0.99,
            "_view_module": "@jupyter-widgets/controls",
            "_model_module_version": "1.5.0",
            "value": 0.5,
            "_view_count": null,
            "disabled": false,
            "_view_module_version": "1.5.0",
            "min": 0.01,
            "continuous_update": true,
            "readout_format": ".2f",
            "description_tooltip": null,
            "readout": true,
            "_model_module": "@jupyter-widgets/controls",
            "layout": "IPY_MODEL_8e197e682ed642bd985c810addfc65e5"
          }
        },
        "2d931cc115624b64bf95a535950f7602": {
          "model_module": "@jupyter-widgets/controls",
          "model_name": "FloatSliderModel",
          "state": {
            "_view_name": "FloatSliderView",
            "style": "IPY_MODEL_ee30cbbbca324873af4479e7a42bf364",
            "_dom_classes": [],
            "description": "p(size=large)",
            "step": 0.01,
            "_model_name": "FloatSliderModel",
            "orientation": "horizontal",
            "max": 0.99,
            "_view_module": "@jupyter-widgets/controls",
            "_model_module_version": "1.5.0",
            "value": 0.56,
            "_view_count": null,
            "disabled": false,
            "_view_module_version": "1.5.0",
            "min": 0.01,
            "continuous_update": true,
            "readout_format": ".2f",
            "description_tooltip": null,
            "readout": true,
            "_model_module": "@jupyter-widgets/controls",
            "layout": "IPY_MODEL_7d5c0c18b1c145dcb75994470a933b5b"
          }
        },
        "5ceee5f1fece4b758df38c5cb2860cee": {
          "model_module": "@jupyter-widgets/controls",
          "model_name": "FloatSliderModel",
          "state": {
            "_view_name": "FloatSliderView",
            "style": "IPY_MODEL_9818c567044140928265733d9acf63ca",
            "_dom_classes": [],
            "description": "ρ",
            "step": 0.01,
            "_model_name": "FloatSliderModel",
            "orientation": "horizontal",
            "max": 0.8764052604279183,
            "_view_module": "@jupyter-widgets/controls",
            "_model_module_version": "1.5.0",
            "value": -0.8764052604279183,
            "_view_count": null,
            "disabled": false,
            "_view_module_version": "1.5.0",
            "min": -0.8764052604279183,
            "continuous_update": true,
            "readout_format": ".2f",
            "description_tooltip": null,
            "readout": true,
            "_model_module": "@jupyter-widgets/controls",
            "layout": "IPY_MODEL_f659f2a21fe343ff962b16ac2cd4f01d"
          }
        },
        "6e5d539fa81842ddaf64863bb8a564f1": {
          "model_module": "@jupyter-widgets/output",
          "model_name": "OutputModel",
          "state": {
            "_view_name": "OutputView",
            "msg_id": "",
            "_dom_classes": [],
            "_model_name": "OutputModel",
            "outputs": [
              {
                "output_type": "display_data",
                "metadata": {
                  "tags": [],
                  "image/png": {
                    "width": 384,
                    "height": 361
                  },
                  "needs_background": "light"
                },
                "image/png": "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\n",
                "text/plain": "<Figure size 360x360 with 3 Axes>"
              }
            ],
            "_view_module": "@jupyter-widgets/output",
            "_model_module_version": "1.0.0",
            "_view_count": null,
            "_view_module_version": "1.0.0",
            "layout": "IPY_MODEL_9443570b7f19435a9c5e5280a92420fb",
            "_model_module": "@jupyter-widgets/output"
          }
        },
        "0fc7428029484cd3892c94bea27d411d": {
          "model_module": "@jupyter-widgets/controls",
          "model_name": "SliderStyleModel",
          "state": {
            "_view_name": "StyleView",
            "handle_color": null,
            "_model_name": "SliderStyleModel",
            "description_width": "initial",
            "_view_module": "@jupyter-widgets/base",
            "_model_module_version": "1.5.0",
            "_view_count": null,
            "_view_module_version": "1.2.0",
            "_model_module": "@jupyter-widgets/controls"
          }
        },
        "8e197e682ed642bd985c810addfc65e5": {
          "model_module": "@jupyter-widgets/base",
          "model_name": "LayoutModel",
          "state": {
            "_view_name": "LayoutView",
            "grid_template_rows": null,
            "right": null,
            "justify_content": null,
            "_view_module": "@jupyter-widgets/base",
            "overflow": null,
            "_model_module_version": "1.2.0",
            "_view_count": null,
            "flex_flow": null,
            "width": null,
            "min_width": null,
            "border": null,
            "align_items": null,
            "bottom": null,
            "_model_module": "@jupyter-widgets/base",
            "top": null,
            "grid_column": null,
            "overflow_y": null,
            "overflow_x": null,
            "grid_auto_flow": null,
            "grid_area": "widget002",
            "grid_template_columns": null,
            "flex": null,
            "_model_name": "LayoutModel",
            "justify_items": null,
            "grid_row": null,
            "max_height": null,
            "align_content": null,
            "visibility": null,
            "align_self": null,
            "height": null,
            "min_height": null,
            "padding": null,
            "grid_auto_rows": null,
            "grid_gap": null,
            "max_width": null,
            "order": null,
            "_view_module_version": "1.2.0",
            "grid_template_areas": null,
            "object_position": null,
            "object_fit": null,
            "grid_auto_columns": null,
            "margin": null,
            "display": null,
            "left": null
          }
        },
        "ee30cbbbca324873af4479e7a42bf364": {
          "model_module": "@jupyter-widgets/controls",
          "model_name": "SliderStyleModel",
          "state": {
            "_view_name": "StyleView",
            "handle_color": null,
            "_model_name": "SliderStyleModel",
            "description_width": "initial",
            "_view_module": "@jupyter-widgets/base",
            "_model_module_version": "1.5.0",
            "_view_count": null,
            "_view_module_version": "1.2.0",
            "_model_module": "@jupyter-widgets/controls"
          }
        },
        "7d5c0c18b1c145dcb75994470a933b5b": {
          "model_module": "@jupyter-widgets/base",
          "model_name": "LayoutModel",
          "state": {
            "_view_name": "LayoutView",
            "grid_template_rows": null,
            "right": null,
            "justify_content": null,
            "_view_module": "@jupyter-widgets/base",
            "overflow": null,
            "_model_module_version": "1.2.0",
            "_view_count": null,
            "flex_flow": null,
            "width": null,
            "min_width": null,
            "border": null,
            "align_items": null,
            "bottom": null,
            "_model_module": "@jupyter-widgets/base",
            "top": null,
            "grid_column": null,
            "overflow_y": null,
            "overflow_x": null,
            "grid_auto_flow": null,
            "grid_area": "widget003",
            "grid_template_columns": null,
            "flex": null,
            "_model_name": "LayoutModel",
            "justify_items": null,
            "grid_row": null,
            "max_height": null,
            "align_content": null,
            "visibility": null,
            "align_self": null,
            "height": null,
            "min_height": null,
            "padding": null,
            "grid_auto_rows": null,
            "grid_gap": null,
            "max_width": null,
            "order": null,
            "_view_module_version": "1.2.0",
            "grid_template_areas": null,
            "object_position": null,
            "object_fit": null,
            "grid_auto_columns": null,
            "margin": null,
            "display": null,
            "left": null
          }
        },
        "9818c567044140928265733d9acf63ca": {
          "model_module": "@jupyter-widgets/controls",
          "model_name": "SliderStyleModel",
          "state": {
            "_view_name": "StyleView",
            "handle_color": null,
            "_model_name": "SliderStyleModel",
            "description_width": "",
            "_view_module": "@jupyter-widgets/base",
            "_model_module_version": "1.5.0",
            "_view_count": null,
            "_view_module_version": "1.2.0",
            "_model_module": "@jupyter-widgets/controls"
          }
        },
        "f659f2a21fe343ff962b16ac2cd4f01d": {
          "model_module": "@jupyter-widgets/base",
          "model_name": "LayoutModel",
          "state": {
            "_view_name": "LayoutView",
            "grid_template_rows": null,
            "right": null,
            "justify_content": null,
            "_view_module": "@jupyter-widgets/base",
            "overflow": null,
            "_model_module_version": "1.2.0",
            "_view_count": null,
            "flex_flow": null,
            "width": null,
            "min_width": null,
            "border": null,
            "align_items": null,
            "bottom": null,
            "_model_module": "@jupyter-widgets/base",
            "top": null,
            "grid_column": null,
            "overflow_y": null,
            "overflow_x": null,
            "grid_auto_flow": null,
            "grid_area": "widget001",
            "grid_template_columns": null,
            "flex": null,
            "_model_name": "LayoutModel",
            "justify_items": null,
            "grid_row": null,
            "max_height": null,
            "align_content": null,
            "visibility": null,
            "align_self": null,
            "height": null,
            "min_height": null,
            "padding": null,
            "grid_auto_rows": null,
            "grid_gap": null,
            "max_width": null,
            "order": null,
            "_view_module_version": "1.2.0",
            "grid_template_areas": null,
            "object_position": null,
            "object_fit": null,
            "grid_auto_columns": null,
            "margin": null,
            "display": null,
            "left": null
          }
        },
        "9443570b7f19435a9c5e5280a92420fb": {
          "model_module": "@jupyter-widgets/base",
          "model_name": "LayoutModel",
          "state": {
            "_view_name": "LayoutView",
            "grid_template_rows": null,
            "right": null,
            "justify_content": null,
            "_view_module": "@jupyter-widgets/base",
            "overflow": null,
            "_model_module_version": "1.2.0",
            "_view_count": null,
            "flex_flow": null,
            "width": null,
            "min_width": null,
            "border": null,
            "align_items": null,
            "bottom": null,
            "_model_module": "@jupyter-widgets/base",
            "top": null,
            "grid_column": null,
            "overflow_y": null,
            "overflow_x": null,
            "grid_auto_flow": null,
            "grid_area": null,
            "grid_template_columns": null,
            "flex": null,
            "_model_name": "LayoutModel",
            "justify_items": null,
            "grid_row": null,
            "max_height": null,
            "align_content": null,
            "visibility": null,
            "align_self": null,
            "height": null,
            "min_height": null,
            "padding": null,
            "grid_auto_rows": null,
            "grid_gap": null,
            "max_width": null,
            "order": null,
            "_view_module_version": "1.2.0",
            "grid_template_areas": null,
            "object_position": null,
            "object_fit": null,
            "grid_auto_columns": null,
            "margin": null,
            "display": null,
            "left": null
          }
        },
        "55ac0ae9078e475189f3ff20ccb3c334": {
          "model_module": "@jupyter-widgets/controls",
          "model_name": "TabModel",
          "state": {
            "_view_name": "TabView",
            "_dom_classes": [],
            "_titles": {
              "0": "Youtube",
              "1": "Bilibili"
            },
            "_model_name": "TabModel",
            "_view_module": "@jupyter-widgets/controls",
            "selected_index": 0,
            "_model_module_version": "1.5.0",
            "_view_count": null,
            "_view_module_version": "1.5.0",
            "box_style": "",
            "layout": "IPY_MODEL_13deee148d384281bb5e09b8e822c9c5",
            "_model_module": "@jupyter-widgets/controls",
            "children": [
              "IPY_MODEL_6d0bb0f8a2a54c2d8d45438d3f860deb",
              "IPY_MODEL_61e3c63cffb54fc08aea0283a318b261"
            ]
          }
        },
        "13deee148d384281bb5e09b8e822c9c5": {
          "model_module": "@jupyter-widgets/base",
          "model_name": "LayoutModel",
          "state": {
            "_view_name": "LayoutView",
            "grid_template_rows": null,
            "right": null,
            "justify_content": null,
            "_view_module": "@jupyter-widgets/base",
            "overflow": null,
            "_model_module_version": "1.2.0",
            "_view_count": null,
            "flex_flow": null,
            "width": null,
            "min_width": null,
            "border": null,
            "align_items": null,
            "bottom": null,
            "_model_module": "@jupyter-widgets/base",
            "top": null,
            "grid_column": null,
            "overflow_y": null,
            "overflow_x": null,
            "grid_auto_flow": null,
            "grid_area": null,
            "grid_template_columns": null,
            "flex": null,
            "_model_name": "LayoutModel",
            "justify_items": null,
            "grid_row": null,
            "max_height": null,
            "align_content": null,
            "visibility": null,
            "align_self": null,
            "height": null,
            "min_height": null,
            "padding": null,
            "grid_auto_rows": null,
            "grid_gap": null,
            "max_width": null,
            "order": null,
            "_view_module_version": "1.2.0",
            "grid_template_areas": null,
            "object_position": null,
            "object_fit": null,
            "grid_auto_columns": null,
            "margin": null,
            "display": null,
            "left": null
          }
        },
        "6d0bb0f8a2a54c2d8d45438d3f860deb": {
          "model_module": "@jupyter-widgets/output",
          "model_name": "OutputModel",
          "state": {
            "_view_name": "OutputView",
            "msg_id": "",
            "_dom_classes": [],
            "_model_name": "OutputModel",
            "outputs": [
              {
                "output_type": "stream",
                "metadata": {
                  "tags": []
                },
                "text": "Video available at https://youtube.com/watch?v=cOAJQ4utwD0\n",
                "stream": "stdout"
              },
              {
                "output_type": "display_data",
                "metadata": {
                  "tags": []
                },
                "text/html": "\n        <iframe\n            width=\"854\"\n            height=\"480\"\n            src=\"https://www.youtube.com/embed/cOAJQ4utwD0?fs=1&rel=0\"\n            frameborder=\"0\"\n            allowfullscreen\n        ></iframe>\n        ",
                "text/plain": "<IPython.lib.display.YouTubeVideo at 0x7fe8ecb386d0>",
                "image/jpeg": "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\n"
              }
            ],
            "_view_module": "@jupyter-widgets/output",
            "_model_module_version": "1.0.0",
            "_view_count": null,
            "_view_module_version": "1.0.0",
            "layout": "IPY_MODEL_b4db7c0a803d4df1bb020894bd7e3c45",
            "_model_module": "@jupyter-widgets/output"
          }
        },
        "61e3c63cffb54fc08aea0283a318b261": {
          "model_module": "@jupyter-widgets/output",
          "model_name": "OutputModel",
          "state": {
            "_view_name": "OutputView",
            "msg_id": "",
            "_dom_classes": [],
            "_model_name": "OutputModel",
            "outputs": [
              {
                "output_type": "stream",
                "metadata": {
                  "tags": []
                },
                "text": "Video available at https://www.bilibili.com/video/BV1fK4y1M7EC\n",
                "stream": "stdout"
              },
              {
                "output_type": "display_data",
                "metadata": {
                  "tags": []
                },
                "text/html": "\n        <iframe\n            width=\"854\"\n            height=\"480\"\n            src=\"https://player.bilibili.com/player.html?bvid=BV1fK4y1M7EC&page=1?fs=1\"\n            frameborder=\"0\"\n            allowfullscreen\n        ></iframe>\n        ",
                "text/plain": "<__main__.BiliVideo at 0x7fe8ed8ad9d0>"
              }
            ],
            "_view_module": "@jupyter-widgets/output",
            "_model_module_version": "1.0.0",
            "_view_count": null,
            "_view_module_version": "1.0.0",
            "layout": "IPY_MODEL_394ccddd9c2a4ced8f74cbf7774d2851",
            "_model_module": "@jupyter-widgets/output"
          }
        },
        "b4db7c0a803d4df1bb020894bd7e3c45": {
          "model_module": "@jupyter-widgets/base",
          "model_name": "LayoutModel",
          "state": {
            "_view_name": "LayoutView",
            "grid_template_rows": null,
            "right": null,
            "justify_content": null,
            "_view_module": "@jupyter-widgets/base",
            "overflow": null,
            "_model_module_version": "1.2.0",
            "_view_count": null,
            "flex_flow": null,
            "width": null,
            "min_width": null,
            "border": null,
            "align_items": null,
            "bottom": null,
            "_model_module": "@jupyter-widgets/base",
            "top": null,
            "grid_column": null,
            "overflow_y": null,
            "overflow_x": null,
            "grid_auto_flow": null,
            "grid_area": null,
            "grid_template_columns": null,
            "flex": null,
            "_model_name": "LayoutModel",
            "justify_items": null,
            "grid_row": null,
            "max_height": null,
            "align_content": null,
            "visibility": null,
            "align_self": null,
            "height": null,
            "min_height": null,
            "padding": null,
            "grid_auto_rows": null,
            "grid_gap": null,
            "max_width": null,
            "order": null,
            "_view_module_version": "1.2.0",
            "grid_template_areas": null,
            "object_position": null,
            "object_fit": null,
            "grid_auto_columns": null,
            "margin": null,
            "display": null,
            "left": null
          }
        },
        "394ccddd9c2a4ced8f74cbf7774d2851": {
          "model_module": "@jupyter-widgets/base",
          "model_name": "LayoutModel",
          "state": {
            "_view_name": "LayoutView",
            "grid_template_rows": null,
            "right": null,
            "justify_content": null,
            "_view_module": "@jupyter-widgets/base",
            "overflow": null,
            "_model_module_version": "1.2.0",
            "_view_count": null,
            "flex_flow": null,
            "width": null,
            "min_width": null,
            "border": null,
            "align_items": null,
            "bottom": null,
            "_model_module": "@jupyter-widgets/base",
            "top": null,
            "grid_column": null,
            "overflow_y": null,
            "overflow_x": null,
            "grid_auto_flow": null,
            "grid_area": null,
            "grid_template_columns": null,
            "flex": null,
            "_model_name": "LayoutModel",
            "justify_items": null,
            "grid_row": null,
            "max_height": null,
            "align_content": null,
            "visibility": null,
            "align_self": null,
            "height": null,
            "min_height": null,
            "padding": null,
            "grid_auto_rows": null,
            "grid_gap": null,
            "max_width": null,
            "order": null,
            "_view_module_version": "1.2.0",
            "grid_template_areas": null,
            "object_position": null,
            "object_fit": null,
            "grid_auto_columns": null,
            "margin": null,
            "display": null,
            "left": null
          }
        },
        "b3b209fa1faa4b0e964f3c1a215fada3": {
          "model_module": "@jupyter-widgets/controls",
          "model_name": "VBoxModel",
          "state": {
            "_view_name": "VBoxView",
            "_dom_classes": [],
            "_model_name": "VBoxModel",
            "_view_module": "@jupyter-widgets/controls",
            "_model_module_version": "1.5.0",
            "_view_count": null,
            "_view_module_version": "1.5.0",
            "box_style": "",
            "layout": "IPY_MODEL_96ef659119d5438bba71593d1a3e083f",
            "_model_module": "@jupyter-widgets/controls",
            "children": [
              "IPY_MODEL_b25be21149a74bfc881a321a04f2b624",
              "IPY_MODEL_e064605be9f54b10bea0437769349873",
              "IPY_MODEL_06fcfc49ef4943a09f0b816bbe6130c9"
            ]
          }
        },
        "96ef659119d5438bba71593d1a3e083f": {
          "model_module": "@jupyter-widgets/base",
          "model_name": "LayoutModel",
          "state": {
            "_view_name": "LayoutView",
            "grid_template_rows": null,
            "right": null,
            "justify_content": null,
            "_view_module": "@jupyter-widgets/base",
            "overflow": null,
            "_model_module_version": "1.2.0",
            "_view_count": null,
            "flex_flow": null,
            "width": null,
            "min_width": null,
            "border": null,
            "align_items": null,
            "bottom": null,
            "_model_module": "@jupyter-widgets/base",
            "top": null,
            "grid_column": null,
            "overflow_y": null,
            "overflow_x": null,
            "grid_auto_flow": null,
            "grid_area": null,
            "grid_template_columns": null,
            "flex": null,
            "_model_name": "LayoutModel",
            "justify_items": null,
            "grid_row": null,
            "max_height": null,
            "align_content": null,
            "visibility": null,
            "align_self": null,
            "height": null,
            "min_height": null,
            "padding": null,
            "grid_auto_rows": null,
            "grid_gap": null,
            "max_width": null,
            "order": null,
            "_view_module_version": "1.2.0",
            "grid_template_areas": null,
            "object_position": null,
            "object_fit": null,
            "grid_auto_columns": null,
            "margin": null,
            "display": null,
            "left": null
          }
        },
        "b25be21149a74bfc881a321a04f2b624": {
          "model_module": "@jupyter-widgets/controls",
          "model_name": "FloatSliderModel",
          "state": {
            "_view_name": "FloatSliderView",
            "style": "IPY_MODEL_a62eb9cf414d493c8a508405fd65999b",
            "_dom_classes": [],
            "description": "p(s = left)",
            "step": 0.01,
            "_model_name": "FloatSliderModel",
            "orientation": "horizontal",
            "max": 0.99,
            "_view_module": "@jupyter-widgets/controls",
            "_model_module_version": "1.5.0",
            "value": 0.6,
            "_view_count": null,
            "disabled": false,
            "_view_module_version": "1.5.0",
            "min": 0.01,
            "continuous_update": true,
            "readout_format": ".2f",
            "description_tooltip": null,
            "readout": true,
            "_model_module": "@jupyter-widgets/controls",
            "layout": "IPY_MODEL_ee926c3b6d0a4535b322a67d1f03008f"
          }
        },
        "e064605be9f54b10bea0437769349873": {
          "model_module": "@jupyter-widgets/controls",
          "model_name": "HBoxModel",
          "state": {
            "_view_name": "HBoxView",
            "_dom_classes": [],
            "_model_name": "HBoxModel",
            "_view_module": "@jupyter-widgets/controls",
            "_model_module_version": "1.5.0",
            "_view_count": null,
            "_view_module_version": "1.5.0",
            "box_style": "",
            "layout": "IPY_MODEL_6e360dff18064b8bbca0a25b10b546d0",
            "_model_module": "@jupyter-widgets/controls",
            "children": [
              "IPY_MODEL_e46288c5ff2b40f1bb64eb48a3115f39",
              "IPY_MODEL_3d50c2ea54f24ed8ab3f1e815375ec36"
            ]
          }
        },
        "06fcfc49ef4943a09f0b816bbe6130c9": {
          "model_module": "@jupyter-widgets/controls",
          "model_name": "ToggleButtonsModel",
          "state": {
            "_options_labels": [
              "Fish",
              "No Fish"
            ],
            "_view_name": "ToggleButtonsView",
            "style": "IPY_MODEL_7064d39b96954d0fa3690019276897dd",
            "_dom_classes": [],
            "description": "Observation (m) on the left:",
            "_model_name": "ToggleButtonsModel",
            "tooltips": [],
            "index": 1,
            "button_style": "",
            "_view_module": "@jupyter-widgets/controls",
            "_model_module_version": "1.5.0",
            "_view_count": null,
            "disabled": false,
            "_view_module_version": "1.5.0",
            "icons": [],
            "description_tooltip": null,
            "_model_module": "@jupyter-widgets/controls",
            "layout": "IPY_MODEL_936831a73be44764a769ed0144cf7253"
          }
        },
        "a62eb9cf414d493c8a508405fd65999b": {
          "model_module": "@jupyter-widgets/controls",
          "model_name": "SliderStyleModel",
          "state": {
            "_view_name": "StyleView",
            "handle_color": null,
            "_model_name": "SliderStyleModel",
            "description_width": "",
            "_view_module": "@jupyter-widgets/base",
            "_model_module_version": "1.5.0",
            "_view_count": null,
            "_view_module_version": "1.2.0",
            "_model_module": "@jupyter-widgets/controls"
          }
        },
        "ee926c3b6d0a4535b322a67d1f03008f": {
          "model_module": "@jupyter-widgets/base",
          "model_name": "LayoutModel",
          "state": {
            "_view_name": "LayoutView",
            "grid_template_rows": null,
            "right": null,
            "justify_content": null,
            "_view_module": "@jupyter-widgets/base",
            "overflow": null,
            "_model_module_version": "1.2.0",
            "_view_count": null,
            "flex_flow": null,
            "width": null,
            "min_width": null,
            "border": null,
            "align_items": null,
            "bottom": null,
            "_model_module": "@jupyter-widgets/base",
            "top": null,
            "grid_column": null,
            "overflow_y": null,
            "overflow_x": null,
            "grid_auto_flow": null,
            "grid_area": null,
            "grid_template_columns": null,
            "flex": null,
            "_model_name": "LayoutModel",
            "justify_items": null,
            "grid_row": null,
            "max_height": null,
            "align_content": null,
            "visibility": null,
            "align_self": null,
            "height": null,
            "min_height": null,
            "padding": null,
            "grid_auto_rows": null,
            "grid_gap": null,
            "max_width": null,
            "order": null,
            "_view_module_version": "1.2.0",
            "grid_template_areas": null,
            "object_position": null,
            "object_fit": null,
            "grid_auto_columns": null,
            "margin": null,
            "display": null,
            "left": null
          }
        },
        "6e360dff18064b8bbca0a25b10b546d0": {
          "model_module": "@jupyter-widgets/base",
          "model_name": "LayoutModel",
          "state": {
            "_view_name": "LayoutView",
            "grid_template_rows": null,
            "right": null,
            "justify_content": null,
            "_view_module": "@jupyter-widgets/base",
            "overflow": null,
            "_model_module_version": "1.2.0",
            "_view_count": null,
            "flex_flow": null,
            "width": null,
            "min_width": null,
            "border": null,
            "align_items": null,
            "bottom": null,
            "_model_module": "@jupyter-widgets/base",
            "top": null,
            "grid_column": null,
            "overflow_y": null,
            "overflow_x": null,
            "grid_auto_flow": null,
            "grid_area": null,
            "grid_template_columns": null,
            "flex": null,
            "_model_name": "LayoutModel",
            "justify_items": null,
            "grid_row": null,
            "max_height": null,
            "align_content": null,
            "visibility": null,
            "align_self": null,
            "height": null,
            "min_height": null,
            "padding": null,
            "grid_auto_rows": null,
            "grid_gap": null,
            "max_width": null,
            "order": null,
            "_view_module_version": "1.2.0",
            "grid_template_areas": null,
            "object_position": null,
            "object_fit": null,
            "grid_auto_columns": null,
            "margin": null,
            "display": null,
            "left": null
          }
        },
        "e46288c5ff2b40f1bb64eb48a3115f39": {
          "model_module": "@jupyter-widgets/controls",
          "model_name": "FloatSliderModel",
          "state": {
            "_view_name": "FloatSliderView",
            "style": "IPY_MODEL_c7295bc5999744ba994570cc4bef57ee",
            "_dom_classes": [],
            "description": "p(fish on left | state = left)",
            "step": 0.01,
            "_model_name": "FloatSliderModel",
            "orientation": "horizontal",
            "max": 0.99,
            "_view_module": "@jupyter-widgets/controls",
            "_model_module_version": "1.5.0",
            "value": 0.99,
            "_view_count": null,
            "disabled": false,
            "_view_module_version": "1.5.0",
            "min": 0.01,
            "continuous_update": true,
            "readout_format": ".2f",
            "description_tooltip": null,
            "readout": true,
            "_model_module": "@jupyter-widgets/controls",
            "layout": "IPY_MODEL_a8a72c6a452c4498b7e6d491851e0a55"
          }
        },
        "3d50c2ea54f24ed8ab3f1e815375ec36": {
          "model_module": "@jupyter-widgets/controls",
          "model_name": "FloatSliderModel",
          "state": {
            "_view_name": "FloatSliderView",
            "style": "IPY_MODEL_d686b19a6f1244119e228d06de613921",
            "_dom_classes": [],
            "description": "p(fish on left | state = right)",
            "step": 0.01,
            "_model_name": "FloatSliderModel",
            "orientation": "horizontal",
            "max": 0.99,
            "_view_module": "@jupyter-widgets/controls",
            "_model_module_version": "1.5.0",
            "value": 0.01,
            "_view_count": null,
            "disabled": false,
            "_view_module_version": "1.5.0",
            "min": 0.01,
            "continuous_update": true,
            "readout_format": ".2f",
            "description_tooltip": null,
            "readout": true,
            "_model_module": "@jupyter-widgets/controls",
            "layout": "IPY_MODEL_21caf2fec3c04e568adb0e80129581c3"
          }
        },
        "7064d39b96954d0fa3690019276897dd": {
          "model_module": "@jupyter-widgets/controls",
          "model_name": "ToggleButtonsStyleModel",
          "state": {
            "_view_name": "StyleView",
            "button_width": "",
            "_model_name": "ToggleButtonsStyleModel",
            "description_width": "initial",
            "_view_module": "@jupyter-widgets/base",
            "_model_module_version": "1.5.0",
            "_view_count": null,
            "font_weight": "",
            "_view_module_version": "1.2.0",
            "_model_module": "@jupyter-widgets/controls"
          }
        },
        "936831a73be44764a769ed0144cf7253": {
          "model_module": "@jupyter-widgets/base",
          "model_name": "LayoutModel",
          "state": {
            "_view_name": "LayoutView",
            "grid_template_rows": null,
            "right": null,
            "justify_content": null,
            "_view_module": "@jupyter-widgets/base",
            "overflow": null,
            "_model_module_version": "1.2.0",
            "_view_count": null,
            "flex_flow": null,
            "width": "auto",
            "min_width": null,
            "border": null,
            "align_items": null,
            "bottom": null,
            "_model_module": "@jupyter-widgets/base",
            "top": null,
            "grid_column": null,
            "overflow_y": null,
            "overflow_x": null,
            "grid_auto_flow": null,
            "grid_area": null,
            "grid_template_columns": null,
            "flex": null,
            "_model_name": "LayoutModel",
            "justify_items": null,
            "grid_row": null,
            "max_height": null,
            "align_content": null,
            "visibility": null,
            "align_self": null,
            "height": null,
            "min_height": null,
            "padding": null,
            "grid_auto_rows": null,
            "grid_gap": null,
            "max_width": null,
            "order": null,
            "_view_module_version": "1.2.0",
            "grid_template_areas": null,
            "object_position": null,
            "object_fit": null,
            "grid_auto_columns": null,
            "margin": null,
            "display": "flex",
            "left": null
          }
        },
        "c7295bc5999744ba994570cc4bef57ee": {
          "model_module": "@jupyter-widgets/controls",
          "model_name": "SliderStyleModel",
          "state": {
            "_view_name": "StyleView",
            "handle_color": null,
            "_model_name": "SliderStyleModel",
            "description_width": "initial",
            "_view_module": "@jupyter-widgets/base",
            "_model_module_version": "1.5.0",
            "_view_count": null,
            "_view_module_version": "1.2.0",
            "_model_module": "@jupyter-widgets/controls"
          }
        },
        "a8a72c6a452c4498b7e6d491851e0a55": {
          "model_module": "@jupyter-widgets/base",
          "model_name": "LayoutModel",
          "state": {
            "_view_name": "LayoutView",
            "grid_template_rows": null,
            "right": null,
            "justify_content": null,
            "_view_module": "@jupyter-widgets/base",
            "overflow": null,
            "_model_module_version": "1.2.0",
            "_view_count": null,
            "flex_flow": null,
            "width": "370px",
            "min_width": null,
            "border": null,
            "align_items": null,
            "bottom": null,
            "_model_module": "@jupyter-widgets/base",
            "top": null,
            "grid_column": null,
            "overflow_y": null,
            "overflow_x": null,
            "grid_auto_flow": null,
            "grid_area": null,
            "grid_template_columns": null,
            "flex": null,
            "_model_name": "LayoutModel",
            "justify_items": null,
            "grid_row": null,
            "max_height": null,
            "align_content": null,
            "visibility": null,
            "align_self": null,
            "height": null,
            "min_height": null,
            "padding": null,
            "grid_auto_rows": null,
            "grid_gap": null,
            "max_width": null,
            "order": null,
            "_view_module_version": "1.2.0",
            "grid_template_areas": null,
            "object_position": null,
            "object_fit": null,
            "grid_auto_columns": null,
            "margin": null,
            "display": null,
            "left": null
          }
        },
        "d686b19a6f1244119e228d06de613921": {
          "model_module": "@jupyter-widgets/controls",
          "model_name": "SliderStyleModel",
          "state": {
            "_view_name": "StyleView",
            "handle_color": null,
            "_model_name": "SliderStyleModel",
            "description_width": "initial",
            "_view_module": "@jupyter-widgets/base",
            "_model_module_version": "1.5.0",
            "_view_count": null,
            "_view_module_version": "1.2.0",
            "_model_module": "@jupyter-widgets/controls"
          }
        },
        "21caf2fec3c04e568adb0e80129581c3": {
          "model_module": "@jupyter-widgets/base",
          "model_name": "LayoutModel",
          "state": {
            "_view_name": "LayoutView",
            "grid_template_rows": null,
            "right": null,
            "justify_content": null,
            "_view_module": "@jupyter-widgets/base",
            "overflow": null,
            "_model_module_version": "1.2.0",
            "_view_count": null,
            "flex_flow": null,
            "width": "370px",
            "min_width": null,
            "border": null,
            "align_items": null,
            "bottom": null,
            "_model_module": "@jupyter-widgets/base",
            "top": null,
            "grid_column": null,
            "overflow_y": null,
            "overflow_x": null,
            "grid_auto_flow": null,
            "grid_area": null,
            "grid_template_columns": null,
            "flex": null,
            "_model_name": "LayoutModel",
            "justify_items": null,
            "grid_row": null,
            "max_height": null,
            "align_content": null,
            "visibility": null,
            "align_self": null,
            "height": null,
            "min_height": null,
            "padding": null,
            "grid_auto_rows": null,
            "grid_gap": null,
            "max_width": null,
            "order": null,
            "_view_module_version": "1.2.0",
            "grid_template_areas": null,
            "object_position": null,
            "object_fit": null,
            "grid_auto_columns": null,
            "margin": null,
            "display": null,
            "left": null
          }
        },
        "0cb59b1cc4334c06b90bd1b006c8a981": {
          "model_module": "@jupyter-widgets/output",
          "model_name": "OutputModel",
          "state": {
            "_view_name": "OutputView",
            "msg_id": "",
            "_dom_classes": [],
            "_model_name": "OutputModel",
            "outputs": [
              {
                "output_type": "display_data",
                "metadata": {
                  "tags": [],
                  "image/png": {
                    "width": 814,
                    "height": 345
                  },
                  "needs_background": "light"
                },
                "image/png": "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\n",
                "text/plain": "<Figure size 864x288 with 3 Axes>"
              }
            ],
            "_view_module": "@jupyter-widgets/output",
            "_model_module_version": "1.0.0",
            "_view_count": null,
            "_view_module_version": "1.0.0",
            "layout": "IPY_MODEL_4efcd0bf561b477aa24c7d52dda03d87",
            "_model_module": "@jupyter-widgets/output"
          }
        },
        "4efcd0bf561b477aa24c7d52dda03d87": {
          "model_module": "@jupyter-widgets/base",
          "model_name": "LayoutModel",
          "state": {
            "_view_name": "LayoutView",
            "grid_template_rows": null,
            "right": null,
            "justify_content": null,
            "_view_module": "@jupyter-widgets/base",
            "overflow": null,
            "_model_module_version": "1.2.0",
            "_view_count": null,
            "flex_flow": null,
            "width": null,
            "min_width": null,
            "border": null,
            "align_items": null,
            "bottom": null,
            "_model_module": "@jupyter-widgets/base",
            "top": null,
            "grid_column": null,
            "overflow_y": null,
            "overflow_x": null,
            "grid_auto_flow": null,
            "grid_area": null,
            "grid_template_columns": null,
            "flex": null,
            "_model_name": "LayoutModel",
            "justify_items": null,
            "grid_row": null,
            "max_height": null,
            "align_content": null,
            "visibility": null,
            "align_self": null,
            "height": null,
            "min_height": null,
            "padding": null,
            "grid_auto_rows": null,
            "grid_gap": null,
            "max_width": null,
            "order": null,
            "_view_module_version": "1.2.0",
            "grid_template_areas": null,
            "object_position": null,
            "object_fit": null,
            "grid_auto_columns": null,
            "margin": null,
            "display": null,
            "left": null
          }
        },
        "0732954ce48f475ea32bf2a4c2c8af50": {
          "model_module": "@jupyter-widgets/controls",
          "model_name": "TabModel",
          "state": {
            "_view_name": "TabView",
            "_dom_classes": [],
            "_titles": {
              "0": "Youtube",
              "1": "Bilibili"
            },
            "_model_name": "TabModel",
            "_view_module": "@jupyter-widgets/controls",
            "selected_index": 0,
            "_model_module_version": "1.5.0",
            "_view_count": null,
            "_view_module_version": "1.5.0",
            "box_style": "",
            "layout": "IPY_MODEL_b23d6f43f3ee4c76975a077184784a93",
            "_model_module": "@jupyter-widgets/controls",
            "children": [
              "IPY_MODEL_ea124f6300944855b2fa241d40951e52",
              "IPY_MODEL_4a84966d548049dbb8b258d188221228"
            ]
          }
        },
        "b23d6f43f3ee4c76975a077184784a93": {
          "model_module": "@jupyter-widgets/base",
          "model_name": "LayoutModel",
          "state": {
            "_view_name": "LayoutView",
            "grid_template_rows": null,
            "right": null,
            "justify_content": null,
            "_view_module": "@jupyter-widgets/base",
            "overflow": null,
            "_model_module_version": "1.2.0",
            "_view_count": null,
            "flex_flow": null,
            "width": null,
            "min_width": null,
            "border": null,
            "align_items": null,
            "bottom": null,
            "_model_module": "@jupyter-widgets/base",
            "top": null,
            "grid_column": null,
            "overflow_y": null,
            "overflow_x": null,
            "grid_auto_flow": null,
            "grid_area": null,
            "grid_template_columns": null,
            "flex": null,
            "_model_name": "LayoutModel",
            "justify_items": null,
            "grid_row": null,
            "max_height": null,
            "align_content": null,
            "visibility": null,
            "align_self": null,
            "height": null,
            "min_height": null,
            "padding": null,
            "grid_auto_rows": null,
            "grid_gap": null,
            "max_width": null,
            "order": null,
            "_view_module_version": "1.2.0",
            "grid_template_areas": null,
            "object_position": null,
            "object_fit": null,
            "grid_auto_columns": null,
            "margin": null,
            "display": null,
            "left": null
          }
        },
        "ea124f6300944855b2fa241d40951e52": {
          "model_module": "@jupyter-widgets/output",
          "model_name": "OutputModel",
          "state": {
            "_view_name": "OutputView",
            "msg_id": "",
            "_dom_classes": [],
            "_model_name": "OutputModel",
            "outputs": [
              {
                "output_type": "stream",
                "metadata": {
                  "tags": []
                },
                "text": "Video available at https://youtube.com/watch?v=YPQgLVolvBs\n",
                "stream": "stdout"
              },
              {
                "output_type": "display_data",
                "metadata": {
                  "tags": []
                },
                "text/html": "\n        <iframe\n            width=\"854\"\n            height=\"480\"\n            src=\"https://www.youtube.com/embed/YPQgLVolvBs?fs=1&rel=0\"\n            frameborder=\"0\"\n            allowfullscreen\n        ></iframe>\n        ",
                "text/plain": "<IPython.lib.display.YouTubeVideo at 0x7fe8ecef1f50>",
                "image/jpeg": "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\n"
              }
            ],
            "_view_module": "@jupyter-widgets/output",
            "_model_module_version": "1.0.0",
            "_view_count": null,
            "_view_module_version": "1.0.0",
            "layout": "IPY_MODEL_178e9fdb79b5452f96dc2c7b7cd12ec9",
            "_model_module": "@jupyter-widgets/output"
          }
        },
        "4a84966d548049dbb8b258d188221228": {
          "model_module": "@jupyter-widgets/output",
          "model_name": "OutputModel",
          "state": {
            "_view_name": "OutputView",
            "msg_id": "",
            "_dom_classes": [],
            "_model_name": "OutputModel",
            "outputs": [
              {
                "output_type": "stream",
                "metadata": {
                  "tags": []
                },
                "text": "Video available at https://www.bilibili.com/video/BV1TU4y1G7SM\n",
                "stream": "stdout"
              },
              {
                "output_type": "display_data",
                "metadata": {
                  "tags": []
                },
                "text/html": "\n        <iframe\n            width=\"854\"\n            height=\"480\"\n            src=\"https://player.bilibili.com/player.html?bvid=BV1TU4y1G7SM&page=1?fs=1\"\n            frameborder=\"0\"\n            allowfullscreen\n        ></iframe>\n        ",
                "text/plain": "<__main__.BiliVideo at 0x7fe8ecef1bd0>"
              }
            ],
            "_view_module": "@jupyter-widgets/output",
            "_model_module_version": "1.0.0",
            "_view_count": null,
            "_view_module_version": "1.0.0",
            "layout": "IPY_MODEL_803a045df95048daaa62599fd671958c",
            "_model_module": "@jupyter-widgets/output"
          }
        },
        "178e9fdb79b5452f96dc2c7b7cd12ec9": {
          "model_module": "@jupyter-widgets/base",
          "model_name": "LayoutModel",
          "state": {
            "_view_name": "LayoutView",
            "grid_template_rows": null,
            "right": null,
            "justify_content": null,
            "_view_module": "@jupyter-widgets/base",
            "overflow": null,
            "_model_module_version": "1.2.0",
            "_view_count": null,
            "flex_flow": null,
            "width": null,
            "min_width": null,
            "border": null,
            "align_items": null,
            "bottom": null,
            "_model_module": "@jupyter-widgets/base",
            "top": null,
            "grid_column": null,
            "overflow_y": null,
            "overflow_x": null,
            "grid_auto_flow": null,
            "grid_area": null,
            "grid_template_columns": null,
            "flex": null,
            "_model_name": "LayoutModel",
            "justify_items": null,
            "grid_row": null,
            "max_height": null,
            "align_content": null,
            "visibility": null,
            "align_self": null,
            "height": null,
            "min_height": null,
            "padding": null,
            "grid_auto_rows": null,
            "grid_gap": null,
            "max_width": null,
            "order": null,
            "_view_module_version": "1.2.0",
            "grid_template_areas": null,
            "object_position": null,
            "object_fit": null,
            "grid_auto_columns": null,
            "margin": null,
            "display": null,
            "left": null
          }
        },
        "803a045df95048daaa62599fd671958c": {
          "model_module": "@jupyter-widgets/base",
          "model_name": "LayoutModel",
          "state": {
            "_view_name": "LayoutView",
            "grid_template_rows": null,
            "right": null,
            "justify_content": null,
            "_view_module": "@jupyter-widgets/base",
            "overflow": null,
            "_model_module_version": "1.2.0",
            "_view_count": null,
            "flex_flow": null,
            "width": null,
            "min_width": null,
            "border": null,
            "align_items": null,
            "bottom": null,
            "_model_module": "@jupyter-widgets/base",
            "top": null,
            "grid_column": null,
            "overflow_y": null,
            "overflow_x": null,
            "grid_auto_flow": null,
            "grid_area": null,
            "grid_template_columns": null,
            "flex": null,
            "_model_name": "LayoutModel",
            "justify_items": null,
            "grid_row": null,
            "max_height": null,
            "align_content": null,
            "visibility": null,
            "align_self": null,
            "height": null,
            "min_height": null,
            "padding": null,
            "grid_auto_rows": null,
            "grid_gap": null,
            "max_width": null,
            "order": null,
            "_view_module_version": "1.2.0",
            "grid_template_areas": null,
            "object_position": null,
            "object_fit": null,
            "grid_auto_columns": null,
            "margin": null,
            "display": null,
            "left": null
          }
        },
        "615e9d1e0b3b4719a22de4c91fce8402": {
          "model_module": "@jupyter-widgets/controls",
          "model_name": "TabModel",
          "state": {
            "_view_name": "TabView",
            "_dom_classes": [],
            "_titles": {
              "0": "Youtube",
              "1": "Bilibili"
            },
            "_model_name": "TabModel",
            "_view_module": "@jupyter-widgets/controls",
            "selected_index": 0,
            "_model_module_version": "1.5.0",
            "_view_count": null,
            "_view_module_version": "1.5.0",
            "box_style": "",
            "layout": "IPY_MODEL_642b1068f8aa4897bab9fc6a86509c1e",
            "_model_module": "@jupyter-widgets/controls",
            "children": [
              "IPY_MODEL_f58c65fc6025458d976a4dd914650981",
              "IPY_MODEL_7cdd72935b214da5a3872600c286ec0b"
            ]
          }
        },
        "642b1068f8aa4897bab9fc6a86509c1e": {
          "model_module": "@jupyter-widgets/base",
          "model_name": "LayoutModel",
          "state": {
            "_view_name": "LayoutView",
            "grid_template_rows": null,
            "right": null,
            "justify_content": null,
            "_view_module": "@jupyter-widgets/base",
            "overflow": null,
            "_model_module_version": "1.2.0",
            "_view_count": null,
            "flex_flow": null,
            "width": null,
            "min_width": null,
            "border": null,
            "align_items": null,
            "bottom": null,
            "_model_module": "@jupyter-widgets/base",
            "top": null,
            "grid_column": null,
            "overflow_y": null,
            "overflow_x": null,
            "grid_auto_flow": null,
            "grid_area": null,
            "grid_template_columns": null,
            "flex": null,
            "_model_name": "LayoutModel",
            "justify_items": null,
            "grid_row": null,
            "max_height": null,
            "align_content": null,
            "visibility": null,
            "align_self": null,
            "height": null,
            "min_height": null,
            "padding": null,
            "grid_auto_rows": null,
            "grid_gap": null,
            "max_width": null,
            "order": null,
            "_view_module_version": "1.2.0",
            "grid_template_areas": null,
            "object_position": null,
            "object_fit": null,
            "grid_auto_columns": null,
            "margin": null,
            "display": null,
            "left": null
          }
        },
        "f58c65fc6025458d976a4dd914650981": {
          "model_module": "@jupyter-widgets/output",
          "model_name": "OutputModel",
          "state": {
            "_view_name": "OutputView",
            "msg_id": "",
            "_dom_classes": [],
            "_model_name": "OutputModel",
            "outputs": [
              {
                "output_type": "stream",
                "metadata": {
                  "tags": []
                },
                "text": "Video available at https://youtube.com/watch?v=tz9zsmTHR68\n",
                "stream": "stdout"
              },
              {
                "output_type": "display_data",
                "metadata": {
                  "tags": []
                },
                "text/html": "\n        <iframe\n            width=\"854\"\n            height=\"480\"\n            src=\"https://www.youtube.com/embed/tz9zsmTHR68?fs=1&rel=0\"\n            frameborder=\"0\"\n            allowfullscreen\n        ></iframe>\n        ",
                "text/plain": "<IPython.lib.display.YouTubeVideo at 0x7fe8ed1e5fd0>",
                "image/jpeg": "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\n"
              }
            ],
            "_view_module": "@jupyter-widgets/output",
            "_model_module_version": "1.0.0",
            "_view_count": null,
            "_view_module_version": "1.0.0",
            "layout": "IPY_MODEL_b454fcc475d74c89a6f421a3e9a91164",
            "_model_module": "@jupyter-widgets/output"
          }
        },
        "7cdd72935b214da5a3872600c286ec0b": {
          "model_module": "@jupyter-widgets/output",
          "model_name": "OutputModel",
          "state": {
            "_view_name": "OutputView",
            "msg_id": "",
            "_dom_classes": [],
            "_model_name": "OutputModel",
            "outputs": [
              {
                "output_type": "stream",
                "metadata": {
                  "tags": []
                },
                "text": "Video available at https://www.bilibili.com/video/BV1954y1n7uH\n",
                "stream": "stdout"
              },
              {
                "output_type": "display_data",
                "metadata": {
                  "tags": []
                },
                "text/html": "\n        <iframe\n            width=\"854\"\n            height=\"480\"\n            src=\"https://player.bilibili.com/player.html?bvid=BV1954y1n7uH&page=1?fs=1\"\n            frameborder=\"0\"\n            allowfullscreen\n        ></iframe>\n        ",
                "text/plain": "<__main__.BiliVideo at 0x7fe8ecb38890>"
              }
            ],
            "_view_module": "@jupyter-widgets/output",
            "_model_module_version": "1.0.0",
            "_view_count": null,
            "_view_module_version": "1.0.0",
            "layout": "IPY_MODEL_38abd68c7f8b42ac8f4dc0413c0598b2",
            "_model_module": "@jupyter-widgets/output"
          }
        },
        "b454fcc475d74c89a6f421a3e9a91164": {
          "model_module": "@jupyter-widgets/base",
          "model_name": "LayoutModel",
          "state": {
            "_view_name": "LayoutView",
            "grid_template_rows": null,
            "right": null,
            "justify_content": null,
            "_view_module": "@jupyter-widgets/base",
            "overflow": null,
            "_model_module_version": "1.2.0",
            "_view_count": null,
            "flex_flow": null,
            "width": null,
            "min_width": null,
            "border": null,
            "align_items": null,
            "bottom": null,
            "_model_module": "@jupyter-widgets/base",
            "top": null,
            "grid_column": null,
            "overflow_y": null,
            "overflow_x": null,
            "grid_auto_flow": null,
            "grid_area": null,
            "grid_template_columns": null,
            "flex": null,
            "_model_name": "LayoutModel",
            "justify_items": null,
            "grid_row": null,
            "max_height": null,
            "align_content": null,
            "visibility": null,
            "align_self": null,
            "height": null,
            "min_height": null,
            "padding": null,
            "grid_auto_rows": null,
            "grid_gap": null,
            "max_width": null,
            "order": null,
            "_view_module_version": "1.2.0",
            "grid_template_areas": null,
            "object_position": null,
            "object_fit": null,
            "grid_auto_columns": null,
            "margin": null,
            "display": null,
            "left": null
          }
        },
        "38abd68c7f8b42ac8f4dc0413c0598b2": {
          "model_module": "@jupyter-widgets/base",
          "model_name": "LayoutModel",
          "state": {
            "_view_name": "LayoutView",
            "grid_template_rows": null,
            "right": null,
            "justify_content": null,
            "_view_module": "@jupyter-widgets/base",
            "overflow": null,
            "_model_module_version": "1.2.0",
            "_view_count": null,
            "flex_flow": null,
            "width": null,
            "min_width": null,
            "border": null,
            "align_items": null,
            "bottom": null,
            "_model_module": "@jupyter-widgets/base",
            "top": null,
            "grid_column": null,
            "overflow_y": null,
            "overflow_x": null,
            "grid_auto_flow": null,
            "grid_area": null,
            "grid_template_columns": null,
            "flex": null,
            "_model_name": "LayoutModel",
            "justify_items": null,
            "grid_row": null,
            "max_height": null,
            "align_content": null,
            "visibility": null,
            "align_self": null,
            "height": null,
            "min_height": null,
            "padding": null,
            "grid_auto_rows": null,
            "grid_gap": null,
            "max_width": null,
            "order": null,
            "_view_module_version": "1.2.0",
            "grid_template_areas": null,
            "object_position": null,
            "object_fit": null,
            "grid_auto_columns": null,
            "margin": null,
            "display": null,
            "left": null
          }
        },
        "0b14dd6697784d4b9a3f3645635e24f3": {
          "model_module": "@jupyter-widgets/controls",
          "model_name": "VBoxModel",
          "state": {
            "_view_name": "VBoxView",
            "_dom_classes": [],
            "_model_name": "VBoxModel",
            "_view_module": "@jupyter-widgets/controls",
            "_model_module_version": "1.5.0",
            "_view_count": null,
            "_view_module_version": "1.5.0",
            "box_style": "",
            "layout": "IPY_MODEL_31bf8f938a8b4ad69d9964e42aa879cf",
            "_model_module": "@jupyter-widgets/controls",
            "children": [
              "IPY_MODEL_085cfd8a1c6c42a19bf6f13e19543c88",
              "IPY_MODEL_c7a1a579f2d04c3fb6da646b25c42dec",
              "IPY_MODEL_f12851e7ff2442ea8f5f9b54a09a72a2"
            ]
          }
        },
        "31bf8f938a8b4ad69d9964e42aa879cf": {
          "model_module": "@jupyter-widgets/base",
          "model_name": "LayoutModel",
          "state": {
            "_view_name": "LayoutView",
            "grid_template_rows": null,
            "right": null,
            "justify_content": null,
            "_view_module": "@jupyter-widgets/base",
            "overflow": null,
            "_model_module_version": "1.2.0",
            "_view_count": null,
            "flex_flow": null,
            "width": null,
            "min_width": null,
            "border": null,
            "align_items": null,
            "bottom": null,
            "_model_module": "@jupyter-widgets/base",
            "top": null,
            "grid_column": null,
            "overflow_y": null,
            "overflow_x": null,
            "grid_auto_flow": null,
            "grid_area": null,
            "grid_template_columns": null,
            "flex": null,
            "_model_name": "LayoutModel",
            "justify_items": null,
            "grid_row": null,
            "max_height": null,
            "align_content": null,
            "visibility": null,
            "align_self": null,
            "height": null,
            "min_height": null,
            "padding": null,
            "grid_auto_rows": null,
            "grid_gap": null,
            "max_width": null,
            "order": null,
            "_view_module_version": "1.2.0",
            "grid_template_areas": null,
            "object_position": null,
            "object_fit": null,
            "grid_auto_columns": null,
            "margin": null,
            "display": null,
            "left": null
          }
        },
        "085cfd8a1c6c42a19bf6f13e19543c88": {
          "model_module": "@jupyter-widgets/controls",
          "model_name": "FloatSliderModel",
          "state": {
            "_view_name": "FloatSliderView",
            "style": "IPY_MODEL_9965611716c545648938796179fe3dc5",
            "_dom_classes": [],
            "description": "p(s = left)",
            "step": 0.01,
            "_model_name": "FloatSliderModel",
            "orientation": "horizontal",
            "max": 0.99,
            "_view_module": "@jupyter-widgets/controls",
            "_model_module_version": "1.5.0",
            "value": 0.5,
            "_view_count": null,
            "disabled": false,
            "_view_module_version": "1.5.0",
            "min": 0.01,
            "continuous_update": true,
            "readout_format": ".2f",
            "description_tooltip": null,
            "readout": true,
            "_model_module": "@jupyter-widgets/controls",
            "layout": "IPY_MODEL_6a4e2ca92888458bbf86a269cba672b4"
          }
        },
        "c7a1a579f2d04c3fb6da646b25c42dec": {
          "model_module": "@jupyter-widgets/controls",
          "model_name": "HBoxModel",
          "state": {
            "_view_name": "HBoxView",
            "_dom_classes": [],
            "_model_name": "HBoxModel",
            "_view_module": "@jupyter-widgets/controls",
            "_model_module_version": "1.5.0",
            "_view_count": null,
            "_view_module_version": "1.5.0",
            "box_style": "",
            "layout": "IPY_MODEL_2ba130531ee64831a5748869adde1f01",
            "_model_module": "@jupyter-widgets/controls",
            "children": [
              "IPY_MODEL_67e560ada5964f588bd44608b0e6bc6b",
              "IPY_MODEL_e85e13f850d747be9fc358a26e9472ac"
            ]
          }
        },
        "f12851e7ff2442ea8f5f9b54a09a72a2": {
          "model_module": "@jupyter-widgets/controls",
          "model_name": "ToggleButtonsModel",
          "state": {
            "_options_labels": [
              "Fish",
              "No Fish"
            ],
            "_view_name": "ToggleButtonsView",
            "style": "IPY_MODEL_e72ccf034f144d57af68f34c893f831b",
            "_dom_classes": [],
            "description": "Observation (m) on the left:",
            "_model_name": "ToggleButtonsModel",
            "tooltips": [],
            "index": 0,
            "button_style": "",
            "_view_module": "@jupyter-widgets/controls",
            "_model_module_version": "1.5.0",
            "_view_count": null,
            "disabled": false,
            "_view_module_version": "1.5.0",
            "icons": [],
            "description_tooltip": null,
            "_model_module": "@jupyter-widgets/controls",
            "layout": "IPY_MODEL_3755eebbc2e143c9934696b47c818b74"
          }
        },
        "9965611716c545648938796179fe3dc5": {
          "model_module": "@jupyter-widgets/controls",
          "model_name": "SliderStyleModel",
          "state": {
            "_view_name": "StyleView",
            "handle_color": null,
            "_model_name": "SliderStyleModel",
            "description_width": "",
            "_view_module": "@jupyter-widgets/base",
            "_model_module_version": "1.5.0",
            "_view_count": null,
            "_view_module_version": "1.2.0",
            "_model_module": "@jupyter-widgets/controls"
          }
        },
        "6a4e2ca92888458bbf86a269cba672b4": {
          "model_module": "@jupyter-widgets/base",
          "model_name": "LayoutModel",
          "state": {
            "_view_name": "LayoutView",
            "grid_template_rows": null,
            "right": null,
            "justify_content": null,
            "_view_module": "@jupyter-widgets/base",
            "overflow": null,
            "_model_module_version": "1.2.0",
            "_view_count": null,
            "flex_flow": null,
            "width": "300px",
            "min_width": null,
            "border": null,
            "align_items": null,
            "bottom": null,
            "_model_module": "@jupyter-widgets/base",
            "top": null,
            "grid_column": null,
            "overflow_y": null,
            "overflow_x": null,
            "grid_auto_flow": null,
            "grid_area": null,
            "grid_template_columns": null,
            "flex": null,
            "_model_name": "LayoutModel",
            "justify_items": null,
            "grid_row": null,
            "max_height": null,
            "align_content": null,
            "visibility": null,
            "align_self": null,
            "height": null,
            "min_height": null,
            "padding": null,
            "grid_auto_rows": null,
            "grid_gap": null,
            "max_width": null,
            "order": null,
            "_view_module_version": "1.2.0",
            "grid_template_areas": null,
            "object_position": null,
            "object_fit": null,
            "grid_auto_columns": null,
            "margin": null,
            "display": null,
            "left": null
          }
        },
        "2ba130531ee64831a5748869adde1f01": {
          "model_module": "@jupyter-widgets/base",
          "model_name": "LayoutModel",
          "state": {
            "_view_name": "LayoutView",
            "grid_template_rows": null,
            "right": null,
            "justify_content": null,
            "_view_module": "@jupyter-widgets/base",
            "overflow": null,
            "_model_module_version": "1.2.0",
            "_view_count": null,
            "flex_flow": null,
            "width": null,
            "min_width": null,
            "border": null,
            "align_items": null,
            "bottom": null,
            "_model_module": "@jupyter-widgets/base",
            "top": null,
            "grid_column": null,
            "overflow_y": null,
            "overflow_x": null,
            "grid_auto_flow": null,
            "grid_area": null,
            "grid_template_columns": null,
            "flex": null,
            "_model_name": "LayoutModel",
            "justify_items": null,
            "grid_row": null,
            "max_height": null,
            "align_content": null,
            "visibility": null,
            "align_self": null,
            "height": null,
            "min_height": null,
            "padding": null,
            "grid_auto_rows": null,
            "grid_gap": null,
            "max_width": null,
            "order": null,
            "_view_module_version": "1.2.0",
            "grid_template_areas": null,
            "object_position": null,
            "object_fit": null,
            "grid_auto_columns": null,
            "margin": null,
            "display": null,
            "left": null
          }
        },
        "67e560ada5964f588bd44608b0e6bc6b": {
          "model_module": "@jupyter-widgets/controls",
          "model_name": "FloatSliderModel",
          "state": {
            "_view_name": "FloatSliderView",
            "style": "IPY_MODEL_4d633a6237f7440b9a39a41e5a1bf651",
            "_dom_classes": [],
            "description": "p(fish on left | state = left)",
            "step": 0.01,
            "_model_name": "FloatSliderModel",
            "orientation": "horizontal",
            "max": 0.99,
            "_view_module": "@jupyter-widgets/controls",
            "_model_module_version": "1.5.0",
            "value": 0.21,
            "_view_count": null,
            "disabled": false,
            "_view_module_version": "1.5.0",
            "min": 0.01,
            "continuous_update": true,
            "readout_format": ".2f",
            "description_tooltip": null,
            "readout": true,
            "_model_module": "@jupyter-widgets/controls",
            "layout": "IPY_MODEL_5562933854964c18bd96e6cadb398d5d"
          }
        },
        "e85e13f850d747be9fc358a26e9472ac": {
          "model_module": "@jupyter-widgets/controls",
          "model_name": "FloatSliderModel",
          "state": {
            "_view_name": "FloatSliderView",
            "style": "IPY_MODEL_7bf5e1bbf44c43a7b3f913a6317a4194",
            "_dom_classes": [],
            "description": "p(fish on left | state = right)",
            "step": 0.01,
            "_model_name": "FloatSliderModel",
            "orientation": "horizontal",
            "max": 0.99,
            "_view_module": "@jupyter-widgets/controls",
            "_model_module_version": "1.5.0",
            "value": 0.35,
            "_view_count": null,
            "disabled": false,
            "_view_module_version": "1.5.0",
            "min": 0.01,
            "continuous_update": true,
            "readout_format": ".2f",
            "description_tooltip": null,
            "readout": true,
            "_model_module": "@jupyter-widgets/controls",
            "layout": "IPY_MODEL_7b3d7c620d954dbb995abd365723cb11"
          }
        },
        "e72ccf034f144d57af68f34c893f831b": {
          "model_module": "@jupyter-widgets/controls",
          "model_name": "ToggleButtonsStyleModel",
          "state": {
            "_view_name": "StyleView",
            "button_width": "",
            "_model_name": "ToggleButtonsStyleModel",
            "description_width": "initial",
            "_view_module": "@jupyter-widgets/base",
            "_model_module_version": "1.5.0",
            "_view_count": null,
            "font_weight": "",
            "_view_module_version": "1.2.0",
            "_model_module": "@jupyter-widgets/controls"
          }
        },
        "3755eebbc2e143c9934696b47c818b74": {
          "model_module": "@jupyter-widgets/base",
          "model_name": "LayoutModel",
          "state": {
            "_view_name": "LayoutView",
            "grid_template_rows": null,
            "right": null,
            "justify_content": null,
            "_view_module": "@jupyter-widgets/base",
            "overflow": null,
            "_model_module_version": "1.2.0",
            "_view_count": null,
            "flex_flow": null,
            "width": "auto",
            "min_width": null,
            "border": null,
            "align_items": null,
            "bottom": null,
            "_model_module": "@jupyter-widgets/base",
            "top": null,
            "grid_column": null,
            "overflow_y": null,
            "overflow_x": null,
            "grid_auto_flow": null,
            "grid_area": null,
            "grid_template_columns": null,
            "flex": null,
            "_model_name": "LayoutModel",
            "justify_items": null,
            "grid_row": null,
            "max_height": null,
            "align_content": null,
            "visibility": null,
            "align_self": null,
            "height": null,
            "min_height": null,
            "padding": null,
            "grid_auto_rows": null,
            "grid_gap": null,
            "max_width": null,
            "order": null,
            "_view_module_version": "1.2.0",
            "grid_template_areas": null,
            "object_position": null,
            "object_fit": null,
            "grid_auto_columns": null,
            "margin": null,
            "display": "flex",
            "left": null
          }
        },
        "4d633a6237f7440b9a39a41e5a1bf651": {
          "model_module": "@jupyter-widgets/controls",
          "model_name": "SliderStyleModel",
          "state": {
            "_view_name": "StyleView",
            "handle_color": null,
            "_model_name": "SliderStyleModel",
            "description_width": "initial",
            "_view_module": "@jupyter-widgets/base",
            "_model_module_version": "1.5.0",
            "_view_count": null,
            "_view_module_version": "1.2.0",
            "_model_module": "@jupyter-widgets/controls"
          }
        },
        "5562933854964c18bd96e6cadb398d5d": {
          "model_module": "@jupyter-widgets/base",
          "model_name": "LayoutModel",
          "state": {
            "_view_name": "LayoutView",
            "grid_template_rows": null,
            "right": null,
            "justify_content": null,
            "_view_module": "@jupyter-widgets/base",
            "overflow": null,
            "_model_module_version": "1.2.0",
            "_view_count": null,
            "flex_flow": null,
            "width": "370px",
            "min_width": null,
            "border": null,
            "align_items": null,
            "bottom": null,
            "_model_module": "@jupyter-widgets/base",
            "top": null,
            "grid_column": null,
            "overflow_y": null,
            "overflow_x": null,
            "grid_auto_flow": null,
            "grid_area": null,
            "grid_template_columns": null,
            "flex": null,
            "_model_name": "LayoutModel",
            "justify_items": null,
            "grid_row": null,
            "max_height": null,
            "align_content": null,
            "visibility": null,
            "align_self": null,
            "height": null,
            "min_height": null,
            "padding": null,
            "grid_auto_rows": null,
            "grid_gap": null,
            "max_width": null,
            "order": null,
            "_view_module_version": "1.2.0",
            "grid_template_areas": null,
            "object_position": null,
            "object_fit": null,
            "grid_auto_columns": null,
            "margin": null,
            "display": null,
            "left": null
          }
        },
        "7bf5e1bbf44c43a7b3f913a6317a4194": {
          "model_module": "@jupyter-widgets/controls",
          "model_name": "SliderStyleModel",
          "state": {
            "_view_name": "StyleView",
            "handle_color": null,
            "_model_name": "SliderStyleModel",
            "description_width": "initial",
            "_view_module": "@jupyter-widgets/base",
            "_model_module_version": "1.5.0",
            "_view_count": null,
            "_view_module_version": "1.2.0",
            "_model_module": "@jupyter-widgets/controls"
          }
        },
        "7b3d7c620d954dbb995abd365723cb11": {
          "model_module": "@jupyter-widgets/base",
          "model_name": "LayoutModel",
          "state": {
            "_view_name": "LayoutView",
            "grid_template_rows": null,
            "right": null,
            "justify_content": null,
            "_view_module": "@jupyter-widgets/base",
            "overflow": null,
            "_model_module_version": "1.2.0",
            "_view_count": null,
            "flex_flow": null,
            "width": "370px",
            "min_width": null,
            "border": null,
            "align_items": null,
            "bottom": null,
            "_model_module": "@jupyter-widgets/base",
            "top": null,
            "grid_column": null,
            "overflow_y": null,
            "overflow_x": null,
            "grid_auto_flow": null,
            "grid_area": null,
            "grid_template_columns": null,
            "flex": null,
            "_model_name": "LayoutModel",
            "justify_items": null,
            "grid_row": null,
            "max_height": null,
            "align_content": null,
            "visibility": null,
            "align_self": null,
            "height": null,
            "min_height": null,
            "padding": null,
            "grid_auto_rows": null,
            "grid_gap": null,
            "max_width": null,
            "order": null,
            "_view_module_version": "1.2.0",
            "grid_template_areas": null,
            "object_position": null,
            "object_fit": null,
            "grid_auto_columns": null,
            "margin": null,
            "display": null,
            "left": null
          }
        },
        "2cbe4993b3424dfc9c3122ac2efac4a2": {
          "model_module": "@jupyter-widgets/output",
          "model_name": "OutputModel",
          "state": {
            "_view_name": "OutputView",
            "msg_id": "",
            "_dom_classes": [],
            "_model_name": "OutputModel",
            "outputs": [
              {
                "output_type": "display_data",
                "metadata": {
                  "tags": [],
                  "image/png": {
                    "width": 646,
                    "height": 549
                  },
                  "needs_background": "light"
                },
                "image/png": "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\n",
                "text/plain": "<Figure size 720x648 with 5 Axes>"
              }
            ],
            "_view_module": "@jupyter-widgets/output",
            "_model_module_version": "1.0.0",
            "_view_count": null,
            "_view_module_version": "1.0.0",
            "layout": "IPY_MODEL_a38087c5244a4b90b8a937a230a0fc06",
            "_model_module": "@jupyter-widgets/output"
          }
        },
        "a38087c5244a4b90b8a937a230a0fc06": {
          "model_module": "@jupyter-widgets/base",
          "model_name": "LayoutModel",
          "state": {
            "_view_name": "LayoutView",
            "grid_template_rows": null,
            "right": null,
            "justify_content": null,
            "_view_module": "@jupyter-widgets/base",
            "overflow": null,
            "_model_module_version": "1.2.0",
            "_view_count": null,
            "flex_flow": null,
            "width": null,
            "min_width": null,
            "border": null,
            "align_items": null,
            "bottom": null,
            "_model_module": "@jupyter-widgets/base",
            "top": null,
            "grid_column": null,
            "overflow_y": null,
            "overflow_x": null,
            "grid_auto_flow": null,
            "grid_area": null,
            "grid_template_columns": null,
            "flex": null,
            "_model_name": "LayoutModel",
            "justify_items": null,
            "grid_row": null,
            "max_height": null,
            "align_content": null,
            "visibility": null,
            "align_self": null,
            "height": null,
            "min_height": null,
            "padding": null,
            "grid_auto_rows": null,
            "grid_gap": null,
            "max_width": null,
            "order": null,
            "_view_module_version": "1.2.0",
            "grid_template_areas": null,
            "object_position": null,
            "object_fit": null,
            "grid_auto_columns": null,
            "margin": null,
            "display": null,
            "left": null
          }
        },
        "9e8e83d577984654b622aa8a1f3d7771": {
          "model_module": "@jupyter-widgets/controls",
          "model_name": "TabModel",
          "state": {
            "_view_name": "TabView",
            "_dom_classes": [],
            "_titles": {
              "0": "Youtube",
              "1": "Bilibili"
            },
            "_model_name": "TabModel",
            "_view_module": "@jupyter-widgets/controls",
            "selected_index": 0,
            "_model_module_version": "1.5.0",
            "_view_count": null,
            "_view_module_version": "1.5.0",
            "box_style": "",
            "layout": "IPY_MODEL_49157dab90b243bead0c654d2c27423b",
            "_model_module": "@jupyter-widgets/controls",
            "children": [
              "IPY_MODEL_658965f1b822430f8cfe2209ee9d8f5b",
              "IPY_MODEL_131f78304f804bff805abc951247005a"
            ]
          }
        },
        "49157dab90b243bead0c654d2c27423b": {
          "model_module": "@jupyter-widgets/base",
          "model_name": "LayoutModel",
          "state": {
            "_view_name": "LayoutView",
            "grid_template_rows": null,
            "right": null,
            "justify_content": null,
            "_view_module": "@jupyter-widgets/base",
            "overflow": null,
            "_model_module_version": "1.2.0",
            "_view_count": null,
            "flex_flow": null,
            "width": null,
            "min_width": null,
            "border": null,
            "align_items": null,
            "bottom": null,
            "_model_module": "@jupyter-widgets/base",
            "top": null,
            "grid_column": null,
            "overflow_y": null,
            "overflow_x": null,
            "grid_auto_flow": null,
            "grid_area": null,
            "grid_template_columns": null,
            "flex": null,
            "_model_name": "LayoutModel",
            "justify_items": null,
            "grid_row": null,
            "max_height": null,
            "align_content": null,
            "visibility": null,
            "align_self": null,
            "height": null,
            "min_height": null,
            "padding": null,
            "grid_auto_rows": null,
            "grid_gap": null,
            "max_width": null,
            "order": null,
            "_view_module_version": "1.2.0",
            "grid_template_areas": null,
            "object_position": null,
            "object_fit": null,
            "grid_auto_columns": null,
            "margin": null,
            "display": null,
            "left": null
          }
        },
        "658965f1b822430f8cfe2209ee9d8f5b": {
          "model_module": "@jupyter-widgets/output",
          "model_name": "OutputModel",
          "state": {
            "_view_name": "OutputView",
            "msg_id": "",
            "_dom_classes": [],
            "_model_name": "OutputModel",
            "outputs": [
              {
                "output_type": "stream",
                "metadata": {
                  "tags": []
                },
                "text": "Video available at https://youtube.com/watch?v=h9L0EYmUpHs\n",
                "stream": "stdout"
              },
              {
                "output_type": "display_data",
                "metadata": {
                  "tags": []
                },
                "text/html": "\n        <iframe\n            width=\"854\"\n            height=\"480\"\n            src=\"https://www.youtube.com/embed/h9L0EYmUpHs?fs=1&rel=0\"\n            frameborder=\"0\"\n            allowfullscreen\n        ></iframe>\n        ",
                "text/plain": "<IPython.lib.display.YouTubeVideo at 0x7fe8ecb6ac10>",
                "image/jpeg": "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\n"
              }
            ],
            "_view_module": "@jupyter-widgets/output",
            "_model_module_version": "1.0.0",
            "_view_count": null,
            "_view_module_version": "1.0.0",
            "layout": "IPY_MODEL_1926cf92d45c4c719111566a68c8f8c2",
            "_model_module": "@jupyter-widgets/output"
          }
        },
        "131f78304f804bff805abc951247005a": {
          "model_module": "@jupyter-widgets/output",
          "model_name": "OutputModel",
          "state": {
            "_view_name": "OutputView",
            "msg_id": "",
            "_dom_classes": [],
            "_model_name": "OutputModel",
            "outputs": [
              {
                "output_type": "stream",
                "metadata": {
                  "tags": []
                },
                "text": "Video available at https://www.bilibili.com/video/BV1QU4y137BS\n",
                "stream": "stdout"
              },
              {
                "output_type": "display_data",
                "metadata": {
                  "tags": []
                },
                "text/html": "\n        <iframe\n            width=\"854\"\n            height=\"480\"\n            src=\"https://player.bilibili.com/player.html?bvid=BV1QU4y137BS&page=1?fs=1\"\n            frameborder=\"0\"\n            allowfullscreen\n        ></iframe>\n        ",
                "text/plain": "<__main__.BiliVideo at 0x7fe8ecef1890>"
              }
            ],
            "_view_module": "@jupyter-widgets/output",
            "_model_module_version": "1.0.0",
            "_view_count": null,
            "_view_module_version": "1.0.0",
            "layout": "IPY_MODEL_9e335e07f8d945db92a8fa16340685ba",
            "_model_module": "@jupyter-widgets/output"
          }
        },
        "1926cf92d45c4c719111566a68c8f8c2": {
          "model_module": "@jupyter-widgets/base",
          "model_name": "LayoutModel",
          "state": {
            "_view_name": "LayoutView",
            "grid_template_rows": null,
            "right": null,
            "justify_content": null,
            "_view_module": "@jupyter-widgets/base",
            "overflow": null,
            "_model_module_version": "1.2.0",
            "_view_count": null,
            "flex_flow": null,
            "width": null,
            "min_width": null,
            "border": null,
            "align_items": null,
            "bottom": null,
            "_model_module": "@jupyter-widgets/base",
            "top": null,
            "grid_column": null,
            "overflow_y": null,
            "overflow_x": null,
            "grid_auto_flow": null,
            "grid_area": null,
            "grid_template_columns": null,
            "flex": null,
            "_model_name": "LayoutModel",
            "justify_items": null,
            "grid_row": null,
            "max_height": null,
            "align_content": null,
            "visibility": null,
            "align_self": null,
            "height": null,
            "min_height": null,
            "padding": null,
            "grid_auto_rows": null,
            "grid_gap": null,
            "max_width": null,
            "order": null,
            "_view_module_version": "1.2.0",
            "grid_template_areas": null,
            "object_position": null,
            "object_fit": null,
            "grid_auto_columns": null,
            "margin": null,
            "display": null,
            "left": null
          }
        },
        "9e335e07f8d945db92a8fa16340685ba": {
          "model_module": "@jupyter-widgets/base",
          "model_name": "LayoutModel",
          "state": {
            "_view_name": "LayoutView",
            "grid_template_rows": null,
            "right": null,
            "justify_content": null,
            "_view_module": "@jupyter-widgets/base",
            "overflow": null,
            "_model_module_version": "1.2.0",
            "_view_count": null,
            "flex_flow": null,
            "width": null,
            "min_width": null,
            "border": null,
            "align_items": null,
            "bottom": null,
            "_model_module": "@jupyter-widgets/base",
            "top": null,
            "grid_column": null,
            "overflow_y": null,
            "overflow_x": null,
            "grid_auto_flow": null,
            "grid_area": null,
            "grid_template_columns": null,
            "flex": null,
            "_model_name": "LayoutModel",
            "justify_items": null,
            "grid_row": null,
            "max_height": null,
            "align_content": null,
            "visibility": null,
            "align_self": null,
            "height": null,
            "min_height": null,
            "padding": null,
            "grid_auto_rows": null,
            "grid_gap": null,
            "max_width": null,
            "order": null,
            "_view_module_version": "1.2.0",
            "grid_template_areas": null,
            "object_position": null,
            "object_fit": null,
            "grid_auto_columns": null,
            "margin": null,
            "display": null,
            "left": null
          }
        }
      }
    }
  },
  "cells": [
    {
      "cell_type": "markdown",
      "metadata": {
        "id": "view-in-github",
        "colab_type": "text"
      },
      "source": [
        "<a href=\"https://colab.research.google.com/github/sudraka/course-content/blob/master/tutorials/W3D1_BayesianDecisions/student/W3D1_Tutorial1.ipynb\" target=\"_parent\"><img src=\"https://colab.research.google.com/assets/colab-badge.svg\" alt=\"Open In Colab\"/></a>"
      ]
    },
    {
      "cell_type": "markdown",
      "metadata": {
        "execution": {},
        "id": "JizaHJOnsT1U"
      },
      "source": [
        "# Tutorial 1: Bayes with a binary hidden state\n",
        "**Week 3, Day 1: Bayesian Decisions**\n",
        "\n",
        "**By Neuromatch Academy**\n",
        "\n",
        "__Content creators:__ Eric DeWitt, Xaq Pitkow, Ella Batty, Saeed Salehi\n",
        "\n",
        "__Content reviewers:__ Hyosub Kim, Zahra Arjmandi, Anoop Kulkarni\n",
        "\n",
        "__Production editor:__ Ella Batty"
      ]
    },
    {
      "cell_type": "markdown",
      "metadata": {
        "execution": {},
        "id": "aJlEIOb3sT1Y"
      },
      "source": [
        "# Tutorial Objectives\n",
        "\n",
        "*Estimated timing of tutorial: 1 hour, 30 minutes*\n",
        "\n",
        "This is the first of two core tutorials on Bayesian statistics. In these tutorials, we will explore the fundemental concepts of the Bayesian approach. In this tutorial you will work through an example of Bayesian inference and decision making using a binary hidden state. The second tutorial extends these concepts to a continuous hidden state. In the related NMA days, each of these basic ideas will be extended. In Hidden Dynamics, we consider these idea through time as you explore what happens when we infere a hidden state using repeated observations and when the hidden state changes across time. In the Optimal Control day, we will introduce the notion of how to use inference and decisions to select actions for optimal control.\n",
        "\n",
        "This notebook will introduce the fundamental building blocks for Bayesian statistics: \n",
        "\n",
        "1. How do we combine the possible loss (or gain) for making a decision with our probabilitic knowledge?\n",
        "2. How do we use probability distributions to represent hidden states?\n",
        "3. How does marginalization work and how can we use it?\n",
        "4. How do we combine new information with our prior knowledge? "
      ]
    },
    {
      "cell_type": "code",
      "metadata": {
        "cellView": "form",
        "execution": {},
        "id": "_2wIvgeQsT1Z"
      },
      "source": [
        "# @title Tutorial slides\n",
        "\n",
        "# @markdown These are the slides for the videos in this tutorial\n",
        "from IPython.display import IFrame\n",
        "IFrame(src=f\"https://mfr.ca-1.osf.io/render?url=https://osf.io/dx7jt/?direct%26mode=render%26action=download%26mode=render\", width=854, height=480)"
      ],
      "execution_count": null,
      "outputs": []
    },
    {
      "cell_type": "code",
      "metadata": {
        "cellView": "form",
        "execution": {},
        "id": "DoUgHK4KsT1b",
        "outputId": "892d6e05-e608-4c27-b264-3634e2518f9d",
        "colab": {
          "base_uri": "https://localhost:8080/",
          "height": 580,
          "referenced_widgets": [
            "c62fc04e87b7465c9badd9542b4af270",
            "6608c3dc18ff4758b16ac993fec635f0",
            "a0204994652340ff81f4481bef3aa271",
            "3d2f4f9e5cd145eab25ef5365625889a",
            "3afc41f35dff42c4b08461127de1f2f2",
            "7dd4defe09a04e898a2c7ddf844679d2"
          ]
        }
      },
      "source": [
        "# @title Video 1: Introduction to Bayesian Statistics and Decisions\n",
        "from ipywidgets import widgets\n",
        "\n",
        "out2 = widgets.Output()\n",
        "with out2:\n",
        "  from IPython.display import IFrame\n",
        "  class BiliVideo(IFrame):\n",
        "      def __init__(self, id, page=1, width=400, height=300, **kwargs):\n",
        "          self.id=id\n",
        "          src = 'https://player.bilibili.com/player.html?bvid={0}&page={1}'.format(id, page)\n",
        "          super(BiliVideo, self).__init__(src, width, height, **kwargs)\n",
        "\n",
        "  video = BiliVideo(id=\"BV1Ch41167jN\", width=854, height=480, fs=1)\n",
        "  print('Video available at https://www.bilibili.com/video/{0}'.format(video.id))\n",
        "  display(video)\n",
        "\n",
        "out1 = widgets.Output()\n",
        "with out1:\n",
        "  from IPython.display import YouTubeVideo\n",
        "  video = YouTubeVideo(id=\"Hcx2_JTpf2M\", width=854, height=480, fs=1, rel=0)\n",
        "  print('Video available at https://youtube.com/watch?v=' + video.id)\n",
        "  display(video)\n",
        "\n",
        "out = widgets.Tab([out1, out2])\n",
        "out.set_title(0, 'Youtube')\n",
        "out.set_title(1, 'Bilibili')\n",
        "\n",
        "display(out)"
      ],
      "execution_count": 1,
      "outputs": [
        {
          "output_type": "display_data",
          "data": {
            "application/vnd.jupyter.widget-view+json": {
              "model_id": "c62fc04e87b7465c9badd9542b4af270",
              "version_minor": 0,
              "version_major": 2
            },
            "text/plain": [
              "Tab(children=(Output(), Output()), _titles={'0': 'Youtube', '1': 'Bilibili'})"
            ]
          },
          "metadata": {
            "tags": []
          }
        }
      ]
    },
    {
      "cell_type": "markdown",
      "metadata": {
        "execution": {},
        "id": "khm2MIubsT1c"
      },
      "source": [
        "# Setup  \n"
      ]
    },
    {
      "cell_type": "code",
      "metadata": {
        "execution": {},
        "id": "05HLgzFwsT1e"
      },
      "source": [
        "# Imports\n",
        "\n",
        "import numpy as np\n",
        "import matplotlib.pyplot as plt\n",
        "from matplotlib import patches, transforms, gridspec\n",
        "from scipy.optimize import fsolve\n",
        "\n",
        "from collections import namedtuple"
      ],
      "execution_count": 2,
      "outputs": []
    },
    {
      "cell_type": "code",
      "metadata": {
        "cellView": "form",
        "execution": {},
        "id": "0j7lfXwzsT1h"
      },
      "source": [
        "#@title Figure Settings\n",
        "import ipywidgets as widgets       # interactive display\n",
        "from ipywidgets import GridspecLayout, HBox, VBox, FloatSlider, Layout, ToggleButtons\n",
        "from ipywidgets import interactive, interactive_output, Checkbox, Select\n",
        "from IPython.display import clear_output\n",
        "%config InlineBackend.figure_format = 'retina'\n",
        "plt.style.use(\"https://raw.githubusercontent.com/NeuromatchAcademy/course-content/master/nma.mplstyle\")\n",
        "\n",
        "import warnings\n",
        "warnings.filterwarnings(\"ignore\")"
      ],
      "execution_count": 3,
      "outputs": []
    },
    {
      "cell_type": "code",
      "metadata": {
        "cellView": "form",
        "execution": {},
        "id": "d8GGGwRBsT1i"
      },
      "source": [
        "# @title Plotting Functions\n",
        "\n",
        "def plot_joint_probs(P, ):\n",
        "    assert np.all(P >= 0), \"probabilities should be >= 0\"\n",
        "    # normalize if not\n",
        "    P = P / np.sum(P)\n",
        "    marginal_y = np.sum(P,axis=1)\n",
        "    marginal_x = np.sum(P,axis=0)\n",
        "\n",
        "    # definitions for the axes\n",
        "    left, width = 0.1, 0.65\n",
        "    bottom, height = 0.1, 0.65\n",
        "    spacing = 0.005\n",
        "\n",
        "    # start with a square Figure\n",
        "    fig = plt.figure(figsize=(5, 5))\n",
        "\n",
        "    joint_prob = [left, bottom, width, height]\n",
        "    rect_histx = [left, bottom + height + spacing, width, 0.2]\n",
        "    rect_histy = [left + width + spacing, bottom, 0.2, height]\n",
        "\n",
        "    rect_x_cmap = plt.cm.Blues\n",
        "    rect_y_cmap = plt.cm.Reds\n",
        "\n",
        "    # Show joint probs and marginals\n",
        "    ax = fig.add_axes(joint_prob)\n",
        "    ax_x = fig.add_axes(rect_histx, sharex=ax)\n",
        "    ax_y = fig.add_axes(rect_histy, sharey=ax)\n",
        "\n",
        "    # Show joint probs and marginals\n",
        "    ax.matshow(P,vmin=0., vmax=1., cmap='Greys')\n",
        "    ax_x.bar(0, marginal_x[0], facecolor=rect_x_cmap(marginal_x[0]))\n",
        "    ax_x.bar(1, marginal_x[1], facecolor=rect_x_cmap(marginal_x[1]))\n",
        "    ax_y.barh(0, marginal_y[0], facecolor=rect_y_cmap(marginal_y[0]))\n",
        "    ax_y.barh(1, marginal_y[1], facecolor=rect_y_cmap(marginal_y[1]))\n",
        "    # set limits\n",
        "    ax_x.set_ylim([0,1])\n",
        "    ax_y.set_xlim([0,1])\n",
        "\n",
        "    # show values\n",
        "    ind = np.arange(2)\n",
        "    x,y = np.meshgrid(ind,ind)\n",
        "    for i,j in zip(x.flatten(), y.flatten()):\n",
        "        c = f\"{P[i,j]:.2f}\"\n",
        "        ax.text(j,i, c, va='center', ha='center', color='black')\n",
        "    for i in ind:\n",
        "        v = marginal_x[i]\n",
        "        c = f\"{v:.2f}\"\n",
        "        ax_x.text(i, v +0.1, c, va='center', ha='center', color='black')\n",
        "        v = marginal_y[i]\n",
        "        c = f\"{v:.2f}\"\n",
        "        ax_y.text(v+0.2, i, c, va='center', ha='center', color='black')\n",
        "\n",
        "    # set up labels\n",
        "    ax.xaxis.tick_bottom()\n",
        "    ax.yaxis.tick_left()\n",
        "    ax.set_xticks([0,1])\n",
        "    ax.set_yticks([0,1])\n",
        "    ax.set_xticklabels(['Silver','Gold'])\n",
        "    ax.set_yticklabels(['Small', 'Large'])\n",
        "    ax.set_xlabel('color')\n",
        "    ax.set_ylabel('size')\n",
        "    ax_x.axis('off')\n",
        "    ax_y.axis('off')\n",
        "    return fig\n",
        "\n",
        "\n",
        "def plot_prior_likelihood_posterior(prior, likelihood, posterior):\n",
        "\n",
        "    # definitions for the axes\n",
        "    left, width = 0.05, 0.3\n",
        "    bottom, height = 0.05, 0.9\n",
        "    padding = 0.12\n",
        "    small_width = 0.1\n",
        "    left_space = left + small_width + padding\n",
        "    added_space = padding + width\n",
        "\n",
        "    fig = plt.figure(figsize=(12, 4))\n",
        "\n",
        "    rect_prior = [left, bottom, small_width, height]\n",
        "    rect_likelihood = [left_space , bottom , width, height]\n",
        "    rect_posterior = [left_space +  added_space, bottom , width, height]\n",
        "\n",
        "    ax_prior = fig.add_axes(rect_prior)\n",
        "    ax_likelihood = fig.add_axes(rect_likelihood, sharey=ax_prior)\n",
        "    ax_posterior = fig.add_axes(rect_posterior, sharey = ax_prior)\n",
        "\n",
        "    rect_colormap = plt.cm.Blues\n",
        "\n",
        "    # Show posterior probs and marginals\n",
        "    ax_prior.barh(0, prior[0], facecolor = rect_colormap(prior[0, 0]))\n",
        "    ax_prior.barh(1, prior[1], facecolor = rect_colormap(prior[1, 0]))\n",
        "    ax_likelihood.matshow(likelihood, vmin=0., vmax=1., cmap='Reds')\n",
        "    ax_posterior.matshow(posterior, vmin=0., vmax=1., cmap='Greens')\n",
        "\n",
        "\n",
        "    # Probabilities plot details\n",
        "    # ax_prior.set(xlim = [1, 0], yticks = [0, 1], yticklabels = ['left', 'right'],\n",
        "    #              ylabel = 'state (s)', title = \"Prior p(s)\")\n",
        "    ax_prior.set(xlim = [1, 0], xticks = [], yticks = [0, 1], yticklabels = ['left', 'right'],\n",
        "                 title = \"Prior p(s)\")\n",
        "    ax_prior.yaxis.tick_right()\n",
        "    ax_prior.spines['left'].set_visible(False)\n",
        "    ax_prior.spines['bottom'].set_visible(False)\n",
        "\n",
        "    # Likelihood plot details\n",
        "    ax_likelihood.set(xticks = [0, 1], xticklabels = ['fish', 'no fish'],\n",
        "                  yticks = [0, 1], yticklabels = ['left', 'right'],\n",
        "                   ylabel = 'state (s)', xlabel = 'measurement (m)',\n",
        "                   title = 'Likelihood p(m (left) | s)')\n",
        "    ax_likelihood.xaxis.set_ticks_position('bottom')\n",
        "    ax_likelihood.spines['left'].set_visible(False)\n",
        "    ax_likelihood.spines['bottom'].set_visible(False)\n",
        "\n",
        "    # Posterior plot details\n",
        "\n",
        "    ax_posterior.set(xticks = [0, 1], xticklabels = ['fish', 'no fish'],\n",
        "                  yticks = [0, 1], yticklabels = ['left', 'right'],\n",
        "                   ylabel = 'state (s)', xlabel = 'measurement (m)',\n",
        "                   title = 'Posterior p(s | m)')\n",
        "    ax_posterior.xaxis.set_ticks_position('bottom')\n",
        "    ax_posterior.spines['left'].set_visible(False)\n",
        "    ax_posterior.spines['bottom'].set_visible(False)\n",
        "\n",
        "\n",
        "    # show values\n",
        "    ind = np.arange(2)\n",
        "    x,y = np.meshgrid(ind,ind)\n",
        "    for i,j in zip(x.flatten(), y.flatten()):\n",
        "        c = f\"{posterior[i,j]:.2f}\"\n",
        "        ax_posterior.text(j,i, c, va='center', ha='center', color='black')\n",
        "    for i,j in zip(x.flatten(), y.flatten()):\n",
        "        c = f\"{likelihood[i,j]:.2f}\"\n",
        "        ax_likelihood.text(j,i, c, va='center', ha='center', color='black')\n",
        "    for i in ind:\n",
        "        v = prior[i, 0]\n",
        "        c = f\"{v:.2f}\"\n",
        "        ax_prior.text(v+0.2, i, c, va='center', ha='center', color='black')\n",
        "\n",
        "\n",
        "def plot_prior_likelihood(ps, p_a_s1, p_a_s0, measurement):\n",
        "    likelihood = np.asarray([[p_a_s1, 1-p_a_s1],[p_a_s0, 1-p_a_s0]])\n",
        "    assert 0.0 <= ps <= 1.0\n",
        "    prior = np.asarray([ps, 1 - ps])\n",
        "    if measurement == \"Fish\":\n",
        "        posterior = likelihood[:, 0] * prior\n",
        "    else:\n",
        "        posterior = (likelihood[:, 1] * prior).reshape(-1)\n",
        "    posterior /= np.sum(posterior)\n",
        "\n",
        "    # definitions for the axes\n",
        "    left, width = 0.05, 0.3\n",
        "    bottom, height = 0.05, 0.9\n",
        "    padding = 0.12\n",
        "    small_width = 0.2\n",
        "    left_space = left + small_width + padding\n",
        "    small_padding = 0.05\n",
        "\n",
        "    fig = plt.figure(figsize=(12, 4))\n",
        "\n",
        "    rect_prior = [left, bottom, small_width, height]\n",
        "    rect_likelihood = [left_space , bottom , width, height]\n",
        "    rect_posterior = [left_space + width + small_padding, bottom , small_width, height]\n",
        "\n",
        "    ax_prior = fig.add_axes(rect_prior)\n",
        "    ax_likelihood = fig.add_axes(rect_likelihood, sharey=ax_prior)\n",
        "    ax_posterior = fig.add_axes(rect_posterior, sharey=ax_prior)\n",
        "\n",
        "    prior_colormap = plt.cm.Blues\n",
        "    posterior_colormap = plt.cm.Greens\n",
        "\n",
        "    # Show posterior probs and marginals\n",
        "    ax_prior.barh(0, prior[0], facecolor = prior_colormap(prior[0]))\n",
        "    ax_prior.barh(1, prior[1], facecolor = prior_colormap(prior[1]))\n",
        "    ax_likelihood.matshow(likelihood, vmin=0., vmax=1., cmap='Reds')\n",
        "    # ax_posterior.matshow(posterior, vmin=0., vmax=1., cmap='')\n",
        "    ax_posterior.barh(0, posterior[0], facecolor = posterior_colormap(posterior[0]))\n",
        "    ax_posterior.barh(1, posterior[1], facecolor = posterior_colormap(posterior[1]))\n",
        "\n",
        "    # Probabilities plot details\n",
        "    ax_prior.set(xlim = [1, 0], yticks = [0, 1], yticklabels = ['left', 'right'],\n",
        "                 title = \"Prior p(s)\", xticks = [])\n",
        "    ax_prior.yaxis.tick_right()\n",
        "    ax_prior.spines['left'].set_visible(False)\n",
        "    ax_prior.spines['bottom'].set_visible(False)\n",
        "\n",
        "    # Likelihood plot details\n",
        "    ax_likelihood.set(xticks = [0, 1], xticklabels = ['fish', 'no fish'],\n",
        "                  yticks = [0, 1], yticklabels = ['left', 'right'],\n",
        "                   ylabel = 'state (s)', xlabel = 'measurement (m)',\n",
        "                   title = 'Likelihood p(m | s)')\n",
        "    ax_likelihood.xaxis.set_ticks_position('bottom')\n",
        "    ax_likelihood.spines['left'].set_visible(False)\n",
        "    ax_likelihood.spines['bottom'].set_visible(False)\n",
        "\n",
        "    # Posterior plot details\n",
        "    ax_posterior.set(xlim = [0, 1], xticks = [], yticks = [0, 1],\n",
        "                     yticklabels = ['left', 'right'], title = \"Posterior p(s | m)\")\n",
        "    ax_posterior.spines['left'].set_visible(False)\n",
        "    ax_posterior.spines['bottom'].set_visible(False)\n",
        "\n",
        "    # show values\n",
        "    ind = np.arange(2)\n",
        "    x,y = np.meshgrid(ind,ind)\n",
        "    # for i,j in zip(x.flatten(), y.flatten()):\n",
        "    #     c = f\"{posterior[i,j]:.2f}\"\n",
        "    #     ax_posterior.text(j,i, c, va='center', ha='center', color='black')\n",
        "    for i in ind:\n",
        "        v = posterior[i]\n",
        "        c = f\"{v:.2f}\"\n",
        "        ax_posterior.text(v+0.2, i, c, va='center', ha='center', color='black')\n",
        "    for i,j in zip(x.flatten(), y.flatten()):\n",
        "        c = f\"{likelihood[i,j]:.2f}\"\n",
        "        ax_likelihood.text(j,i, c, va='center', ha='center', color='black')\n",
        "    for i in ind:\n",
        "        v = prior[i]\n",
        "        c = f\"{v:.2f}\"\n",
        "        ax_prior.text(v+0.2, i, c, va='center', ha='center', color='black')\n",
        "    return fig\n",
        "\n",
        "\n",
        "from matplotlib import colors\n",
        "def plot_utility(ps):\n",
        "    prior = np.asarray([ps, 1 - ps])\n",
        "\n",
        "    utility = np.array([[2, -3], [-2, 1]])\n",
        "\n",
        "    expected = prior @ utility\n",
        "\n",
        "    # definitions for the axes\n",
        "    left, width = 0.05, 0.16\n",
        "    bottom, height = 0.05, 0.9\n",
        "    padding = 0.02\n",
        "    small_width = 0.1\n",
        "    left_space = left + small_width + padding\n",
        "    added_space = padding + width\n",
        "\n",
        "    fig = plt.figure(figsize=(17, 3))\n",
        "\n",
        "    rect_prior = [left, bottom, small_width, height]\n",
        "    rect_utility = [left + added_space , bottom , width, height]\n",
        "    rect_expected = [left + 2* added_space, bottom , width, height]\n",
        "\n",
        "    ax_prior = fig.add_axes(rect_prior)\n",
        "    ax_utility = fig.add_axes(rect_utility, sharey=ax_prior)\n",
        "    ax_expected = fig.add_axes(rect_expected)\n",
        "\n",
        "    rect_colormap = plt.cm.Blues\n",
        "\n",
        "    # Data of plots\n",
        "    ax_prior.barh(0, prior[0], facecolor = rect_colormap(prior[0]))\n",
        "    ax_prior.barh(1, prior[1], facecolor = rect_colormap(prior[1]))\n",
        "    ax_utility.matshow(utility, cmap='cool')\n",
        "    norm = colors.Normalize(vmin=-3, vmax=3)\n",
        "    ax_expected.bar(0, expected[0], facecolor = rect_colormap(norm(expected[0])))\n",
        "    ax_expected.bar(1, expected[1], facecolor = rect_colormap(norm(expected[1])))\n",
        "\n",
        "    # Probabilities plot details\n",
        "    ax_prior.set(xlim = [1, 0], xticks = [], yticks = [0, 1], yticklabels = ['left', 'right'],\n",
        "                 title = \"Probability of state\")\n",
        "    ax_prior.yaxis.tick_right()\n",
        "    ax_prior.spines['left'].set_visible(False)\n",
        "    ax_prior.spines['bottom'].set_visible(False)\n",
        "\n",
        "    # Utility plot details\n",
        "    ax_utility.set(xticks = [0, 1], xticklabels = ['left', 'right'],\n",
        "                  yticks = [0, 1], yticklabels = ['left', 'right'],\n",
        "                   ylabel = 'state (s)', xlabel = 'action (a)',\n",
        "                   title = 'Utility')\n",
        "    ax_utility.xaxis.set_ticks_position('bottom')\n",
        "    ax_utility.spines['left'].set_visible(False)\n",
        "    ax_utility.spines['bottom'].set_visible(False)\n",
        "\n",
        "    # Expected utility plot details\n",
        "    ax_expected.set(title = 'Expected utility', ylim = [-3, 3],\n",
        "                    xticks = [0, 1], xticklabels = ['left', 'right'],\n",
        "                    xlabel = 'action (a)',\n",
        "                    yticks = [])\n",
        "    ax_expected.xaxis.set_ticks_position('bottom')\n",
        "    ax_expected.spines['left'].set_visible(False)\n",
        "    ax_expected.spines['bottom'].set_visible(False)\n",
        "\n",
        "    # show values\n",
        "    ind = np.arange(2)\n",
        "    x,y = np.meshgrid(ind,ind)\n",
        "\n",
        "    for i,j in zip(x.flatten(), y.flatten()):\n",
        "        c = f\"{utility[i,j]:.2f}\"\n",
        "        ax_utility.text(j,i, c, va='center', ha='center', color='black')\n",
        "    for i in ind:\n",
        "        v = prior[i]\n",
        "        c = f\"{v:.2f}\"\n",
        "        ax_prior.text(v+0.2, i, c, va='center', ha='center', color='black')\n",
        "    for i in ind:\n",
        "        v = expected[i]\n",
        "        c = f\"{v:.2f}\"\n",
        "        ax_expected.text(i, 2.5, c, va='center', ha='center', color='black')\n",
        "\n",
        "    return fig\n",
        "\n",
        "\n",
        "def plot_prior_likelihood_utility(ps, p_a_s1, p_a_s0, measurement):\n",
        "    assert 0.0 <= ps <= 1.0\n",
        "    assert 0.0 <= p_a_s1 <= 1.0\n",
        "    assert 0.0 <= p_a_s0 <= 1.0\n",
        "    prior = np.asarray([ps, 1 - ps])\n",
        "    likelihood = np.asarray([[p_a_s1, 1-p_a_s1],[p_a_s0, 1-p_a_s0]])\n",
        "    utility = np.array([[2.0, -3.0], [-2.0, 1.0]])\n",
        "    # expected = np.zeros_like(utility)\n",
        "\n",
        "    if measurement == \"Fish\":\n",
        "        posterior = likelihood[:, 0] * prior\n",
        "    else:\n",
        "        posterior = (likelihood[:, 1] * prior).reshape(-1)\n",
        "    posterior /= np.sum(posterior)\n",
        "    # expected[:, 0] = utility[:, 0] * posterior\n",
        "    # expected[:, 1] = utility[:, 1] * posterior\n",
        "    expected = posterior @ utility\n",
        "\n",
        "    # definitions for the axes\n",
        "    left, width = 0.05, 0.3\n",
        "    bottom, height = 0.05, 0.3\n",
        "    padding = 0.12\n",
        "    small_width = 0.2\n",
        "    left_space = left + small_width + padding\n",
        "    small_padding = 0.05\n",
        "\n",
        "    fig = plt.figure(figsize=(10, 9))\n",
        "\n",
        "    rect_prior = [left, bottom + height + padding, small_width, height]\n",
        "    rect_likelihood = [left_space , bottom + height + padding , width, height]\n",
        "    rect_posterior = [left_space + width + small_padding, bottom + height + padding , small_width, height]\n",
        "\n",
        "    rect_utility = [padding, bottom, width, height]\n",
        "    rect_expected = [padding + width + padding + left, bottom, width, height]\n",
        "\n",
        "    ax_likelihood = fig.add_axes(rect_likelihood)\n",
        "    ax_prior = fig.add_axes(rect_prior, sharey=ax_likelihood)\n",
        "    ax_posterior = fig.add_axes(rect_posterior, sharey=ax_likelihood)\n",
        "    ax_utility = fig.add_axes(rect_utility)\n",
        "    ax_expected = fig.add_axes(rect_expected)\n",
        "\n",
        "    prior_colormap = plt.cm.Blues\n",
        "    posterior_colormap = plt.cm.Greens\n",
        "    expected_colormap = plt.cm.Wistia\n",
        "\n",
        "    # Show posterior probs and marginals\n",
        "    ax_prior.barh(0, prior[0], facecolor = prior_colormap(prior[0]))\n",
        "    ax_prior.barh(1, prior[1], facecolor = prior_colormap(prior[1]))\n",
        "    ax_likelihood.matshow(likelihood, vmin=0., vmax=1., cmap='Reds')\n",
        "    ax_posterior.barh(0, posterior[0], facecolor = posterior_colormap(posterior[0]))\n",
        "    ax_posterior.barh(1, posterior[1], facecolor = posterior_colormap(posterior[1]))\n",
        "    ax_utility.matshow(utility, vmin=0., vmax=1., cmap='cool')\n",
        "    # ax_expected.matshow(expected, vmin=0., vmax=1., cmap='Wistia')\n",
        "    ax_expected.bar(0, expected[0], facecolor = expected_colormap(expected[0]))\n",
        "    ax_expected.bar(1, expected[1], facecolor = expected_colormap(expected[1]))\n",
        "\n",
        "    # Probabilities plot details\n",
        "    ax_prior.set(xlim = [1, 0], yticks = [0, 1], yticklabels = ['left', 'right'],\n",
        "                 title = \"Prior p(s)\", xticks = [])\n",
        "    ax_prior.yaxis.tick_right()\n",
        "    ax_prior.spines['left'].set_visible(False)\n",
        "    ax_prior.spines['bottom'].set_visible(False)\n",
        "\n",
        "    # Likelihood plot details\n",
        "    ax_likelihood.set(xticks = [0, 1], xticklabels = ['fish', 'no fish'],\n",
        "                  yticks = [0, 1], yticklabels = ['left', 'right'],\n",
        "                   ylabel = 'state (s)', xlabel = 'measurement (m)',\n",
        "                   title = 'Likelihood p(m | s)')\n",
        "    ax_likelihood.xaxis.set_ticks_position('bottom')\n",
        "    ax_likelihood.spines['left'].set_visible(False)\n",
        "    ax_likelihood.spines['bottom'].set_visible(False)\n",
        "\n",
        "    # Posterior plot details\n",
        "    ax_posterior.set(xlim = [0, 1], xticks = [], yticks = [0, 1],\n",
        "                     yticklabels = ['left', 'right'], title = \"Posterior p(s | m)\")\n",
        "    ax_posterior.spines['left'].set_visible(False)\n",
        "    ax_posterior.spines['bottom'].set_visible(False)\n",
        "\n",
        "    # Utility plot details\n",
        "    ax_utility.set(xticks = [0, 1], xticklabels = ['left', 'right'],\n",
        "                   xlabel = 'action (a)', yticks = [0, 1], yticklabels = ['left', 'right'],\n",
        "                   title = 'Utility', ylabel = 'state (s)')\n",
        "    ax_utility.xaxis.set_ticks_position('bottom')\n",
        "    ax_utility.spines['left'].set_visible(False)\n",
        "    ax_utility.spines['bottom'].set_visible(False)\n",
        "\n",
        "    # Expected Utility plot details\n",
        "    ax_expected.set(ylim = [-2, 2], xticks = [0, 1], xticklabels = ['left', 'right'],\n",
        "                 xlabel = 'action (a)', title = 'Expected utility', yticks=[])\n",
        "    # ax_expected.axis('off')\n",
        "    ax_expected.spines['left'].set_visible(False)\n",
        "    # ax_expected.set(xticks = [0, 1], xticklabels = ['left', 'right'],\n",
        "    #                 xlabel = 'action (a)',\n",
        "    #                title = 'Expected utility')\n",
        "    # ax_expected.xaxis.set_ticks_position('bottom')\n",
        "    # ax_expected.spines['left'].set_visible(False)\n",
        "    # ax_expected.spines['bottom'].set_visible(False)\n",
        "\n",
        "    # show values\n",
        "    ind = np.arange(2)\n",
        "    x,y = np.meshgrid(ind,ind)\n",
        "    for i in ind:\n",
        "        v = posterior[i]\n",
        "        c = f\"{v:.2f}\"\n",
        "        ax_posterior.text(v+0.2, i, c, va='center', ha='center', color='black')\n",
        "    for i,j in zip(x.flatten(), y.flatten()):\n",
        "        c = f\"{likelihood[i,j]:.2f}\"\n",
        "        ax_likelihood.text(j,i, c, va='center', ha='center', color='black')\n",
        "    for i,j in zip(x.flatten(), y.flatten()):\n",
        "        c = f\"{utility[i,j]:.2f}\"\n",
        "        ax_utility.text(j,i, c, va='center', ha='center', color='black')\n",
        "    # for i,j in zip(x.flatten(), y.flatten()):\n",
        "    #     c = f\"{expected[i,j]:.2f}\"\n",
        "    #     ax_expected.text(j,i, c, va='center', ha='center', color='black')\n",
        "    for i in ind:\n",
        "        v = prior[i]\n",
        "        c = f\"{v:.2f}\"\n",
        "        ax_prior.text(v+0.2, i, c, va='center', ha='center', color='black')\n",
        "    for i in ind:\n",
        "        v = expected[i]\n",
        "        c = f\"{v:.2f}\"\n",
        "        ax_expected.text(i, v, c, va='center', ha='center', color='black')\n",
        "\n",
        "    return fig"
      ],
      "execution_count": 4,
      "outputs": []
    },
    {
      "cell_type": "code",
      "metadata": {
        "cellView": "form",
        "execution": {},
        "id": "N064hIWVsT1l"
      },
      "source": [
        "# @title Helper Functions\n",
        "\n",
        "def compute_marginal(px, py, cor):\n",
        "    \"\"\" Calculate 2x2 joint probabilities given marginals p(x=1), p(y=1) and correlation\n",
        "\n",
        "      Args:\n",
        "        px (scalar): marginal probability of x\n",
        "        py (scalar): marginal probability of y\n",
        "        cor (scalar): correlation value\n",
        "\n",
        "      Returns:\n",
        "        ndarray of size (2, 2): joint probability array of x and y\n",
        "    \"\"\"\n",
        "\n",
        "    p11 = px*py + cor*np.sqrt(px*py*(1-px)*(1-py))\n",
        "    p01 = px - p11\n",
        "    p10 = py - p11\n",
        "    p00 = 1.0 - p11 - p01 - p10\n",
        "\n",
        "    return np.asarray([[p00, p01], [p10, p11]])\n",
        "\n",
        "\n",
        "def compute_cor_range(px,py):\n",
        "    \"\"\" Calculate the allowed range of correlation values given marginals p(x=1)\n",
        "      and p(y=1)\n",
        "\n",
        "    Args:\n",
        "      px (scalar): marginal probability of x\n",
        "      py (scalar): marginal probability of y\n",
        "\n",
        "    Returns:\n",
        "      scalar, scalar: minimum and maximum possible values of correlation\n",
        "    \"\"\"\n",
        "\n",
        "    def p11(corr):\n",
        "        return px*py + corr*np.sqrt(px*py*(1-px)*(1-py))\n",
        "    def p01(corr):\n",
        "        return px - p11(corr)\n",
        "    def p10(corr):\n",
        "        return py - p11(corr)\n",
        "    def p00(corr):\n",
        "        return 1.0 - p11(corr) - p01(corr) - p10(corr)\n",
        "    Cmax = min(fsolve(p01, 0.0), fsolve(p10, 0.0))\n",
        "    Cmin = max(fsolve(p11, 0.0), fsolve(p00, 0.0))\n",
        "    return Cmin, Cmax"
      ],
      "execution_count": 5,
      "outputs": []
    },
    {
      "cell_type": "markdown",
      "metadata": {
        "execution": {},
        "id": "haw0oYyRsT1m"
      },
      "source": [
        "---\n",
        "# Section 1: Gone Fishin'\n"
      ]
    },
    {
      "cell_type": "code",
      "metadata": {
        "cellView": "form",
        "execution": {},
        "id": "CMrtuZ_csT1n",
        "outputId": "c9ac5b44-f7e1-4698-c44e-551f5351b3a6",
        "colab": {
          "base_uri": "https://localhost:8080/",
          "height": 580,
          "referenced_widgets": [
            "93d1312d2210411a9c4025ab09bb6ba0",
            "920b89ab0e294de683a5f255319798aa",
            "d896a4a8edb14ec69fe63237599f44ba",
            "90c0201562034c0da7a61c18eddab9f1",
            "f7ac3d1d75e94a3fa835e9dd4e2b23f8",
            "feee3b943563490b83426767060c12f0"
          ]
        }
      },
      "source": [
        "# @title Video 2: Gone Fishin'\n",
        "from ipywidgets import widgets\n",
        "\n",
        "out2 = widgets.Output()\n",
        "with out2:\n",
        "  from IPython.display import IFrame\n",
        "  class BiliVideo(IFrame):\n",
        "      def __init__(self, id, page=1, width=400, height=300, **kwargs):\n",
        "          self.id=id\n",
        "          src = 'https://player.bilibili.com/player.html?bvid={0}&page={1}'.format(id, page)\n",
        "          super(BiliVideo, self).__init__(src, width, height, **kwargs)\n",
        "\n",
        "  video = BiliVideo(id=\"BV1TP4y147pJ\", width=854, height=480, fs=1)\n",
        "  print('Video available at https://www.bilibili.com/video/{0}'.format(video.id))\n",
        "  display(video)\n",
        "\n",
        "out1 = widgets.Output()\n",
        "with out1:\n",
        "  from IPython.display import YouTubeVideo\n",
        "  video = YouTubeVideo(id=\"kAdBjWOI_yE\", width=854, height=480, fs=1, rel=0)\n",
        "  print('Video available at https://youtube.com/watch?v=' + video.id)\n",
        "  display(video)\n",
        "\n",
        "out = widgets.Tab([out1, out2])\n",
        "out.set_title(0, 'Youtube')\n",
        "out.set_title(1, 'Bilibili')\n",
        "\n",
        "display(out)"
      ],
      "execution_count": 6,
      "outputs": [
        {
          "output_type": "display_data",
          "data": {
            "application/vnd.jupyter.widget-view+json": {
              "model_id": "93d1312d2210411a9c4025ab09bb6ba0",
              "version_minor": 0,
              "version_major": 2
            },
            "text/plain": [
              "Tab(children=(Output(), Output()), _titles={'0': 'Youtube', '1': 'Bilibili'})"
            ]
          },
          "metadata": {
            "tags": []
          }
        }
      ]
    },
    {
      "cell_type": "markdown",
      "metadata": {
        "execution": {},
        "id": "3zKaU-a6sT1n"
      },
      "source": [
        "This video covers the example problem of fishing that we will cover in this tutorial.\n",
        "\n",
        "<details>\n",
        "<summary> <font color=‘blue’>Click here for text recap of video </font></summary>\n",
        "\n",
        "You were just introduced to the **binary hidden state problem** we are going to explore. You need to decide which side to fish on--the hidden state. We know fish like to school together. On different days the school of fish is either on the left or right side, but we don’t know what the case is today. We define our knowledge about the fish location as a distribution over the random hidden state variable. Using our probabilistic knowledge, also called our **belief** about the hidden state, we will explore how to make the decision about where to fish today, based on what to expect in terms of gains or losses for the decision.\n",
        "The gains and losss are defined by the utility of choosing an action, which is fishing on the left or right. The details of the utilities are described \n",
        "</details>\n",
        "\n",
        "In the next two sections we will consider just the probability of where the fish might be and what you gain or lose by choosing where to fish (leaving Bayesian approaches to the last few sections).\n",
        "\n",
        "Remember, you can either think of your self as a scientist conducting an experiment or as a brain trying to make a decision. The Bayesian approach is the same!\n"
      ]
    },
    {
      "cell_type": "markdown",
      "metadata": {
        "execution": {},
        "id": "bYP8lKsWsT1n"
      },
      "source": [
        "---\n",
        "# Section 2: Deciding where to fish \n",
        "\n",
        "*Estimated timing to here from start of tutorial: 10 min*"
      ]
    },
    {
      "cell_type": "code",
      "metadata": {
        "cellView": "form",
        "execution": {},
        "id": "USO37xaEsT1n",
        "outputId": "696f7d11-c7e2-4fd7-9199-455883e7ba9c",
        "colab": {
          "base_uri": "https://localhost:8080/",
          "height": 580,
          "referenced_widgets": [
            "cc76f7869e6946d9b2a2522324831528",
            "135fc01473024a2a92e5c157cf37a6c4",
            "2ddc191185e14248a9df97df5b9340d8",
            "562ccd6583994b57b3be302052287656",
            "5d29b2c0a05a4dd28b44eab5c4d4b2d7",
            "71f46039255746c2be8b0cf4ef70df28"
          ]
        }
      },
      "source": [
        "# @title Video 3: Utility\n",
        "from ipywidgets import widgets\n",
        "\n",
        "out2 = widgets.Output()\n",
        "with out2:\n",
        "  from IPython.display import IFrame\n",
        "  class BiliVideo(IFrame):\n",
        "      def __init__(self, id, page=1, width=400, height=300, **kwargs):\n",
        "          self.id=id\n",
        "          src = 'https://player.bilibili.com/player.html?bvid={0}&page={1}'.format(id, page)\n",
        "          super(BiliVideo, self).__init__(src, width, height, **kwargs)\n",
        "\n",
        "  video = BiliVideo(id=\"BV1uL411H7ZE\", width=854, height=480, fs=1)\n",
        "  print('Video available at https://www.bilibili.com/video/{0}'.format(video.id))\n",
        "  display(video)\n",
        "\n",
        "out1 = widgets.Output()\n",
        "with out1:\n",
        "  from IPython.display import YouTubeVideo\n",
        "  video = YouTubeVideo(id=\"8-5RM0k3IKE\", width=854, height=480, fs=1, rel=0)\n",
        "  print('Video available at https://youtube.com/watch?v=' + video.id)\n",
        "  display(video)\n",
        "\n",
        "out = widgets.Tab([out1, out2])\n",
        "out.set_title(0, 'Youtube')\n",
        "out.set_title(1, 'Bilibili')\n",
        "\n",
        "display(out)"
      ],
      "execution_count": 7,
      "outputs": [
        {
          "output_type": "display_data",
          "data": {
            "application/vnd.jupyter.widget-view+json": {
              "model_id": "cc76f7869e6946d9b2a2522324831528",
              "version_minor": 0,
              "version_major": 2
            },
            "text/plain": [
              "Tab(children=(Output(), Output()), _titles={'0': 'Youtube', '1': 'Bilibili'})"
            ]
          },
          "metadata": {
            "tags": []
          }
        }
      ]
    },
    {
      "cell_type": "markdown",
      "metadata": {
        "execution": {},
        "id": "MkomD4bYsT1n"
      },
      "source": [
        "This video covers utility and expected utility.\n",
        "\n",
        "<details>\n",
        "<summary> <font color=‘blue’>Click here for text recap of video </font></summary>\n",
        "\n",
        "You need to decide where to fish. It may seem obvious - you could just fish on the side where the probability of the fish being is higher! Unfortunately, decisions and actions are always a little more complicated. Deciding to fish may be influenced by more than just the probability of the school of fish being there as we saw by the potential issues of submarines and sunburn. The consequences of the action you take is based on the true (but hidden) state of the world and the action you choose! In our example, fishing on the wrong side, where there aren't many fish, is likely to lead to you spending your afternoon not catching fish and therefore getting a sunburn. The submarine represents a risk to fishing on the right side that is greater than the left side. If you want to know what to expect from taking the action of fishing on one side or the other, you need to calculate the expected utility.\n",
        "\n",
        "You know the (prior) probability that the school of fish is on the left side of the dock today, $P(s = \\textrm{left})$. So, you also know the probability the school is on the right, $P(s = \\textrm{right})$, because these two probabilities must add up to 1.\n",
        "\n",
        "We quantify gains and losses numerically using a **utility** function $U(s,a)$, which describes the consequences of your actions: how much value you gain (or if negative, lose) given the state of the world ($s$) and the action you take ($a$). In our example, our utility can be summarized as:\n",
        "\n",
        "| Utility: U(s,a)   | a = left   | a = right  |\n",
        "| ----------------- |------------|------------|\n",
        "| s = Left          | +2         | -3         |\n",
        "| s = right         | -2         | +1         |\n",
        "\n",
        "To use possible gains and losses to choose an action, we calculate the **expected utility** of that action by weighing these utilities with the probability of that state occuring. This allows us to choose actions by taking probabilities of events into account: we don't care if the outcome of an action-state pair is a loss if the probability of that state is very low. We can formalize this as:\n",
        "\n",
        "$$ \\text{Expected utility of action a} = \\sum_{s}U(s,a)P(s) $$\n",
        "\n",
        "In other words, the expected utility of an action a is the sum over possible states of the utility of that action and state times the probability of that state.\n",
        "\n",
        "</details>\n"
      ]
    },
    {
      "cell_type": "markdown",
      "metadata": {
        "execution": {},
        "id": "uNoYIoZisT1o"
      },
      "source": [
        "## Interactive Demo 2: Exploring the decision\n",
        "\n",
        "Let's start to get a sense of how all this works using the interactive demo below. You can change the probability that the school of fish is on the left side,$p(s = \\textrm{left})$, using the slider. You will see the utility function (a matrix) in the middle and the corresponding expected utility for each action on the right.\n",
        "\n",
        "First, make sure you understand how the expected utility of each action is being computed from the probabilities and the utility values. In the initial state: the probability of the fish being on the left is 0.9 and on the right is 0.1. The expected utility of the action of fishing on the left is then $U(s = \\textrm{left},a = \\textrm{left})p(s = \\textrm{left}) + U(s = \\textrm{right},a = \\textrm{left})p(s = \\textrm{right}) = 2(0.9) + -2(0.1) = 1.6$. Essentially, to get the expected utility of action $a$, you are doing a weighted sum over the relevant column of the utility matrix (corresponding to action $a$) where the weights are the state probabilities.\n",
        "\n",
        "For each of these scenarios, think and discuss first. Then use the demo to try out each and see if your action would have been correct (that is, if the expected value of that action is the highest).\n",
        "\n",
        "\n",
        "1.  You just arrived at the dock for the first time and have no sense of where the fish might be. So you guess that the probability of the school being on the left side is 0.5 (so the probability on the right side is also 0.5). Which side would you choose to fish on given our utility values?\n",
        "2.  You think that the probability of the school being on the left side is very low (0.1) and correspondingly high on the right side (0.9). Which side would you choose to fish on given our utility values?\n",
        "3.  What would you choose if the probability of the school being on the left side is slightly lower than on the right side (0. 4 vs 0.6)?"
      ]
    },
    {
      "cell_type": "code",
      "metadata": {
        "cellView": "form",
        "execution": {},
        "id": "VO2_cMq1sT1o",
        "outputId": "a60fe925-dfbb-41e8-8a30-71ec146aed71",
        "colab": {
          "base_uri": "https://localhost:8080/",
          "height": 326,
          "referenced_widgets": [
            "c4a27ecb95c14e76aa2d3aae8939d80f",
            "888eab990d1040618790efcca3b6889e",
            "35ca85d51dc94de2a527c4898bf3fd30",
            "540b340a97324a378d8a9b9701fe7855",
            "1ad8e9b85925455f8c8a74106322d4f3",
            "fdc9c635163a4fd5b33908f0c6721fa5",
            "3b0ee5c88c4d421b8c87981d0e5636dd"
          ]
        }
      },
      "source": [
        "# @markdown Execute this cell to use the widget\n",
        "ps_widget = widgets.FloatSlider(0.9, description='p(s = left)', min=0.0, max=1.0, step=0.01)\n",
        "\n",
        "@widgets.interact(\n",
        "    ps = ps_widget,\n",
        ")\n",
        "def make_utility_plot(ps):\n",
        "    fig = plot_utility(ps)\n",
        "    plt.show(fig)\n",
        "    plt.close(fig)\n",
        "    return None"
      ],
      "execution_count": 8,
      "outputs": [
        {
          "output_type": "display_data",
          "data": {
            "application/vnd.jupyter.widget-view+json": {
              "model_id": "c4a27ecb95c14e76aa2d3aae8939d80f",
              "version_minor": 0,
              "version_major": 2
            },
            "text/plain": [
              "interactive(children=(FloatSlider(value=0.9, description='p(s = left)', max=1.0, step=0.01), Output()), _dom_c…"
            ]
          },
          "metadata": {
            "tags": []
          }
        }
      ]
    },
    {
      "cell_type": "markdown",
      "metadata": {
        "execution": {},
        "id": "1oA95ZzPsT1q"
      },
      "source": [
        "[*Click for solution*](https://github.com/NeuromatchAcademy/course-content/tree/master//tutorials/W3D1_BayesianDecisions/solutions/W3D1_Tutorial1_Solution_b21e7033.py)\n",
        "\n"
      ]
    },
    {
      "cell_type": "code",
      "metadata": {
        "cellView": "form",
        "execution": {},
        "id": "OrH7mAPVsT1q",
        "outputId": "2c2a0b7d-0268-470b-8d99-668557e6e914",
        "colab": {
          "base_uri": "https://localhost:8080/",
          "height": 580,
          "referenced_widgets": [
            "f58759f799e440cfa30a1d8ffa674c2f",
            "6c5c06479cd34baa836afa10521cfa9b",
            "fa63e543436f4013978ff2e0f1f63dc2",
            "8a7e52ab44cb4f26b35ab8baa3c67f52",
            "a7971a8ee49147f988c48901fdfcab60",
            "e9ab2e9527ad48ee828490268fb56708"
          ]
        }
      },
      "source": [
        "# @title Video 4: Utility Demo Discussion\n",
        "from ipywidgets import widgets\n",
        "\n",
        "out2 = widgets.Output()\n",
        "with out2:\n",
        "  from IPython.display import IFrame\n",
        "  class BiliVideo(IFrame):\n",
        "      def __init__(self, id, page=1, width=400, height=300, **kwargs):\n",
        "          self.id=id\n",
        "          src = 'https://player.bilibili.com/player.html?bvid={0}&page={1}'.format(id, page)\n",
        "          super(BiliVideo, self).__init__(src, width, height, **kwargs)\n",
        "\n",
        "  video = BiliVideo(id=\"BV1po4y1D7Fu\", width=854, height=480, fs=1)\n",
        "  print('Video available at https://www.bilibili.com/video/{0}'.format(video.id))\n",
        "  display(video)\n",
        "\n",
        "out1 = widgets.Output()\n",
        "with out1:\n",
        "  from IPython.display import YouTubeVideo\n",
        "  video = YouTubeVideo(id=\"GHQbmsEyQjE\", width=854, height=480, fs=1, rel=0)\n",
        "  print('Video available at https://youtube.com/watch?v=' + video.id)\n",
        "  display(video)\n",
        "\n",
        "out = widgets.Tab([out1, out2])\n",
        "out.set_title(0, 'Youtube')\n",
        "out.set_title(1, 'Bilibili')\n",
        "\n",
        "display(out)"
      ],
      "execution_count": 9,
      "outputs": [
        {
          "output_type": "display_data",
          "data": {
            "application/vnd.jupyter.widget-view+json": {
              "model_id": "f58759f799e440cfa30a1d8ffa674c2f",
              "version_minor": 0,
              "version_major": 2
            },
            "text/plain": [
              "Tab(children=(Output(), Output()), _titles={'0': 'Youtube', '1': 'Bilibili'})"
            ]
          },
          "metadata": {
            "tags": []
          }
        }
      ]
    },
    {
      "cell_type": "markdown",
      "metadata": {
        "execution": {},
        "id": "fz3i1MABsT1s"
      },
      "source": [
        "In this section, you have seen that both the utility of various state and action pairs and our knowledge of the probability of each state affects your decision. Importantly, we want our knowledge of the probability of each state to be as accurate as possible! \n",
        "\n",
        "So how do we know these probabilities? We may have prior knowledge from years of fishing at the same dock, learning that the fish are more likely to be on the left side, for example. Of course, we need to update our knowledge (our belief)! To do this, we need to collect more information, or take some measurements! In the next few sections, we will focus on how we improve our knowledge of the probabilities."
      ]
    },
    {
      "cell_type": "markdown",
      "metadata": {
        "execution": {},
        "id": "fUxUF7ltsT1s"
      },
      "source": [
        "---\n",
        "# Section 3: Likelihood of the fish being on either side\n",
        "\n",
        "*Estimated timing to here from start of tutorial: 25 min*\n",
        " \n"
      ]
    },
    {
      "cell_type": "code",
      "metadata": {
        "cellView": "form",
        "execution": {},
        "id": "9_znS2NcsT1t",
        "outputId": "d1dc05b0-d366-42d9-c176-36982a1cc3f9",
        "colab": {
          "base_uri": "https://localhost:8080/",
          "height": 580,
          "referenced_widgets": [
            "fb99b853c7254d6f93efbe835beed5ba",
            "1d1bd8faa77144559e79e2240be8d3c9",
            "e8874b523f7147fe97d8c13353a29c28",
            "f778e2477ac5431a86c810e43cdb807e",
            "41e7c1e4e83a4a65bb48e4057dc2e014",
            "c23cd39c3e7a49d3a49ecef23105061d"
          ]
        }
      },
      "source": [
        "# @title Video 5: Likelihood\n",
        "from ipywidgets import widgets\n",
        "\n",
        "out2 = widgets.Output()\n",
        "with out2:\n",
        "  from IPython.display import IFrame\n",
        "  class BiliVideo(IFrame):\n",
        "      def __init__(self, id, page=1, width=400, height=300, **kwargs):\n",
        "          self.id=id\n",
        "          src = 'https://player.bilibili.com/player.html?bvid={0}&page={1}'.format(id, page)\n",
        "          super(BiliVideo, self).__init__(src, width, height, **kwargs)\n",
        "\n",
        "  video = BiliVideo(id=\"BV1EK4y1u7AV\", width=854, height=480, fs=1)\n",
        "  print('Video available at https://www.bilibili.com/video/{0}'.format(video.id))\n",
        "  display(video)\n",
        "\n",
        "out1 = widgets.Output()\n",
        "with out1:\n",
        "  from IPython.display import YouTubeVideo\n",
        "  video = YouTubeVideo(id=\"Yv8MDjdm1l4\", width=854, height=480, fs=1, rel=0)\n",
        "  print('Video available at https://youtube.com/watch?v=' + video.id)\n",
        "  display(video)\n",
        "\n",
        "out = widgets.Tab([out1, out2])\n",
        "out.set_title(0, 'Youtube')\n",
        "out.set_title(1, 'Bilibili')\n",
        "\n",
        "display(out)"
      ],
      "execution_count": 10,
      "outputs": [
        {
          "output_type": "display_data",
          "data": {
            "application/vnd.jupyter.widget-view+json": {
              "model_id": "fb99b853c7254d6f93efbe835beed5ba",
              "version_minor": 0,
              "version_major": 2
            },
            "text/plain": [
              "Tab(children=(Output(), Output()), _titles={'0': 'Youtube', '1': 'Bilibili'})"
            ]
          },
          "metadata": {
            "tags": []
          }
        }
      ]
    },
    {
      "cell_type": "markdown",
      "metadata": {
        "execution": {},
        "id": "dzKHjduLsT1t"
      },
      "source": [
        "\n",
        "<details>\n",
        "<summary> <font color=‘blue’>Click here for text recap of video </font></summary>\n",
        "\n",
        "First, we'll think about what it means to take a measurement (also often called an observation or just data) and what it tells you about what the hidden state may be. Specifically, we'll be looking at the **likelihood**, which is the probability of your measurement ($m$) given the hidden state ($s$): $P(m | s)$. Remember that in this case, the hidden state is which side of the dock the school of fish is on.\n",
        "We will watch someone fish (for let's say 10 minutes) and our measurement is whether they catch a fish or not. We know something about what catching a fish means for the likelihood of the fish being on one side or the other.\n",
        "</details>"
      ]
    },
    {
      "cell_type": "markdown",
      "metadata": {
        "execution": {},
        "id": "MY36gJ6-sT1t"
      },
      "source": [
        "## Think! 3: Guessing the location of the fish\n",
        "\n",
        "Let's say we go to different dock to fish. Here, there are different probabilities of catching fish given the state of the world. At this dock, if you fish on the side of the dock where the fish are, you have a 70% chance of catching a fish. If you fish on the wrong side, you will catch a fish with only 20% probability. These are the likelihoods of observing someone catching a fish! That is, you are taking a measurement by seeing if someone else catches a fish!\n",
        "\n",
        "You see a fisherperson is fishing on the left side.\n",
        "\n",
        "1) Please figure out each of the following (might be easiest to do this separately and then compare notes):\n",
        "- probability of catching a fish given that the school of fish is on the left side, $P(m = \\textrm{catch fish} | s = \\textrm{left} )$\n",
        "- probability of not catching a fish given that the school of fish is on the left side, $P(m = \\textrm{no fish} | s = \\textrm{left})$\n",
        "- probability of catching a fish given that the school of fish is on the right side, $P(m = \\textrm{catch  fish} | s = \\textrm{right})$\n",
        "- probability of not catching a fish given that the school of fish is on the right side, $P(m = \\textrm{no fish} | s = \\textrm{right})$\n",
        "\n",
        "2) If the fisherperson catches a fish, which side would you guess the school is on? Why?\n",
        "\n",
        "3) If the fisherperson does not catch a fish, which side would you guess the school is on? Why?\n"
      ]
    },
    {
      "cell_type": "markdown",
      "metadata": {
        "execution": {},
        "id": "zYou_5TKsT1v"
      },
      "source": [
        "[*Click for solution*](https://github.com/NeuromatchAcademy/course-content/tree/master//tutorials/W3D1_BayesianDecisions/solutions/W3D1_Tutorial1_Solution_84eff60e.py)\n",
        "\n"
      ]
    },
    {
      "cell_type": "markdown",
      "metadata": {
        "execution": {},
        "id": "th9aj495sT1v"
      },
      "source": [
        "In the prior exercise, you tried to guess where the school of fish was based on the measurement you took (watching someone fish). You did this by choosing the state (side where you think the fish are) that maximized the probability of the measurement. In other words, you estimated the state by maximizing the likelihood (the side with the highest probability of measurement given state $P(m|s$)). This is called maximum likelihood estimation (MLE) and you've encountered it before during this course, in the [pre-reqs statistics day](https://compneuro.neuromatch.io/tutorials/W0D5_Statistics/student/W0D5_Tutorial2.html#section-2-2-maximum-likelihood) and on [Model Fitting day](https://compneuro.neuromatch.io/tutorials/W1D3_ModelFitting/student/W1D3_Tutorial2.html)!\n",
        "\n",
        "But, what if you had been going to this dock for years and you knew that the fish were almost always on the left side? This should probably affect how you make your estimate -- you would rely less on the single new measurement and more on your prior knowledge. This is the fundemental idea behind Bayesian inference, as we will see later in this tutorial!"
      ]
    },
    {
      "cell_type": "markdown",
      "metadata": {
        "execution": {},
        "id": "KlSNTc_QsT1v"
      },
      "source": [
        "---\n",
        "# Section 4: Correlation and marginalization\n",
        "\n",
        "*Estimated timing to here from start of tutorial: 35 min*\n"
      ]
    },
    {
      "cell_type": "code",
      "metadata": {
        "cellView": "form",
        "execution": {},
        "id": "HOiKWt4YsT1v",
        "outputId": "f7f10c98-f874-4609-8263-005228eb18f4",
        "colab": {
          "base_uri": "https://localhost:8080/",
          "height": 580,
          "referenced_widgets": [
            "4d77bba67c3a4f6791276e851140bdd4",
            "baab8b3b21c349f2a662ac4ff1b045ab",
            "03532d07906449008c8e6b492994110d",
            "3b64676ea956477aa82053c9907aa0fc",
            "5811c165b4b7451586aa783798d5d4f3",
            "25b691f74e97460593c9fddb8d6ec9be"
          ]
        }
      },
      "source": [
        "# @title Video 6: Correlation and marginalization\n",
        "from ipywidgets import widgets\n",
        "\n",
        "out2 = widgets.Output()\n",
        "with out2:\n",
        "  from IPython.display import IFrame\n",
        "  class BiliVideo(IFrame):\n",
        "      def __init__(self, id, page=1, width=400, height=300, **kwargs):\n",
        "          self.id=id\n",
        "          src = 'https://player.bilibili.com/player.html?bvid={0}&page={1}'.format(id, page)\n",
        "          super(BiliVideo, self).__init__(src, width, height, **kwargs)\n",
        "\n",
        "  video = BiliVideo(id=\"BV1Zq4y1p7N6\", width=854, height=480, fs=1)\n",
        "  print('Video available at https://www.bilibili.com/video/{0}'.format(video.id))\n",
        "  display(video)\n",
        "\n",
        "out1 = widgets.Output()\n",
        "with out1:\n",
        "  from IPython.display import YouTubeVideo\n",
        "  video = YouTubeVideo(id=\"iprFMHch2_g\", width=854, height=480, fs=1, rel=0)\n",
        "  print('Video available at https://youtube.com/watch?v=' + video.id)\n",
        "  display(video)\n",
        "\n",
        "out = widgets.Tab([out1, out2])\n",
        "out.set_title(0, 'Youtube')\n",
        "out.set_title(1, 'Bilibili')\n",
        "\n",
        "display(out)"
      ],
      "execution_count": 11,
      "outputs": [
        {
          "output_type": "display_data",
          "data": {
            "application/vnd.jupyter.widget-view+json": {
              "model_id": "4d77bba67c3a4f6791276e851140bdd4",
              "version_minor": 0,
              "version_major": 2
            },
            "text/plain": [
              "Tab(children=(Output(), Output()), _titles={'0': 'Youtube', '1': 'Bilibili'})"
            ]
          },
          "metadata": {
            "tags": []
          }
        }
      ]
    },
    {
      "cell_type": "markdown",
      "metadata": {
        "execution": {},
        "id": "9glWqKjbsT1v"
      },
      "source": [
        "## Section 4.1: Correlation"
      ]
    },
    {
      "cell_type": "markdown",
      "metadata": {
        "execution": {},
        "id": "ItAAXtOBsT1v"
      },
      "source": [
        "In this section, we are going to take a step back for a bit and think more generally about the amount of information shared between two random variables. We want to know how much information you gain when you observe one variable (take a measurement) if you know something about another. We will see that the fundamental concept is the same if we think about two attributes, for example the size and color of the fish, or the prior information and the likelihood.\n"
      ]
    },
    {
      "cell_type": "markdown",
      "metadata": {
        "execution": {},
        "id": "s3vO2iUusT1w"
      },
      "source": [
        "### Think! 4.1: Covarying probability distributions\n",
        "\n",
        "The relationship between the marginal probabilities and the joint probabilities is determined by the correlation between the two random variables - a normalized measure of how much the variables covary. We can also think of this as gaining some information about one of the variables when we observe a measurement from the other. We will think about this more formally in Tutorial 2. \n",
        "\n",
        "Here, we want to think about how the correlation between size and color of these fish changes how much information we gain about one attribute based on the other. See Bonus Section 1 for the formula for correlation.\n",
        "\n",
        "Use the widget below and answer the following questions:\n",
        "\n",
        "1. When the correlation is zero, $\\rho = 0$, what does the distribution of size tell you about color?\n",
        "2. Set $\\rho$ to something small. As you change the probability of golden fish, what happens to the ratio of size probabilities? Set $\\rho$ larger (can be negative). Can you explain the pattern of changes in the probabilities of size as you change the probability of golden fish?\n",
        "3. Set the probability of golden fish and of large fish to around 65%. As the correlation goes towards 1, how often will you see silver large fish?\n",
        "4. What is increasing the (absolute) correlation telling you about how likely you are to see one of the properties if you see a fish with the other?\n"
      ]
    },
    {
      "cell_type": "code",
      "metadata": {
        "cellView": "form",
        "execution": {},
        "id": "kDG23nGNsT1x",
        "outputId": "bccee01c-7f4d-42fa-d0ab-704e338164ba",
        "colab": {
          "base_uri": "https://localhost:8080/",
          "height": 474,
          "referenced_widgets": [
            "00a0651707ac40ff8f99c38678f913f7",
            "61f8291604cb42438e328ed6bd5213c7",
            "cf009dc20cdb487da4675996ef1341af",
            "2d931cc115624b64bf95a535950f7602",
            "5ceee5f1fece4b758df38c5cb2860cee",
            "6e5d539fa81842ddaf64863bb8a564f1",
            "0fc7428029484cd3892c94bea27d411d",
            "8e197e682ed642bd985c810addfc65e5",
            "ee30cbbbca324873af4479e7a42bf364",
            "7d5c0c18b1c145dcb75994470a933b5b",
            "9818c567044140928265733d9acf63ca",
            "f659f2a21fe343ff962b16ac2cd4f01d",
            "9443570b7f19435a9c5e5280a92420fb"
          ]
        }
      },
      "source": [
        "# @markdown Execute this cell to enable the widget\n",
        "style = {'description_width': 'initial'}\n",
        "gs = GridspecLayout(2,2)\n",
        "\n",
        "cor_widget = widgets.FloatSlider(0.0, description='ρ', min=-1, max=1, step=0.01)\n",
        "px_widget = widgets.FloatSlider(0.5, description='p(color=golden)', min=0.01, max=0.99, step=0.01, style=style)\n",
        "py_widget = widgets.FloatSlider(0.5, description='p(size=large)', min=0.01, max=0.99, step=0.01, style=style)\n",
        "gs[0,0] = cor_widget\n",
        "gs[0,1] = px_widget\n",
        "gs[1,0] = py_widget\n",
        "\n",
        "\n",
        "@widgets.interact(\n",
        "    px=px_widget,\n",
        "    py=py_widget,\n",
        "    cor=cor_widget,\n",
        ")\n",
        "def make_corr_plot(px, py, cor):\n",
        "    Cmin, Cmax = compute_cor_range(px, py) #allow correlation values\n",
        "    cor_widget.min, cor_widget.max = Cmin+0.01, Cmax-0.01\n",
        "    if cor_widget.value > Cmax:\n",
        "        cor_widget.value = Cmax\n",
        "    if cor_widget.value < Cmin:\n",
        "        cor_widget.value = Cmin\n",
        "    cor = cor_widget.value\n",
        "    P = compute_marginal(px,py,cor)\n",
        "    # print(P)\n",
        "    fig = plot_joint_probs(P)\n",
        "    plt.show(fig)\n",
        "    plt.close(fig)\n",
        "    return None\n",
        "\n",
        "# gs[1,1] = make_corr_plot()"
      ],
      "execution_count": 12,
      "outputs": [
        {
          "output_type": "display_data",
          "data": {
            "application/vnd.jupyter.widget-view+json": {
              "model_id": "00a0651707ac40ff8f99c38678f913f7",
              "version_minor": 0,
              "version_major": 2
            },
            "text/plain": [
              "interactive(children=(FloatSlider(value=0.5, description='p(color=golden)', layout=Layout(grid_area='widget002…"
            ]
          },
          "metadata": {
            "tags": []
          }
        }
      ]
    },
    {
      "cell_type": "markdown",
      "metadata": {
        "execution": {},
        "id": "JiHnqPPOsT1y"
      },
      "source": [
        "[*Click for solution*](https://github.com/NeuromatchAcademy/course-content/tree/master//tutorials/W3D1_BayesianDecisions/solutions/W3D1_Tutorial1_Solution_5567dab4.py)\n",
        "\n"
      ]
    },
    {
      "cell_type": "markdown",
      "metadata": {
        "execution": {},
        "id": "qjWz16bysT1z"
      },
      "source": [
        "We have just seen how two random variables can be more or less independent. The more correlated, the less independent, and the more shared information. We also learned that we can marginalize to determine the marginal likelihood of a measurement or to find the marginal probability distribution of two random variables. We are going to now complete our journey towards being fully Bayesian!"
      ]
    },
    {
      "cell_type": "markdown",
      "metadata": {
        "execution": {},
        "id": "em69eZXssT1z"
      },
      "source": [
        "## Section 4.2: Marginalisation"
      ]
    },
    {
      "cell_type": "markdown",
      "metadata": {
        "execution": {},
        "id": "gB8frbJPsT1z"
      },
      "source": [
        "\n",
        "<details>\n",
        "<summary> <font color=‘blue’>Click here for text recap of relevant part of video </font></summary>\n",
        "\n",
        "We may want to find the probability of one variable while ignoring another: we will do this by averaging out, or marginalizing, the irrelevant variable.\n",
        "\n",
        "We will think of this in two different ways.\n",
        "\n",
        "In the first math exercise, you will think about the case where you know the joint probabilities of two variables and want to figure out the probability of just one variable. To make this explicit, let's assume that a fish has a color that is either gold or silver (our first variable) and a size that is either small or large (our second). We could write out the the **joint probabilities**: the probability of both specific attributes occuring together. For example, the probability of a fish being small and silver, $P(X = \\textrm{small}, Y = \\textrm{silver})$, is 0.4. The following table summarizes our joint probabilities:\n",
        "\n",
        "| P(X, Y)        | Y = silver  | Y = gold  |\n",
        "| -------------- |-------------|-----------|\n",
        "| X = small      | 0.4         | 0.2       |\n",
        "| X = large      | 0.1         | 0.3       |\n",
        "\n",
        "\n",
        "We want to know what the probability of a fish being small  regardless of color. Since the fish are either silver or gold, this would be the probability of a fish being small and silver plus the probability of a fish being small and gold. This is an example of marginalizing, or averaging out, the variable we are not interested in across the rows or columns.. In math speak: $P(X = \\textrm{small}) = \\sum_y{P(X = \\textrm{small}, Y)}$. This gives us a **marginal probability**, a probability of a variable outcome (in this case size), regardless of the other variables (in this case color).\n",
        "\n",
        "More generally, we can marginalize out a second irrelevant variable $y$ by summing over the relevant joint probabilities:\n",
        "\n",
        "$$p(x) = \\sum_y p(x, y) $$\n",
        "\n",
        "\n",
        "In the second math exercise, you will remove an unknown (the hidden state) to find the marginal probability of a measurement. You will do this by marginalizing out the hidden state. In this case, you know the conditional probabilities of the measurement given state and the probabilities of each state. You can marginalize using:\n",
        "\n",
        "$$p(m) = \\sum_s p(m | s) p(s) $$\n",
        "\n",
        "These two ways of thinking about marginalization (as averaging over joint probabilities or conditioning on some variable) are equivalent because the joint probability of two variables equals the conditional probability of the first given the second times the marginal probability of the second:\n",
        "\n",
        "$$p(x, y) = p(x|y)p(y)$$ \n",
        "\n"
      ]
    },
    {
      "cell_type": "markdown",
      "metadata": {
        "execution": {},
        "id": "zIGfkaDbsT1z"
      },
      "source": [
        "### Math Exercise 4.2.1: Computing marginal probabilities\n",
        "\n",
        "To understand the information between two variables, let's first consider the joint probabilities over the size and color of the fish.\n",
        "\n",
        "| P(X, Y)        | Y = silver  | Y = gold  |\n",
        "| -------------- |-------------|-----------|\n",
        "| X = small      | 0.4         | 0.2       |\n",
        "| X = large      | 0.1         | 0.3       |\n",
        "\n",
        "Please complete the following math problems to further practice thinking through probabilities:\n",
        "\n",
        "1. Calculate the probability of a fish being silver.\n",
        "2. Calculate the probability of a fish being small, large, silver, or gold.\n",
        "3. Calculate the probability of a fish being small OR gold. (Hint: $P(A\\ \\textrm{or}\\ B) = P(A) + P(B) - P(A\\ \\textrm{and}\\ B)$)\n",
        "\n",
        "**We don't typically have math exercises in NMA but feel it is important for you to really compute this out yourself. Feel free to use the next cell to write out the math if helpful, or use paper and pen. We recommend doing this exercise individually first and then comparing notes and discussing.**\n"
      ]
    },
    {
      "cell_type": "code",
      "metadata": {
        "execution": {},
        "id": "bKTao4uLsT10"
      },
      "source": [
        "\"\"\"\n",
        "\n",
        "Joint probabilities\n",
        "\n",
        "P( X = small, Y = silver) = 0.4\n",
        "P( X = large, Y = silver) = 0.1\n",
        "P( X = small, Y = gold) = 0.2\n",
        "P( X = large, Y = gold) = 0.3\n",
        "\n",
        "\n",
        "1. P(Y = silver) = ...\n",
        "\n",
        "2. P(X = small or large, Y = silver or gold) = ...\n",
        "\n",
        "3. P( X = small or Y = gold) = ...\n",
        "\n",
        "\"\"\""
      ],
      "execution_count": null,
      "outputs": []
    },
    {
      "cell_type": "markdown",
      "metadata": {
        "execution": {},
        "id": "WJfEky56sT11"
      },
      "source": [
        "[*Click for solution*](https://github.com/NeuromatchAcademy/course-content/tree/master//tutorials/W3D1_BayesianDecisions/solutions/W3D1_Tutorial1_Solution_a2c6d43f.py)\n",
        "\n"
      ]
    },
    {
      "cell_type": "markdown",
      "metadata": {
        "execution": {},
        "id": "NxH7mmQisT11"
      },
      "source": [
        "### Math Exercise 4.2.2: Computing marginal likelihood\n",
        "\n",
        "When we normalize to find the posterior, we need to determine the marinal likelihood--or evidence--for the measurement we observed. To do this, we need to marginalize as we just did above to find the probabilities of a color or size. Only, in this case, we are marginalizing to remove a conditioning variable! In this case, let's consider the likelihood of fish (if we observed a fisherperson fishing on the **right**).\n",
        "\n",
        "| p(m\\|s)       | m = fish | m = no fish  |\n",
        "| ------------ | ---------- | -------------- |\n",
        "| s = left     | 0.1      | 0.9          |\n",
        "| s = right    | 0.5      | 0.5          |\n",
        "\n",
        "\n",
        "The table above shows us the **likelihoods**, just as we explored earlier.\n",
        "\n",
        "You want to know the total probability of a fish being caught, $P(m = \\textrm{fish})$, by the fisherperson fishing on the right. (You would need this to calcualate the posterior.) To do this, you will need to consider the prior probability, $p(s)$, and marginalize over the hidden states!\n",
        "\n",
        "This is an example of marginalizing, or conditioning away, the variable we are not interested in as well.\n",
        "\n",
        "Please complete the following math problems to further practice thinking through probabilities:\n",
        "\n",
        "1. Calculate the marginal likelihood of the fish being caught, $P(m = \\textrm{fish})$, if the priors are: $p(s = \\textrm{left}) = 0.3$ and $p(s = \\textrm{right}) = 0.7$.\n",
        "2. Calculate the marginal likelihood of the fish being caught,  $P(m = \\textrm{fish})$, if the priors are: $p(s = \\textrm{left}) = 0.6$ and $p(s = \\textrm{right}) = 0.4$.\n",
        "\n",
        "**We don't typically have math exercises in NMA but feel it is important for you to really compute this out yourself. Feel free to use the next cell to write out the math if helpful, or use paper and pen. We recommend doing this exercise individually first and then comparing notes and discussing.**\n"
      ]
    },
    {
      "cell_type": "code",
      "metadata": {
        "execution": {},
        "id": "JoKuRNDosT11"
      },
      "source": [
        "\"\"\"\n",
        "\n",
        "Priors\n",
        "P(s = left) = 0.3\n",
        "P(s = right) = 0.7\n",
        "\n",
        "Likelihoods\n",
        "P(m = fish | s = left) = 0.1\n",
        "P(m = fish | s = right) = 0.5\n",
        "P(m = no fish | s = left) = 0.9\n",
        "P(m = no fish | s = right) = 0.5\n",
        "\n",
        "1. P(m = fish) = ...\n",
        "\n",
        "2. P(m = fish) = ...\n",
        "\n",
        "\"\"\""
      ],
      "execution_count": null,
      "outputs": []
    },
    {
      "cell_type": "markdown",
      "metadata": {
        "execution": {},
        "id": "I93YGp4esT11"
      },
      "source": [
        "[*Click for solution*](https://github.com/NeuromatchAcademy/course-content/tree/master//tutorials/W3D1_BayesianDecisions/solutions/W3D1_Tutorial1_Solution_16d6767a.py)\n",
        "\n"
      ]
    },
    {
      "cell_type": "markdown",
      "metadata": {
        "execution": {},
        "id": "Vqw4PmBMsT12"
      },
      "source": [
        "---\n",
        "# Section 5: Bayes' Rule and the Posterior\n",
        "\n",
        "*Estimated timing to here from start of tutorial: 55 min*"
      ]
    },
    {
      "cell_type": "code",
      "metadata": {
        "cellView": "form",
        "execution": {},
        "id": "qpXBk84AsT12",
        "outputId": "6b316972-cb1c-437c-9607-cfd1a23367fe",
        "colab": {
          "base_uri": "https://localhost:8080/",
          "height": 580,
          "referenced_widgets": [
            "55ac0ae9078e475189f3ff20ccb3c334",
            "13deee148d384281bb5e09b8e822c9c5",
            "6d0bb0f8a2a54c2d8d45438d3f860deb",
            "61e3c63cffb54fc08aea0283a318b261",
            "b4db7c0a803d4df1bb020894bd7e3c45",
            "394ccddd9c2a4ced8f74cbf7774d2851"
          ]
        }
      },
      "source": [
        "# @title Video 7: Posterior Beliefs\n",
        "from ipywidgets import widgets\n",
        "\n",
        "out2 = widgets.Output()\n",
        "with out2:\n",
        "  from IPython.display import IFrame\n",
        "  class BiliVideo(IFrame):\n",
        "      def __init__(self, id, page=1, width=400, height=300, **kwargs):\n",
        "          self.id=id\n",
        "          src = 'https://player.bilibili.com/player.html?bvid={0}&page={1}'.format(id, page)\n",
        "          super(BiliVideo, self).__init__(src, width, height, **kwargs)\n",
        "\n",
        "  video = BiliVideo(id=\"BV1fK4y1M7EC\", width=854, height=480, fs=1)\n",
        "  print('Video available at https://www.bilibili.com/video/{0}'.format(video.id))\n",
        "  display(video)\n",
        "\n",
        "out1 = widgets.Output()\n",
        "with out1:\n",
        "  from IPython.display import YouTubeVideo\n",
        "  video = YouTubeVideo(id=\"cOAJQ4utwD0\", width=854, height=480, fs=1, rel=0)\n",
        "  print('Video available at https://youtube.com/watch?v=' + video.id)\n",
        "  display(video)\n",
        "\n",
        "out = widgets.Tab([out1, out2])\n",
        "out.set_title(0, 'Youtube')\n",
        "out.set_title(1, 'Bilibili')\n",
        "\n",
        "display(out)"
      ],
      "execution_count": 13,
      "outputs": [
        {
          "output_type": "display_data",
          "data": {
            "application/vnd.jupyter.widget-view+json": {
              "model_id": "55ac0ae9078e475189f3ff20ccb3c334",
              "version_minor": 0,
              "version_major": 2
            },
            "text/plain": [
              "Tab(children=(Output(), Output()), _titles={'0': 'Youtube', '1': 'Bilibili'})"
            ]
          },
          "metadata": {
            "tags": []
          }
        }
      ]
    },
    {
      "cell_type": "markdown",
      "metadata": {
        "execution": {},
        "id": "OBokMumIsT13"
      },
      "source": [
        "Marginalization is going to be used to combine our prior knowlege, which we call the **prior**, and our new information from a measurement, the **likelihood**. Only in this case, the information we gain about the hidden state we are interested in, where the fish are, is based on the relationship between the probabilities of the measurement and our prior. \n",
        "\n",
        "We can now calculate the full posterior distribution for the hidden state ($s$) using Bayes' Rule. As we've seen, the posterior is proportional the the prior times the likelihood. This means that the posterior probability of the hidden state ($s$) given a measurement ($m$) is proportional to the likelihood of the measurement given the state times the prior probability of that state:\n",
        "\n",
        "$$ P(s | m) \\propto P(m | s) P(s)  $$\n",
        "\n",
        "We say proportional to instead of equal because we need to normalize to produce a full probability distribution:\n",
        "\n",
        "$$ P(s | m) = \\frac{P(m | s) P(s)}{P(m)}  $$\n",
        "\n",
        "Normalizing by this $P(m)$ means that our posterior is a complete probability distribution that sums or integrates to 1 appropriately. We now can use this new, complete probability distribution for any future inference or decisions we like! In fact, as we will see tomorrow, we can use it as a new prior! Finally, we often call this probability distribution our beliefs over the hidden states, to emphasize that it is our subjective knowlege about the hidden state.\n",
        "\n",
        "For many complicated cases, like those we might be using to model behavioral or brain inferences, the normalization term can be intractable or extremely complex to calculate. We can be careful to choose probability distributions were we can analytically calculate the posterior probability or numerical approximation is reliable. Better yet, we sometimes don't need to bother with this normalization! The normalization term, $P(m)$, is the probability of the measurement. This does not depend on state so is essentially a constant we can often ignore. We can compare the unnormalized posterior distribution values for different states because how they relate to each other is unchanged when divided by the same constant. We will see how to do this to compare evidence for different hypotheses tomorrow. (It's also used to compare the likelihood of models fit using maximum likelihood estimation)\n",
        "\n",
        "In this relatively simple example, we can compute the marginal likelihood $P(m)$ easily by using:\n",
        "$$P(m) = \\sum_s P(m | s) P(s)$$\n",
        "We can then normalize so that we deal with the full posterior distribution.\n",
        "\n"
      ]
    },
    {
      "cell_type": "markdown",
      "metadata": {
        "execution": {},
        "id": "PrkGoRBvsT14"
      },
      "source": [
        "## Math Exercise 5: Calculating a posterior probability\n",
        "\n",
        "Our prior is $p(s = \\textrm{left}) = 0.3$ and $p(s = \\textrm{right}) = 0.7$. In the video, we learned that the chance of catching a fish given they fish on the same side as the school was 50%. Otherwise, it was 10%. We observe a person fishing on the left side. Our likelihood is: \n",
        "\n",
        "\n",
        "| Likelihood: p(m \\| s) | m = fish   | m = no fish  |\n",
        "| ----------------- |----------|----------|\n",
        "| s = left          | 0.5          | 0.5         |\n",
        "| s = right         | 0.1        |  0.9       |\n",
        "\n",
        "\n",
        "Calculate the posterior probability (on paper) that:\n",
        "\n",
        "1. The school is on the left if the fisherperson catches a fish: $p(s = \\textrm{left} | m = \\textrm{fish})$ (hint: normalize by computing $p(m = \\textrm{fish})$)\n",
        "2. The school is on the right if the fisherperson does not catch a fish: $p(s = \\textrm{right} | m = \\textrm{no fish})$\n",
        "\n",
        "**We don't typically have math exercises in NMA but feel it is important for you to really compute this out yourself. Feel free to use the next cell to write out the math if helpful, or use paper and pen. We recommend doing this exercise individually first and then comparing notes and discussing.**"
      ]
    },
    {
      "cell_type": "code",
      "metadata": {
        "execution": {},
        "id": "4Vrtdt-bsT14"
      },
      "source": [
        "\"\"\"\n",
        "Priors\n",
        "p(s = left) = 0.3\n",
        "p(s = right) = 0.7\n",
        "\n",
        "Likelihoods\n",
        "P(m = fish | s = left) = 0.5\n",
        "P(m = fish | s = right) = 0.1\n",
        "P(m = no fish | s = left) = 0.5\n",
        "P(m = no fish | s = right) = 0.9\n",
        "\n",
        "1. p( s = left | m = fish) = ...\n",
        "\n",
        "2. p( s = right | m = no fish ) = ...\n",
        "\n",
        "\"\"\""
      ],
      "execution_count": null,
      "outputs": []
    },
    {
      "cell_type": "markdown",
      "metadata": {
        "execution": {},
        "id": "pP9CMf-7sT15"
      },
      "source": [
        "[*Click for solution*](https://github.com/NeuromatchAcademy/course-content/tree/master//tutorials/W3D1_BayesianDecisions/solutions/W3D1_Tutorial1_Solution_1fcd83ee.py)\n",
        "\n"
      ]
    },
    {
      "cell_type": "markdown",
      "metadata": {
        "execution": {},
        "id": "JV2Ev9fTsT16"
      },
      "source": [
        "## Coding Exercise 5: Computing Posteriors\n",
        "\n",
        "Let's implement our above math to be able to compute posteriors for different priors and likelihoods.\n",
        "\n",
        "As before, our prior is $p(s = \\textrm{left}) = 0.3$ and $p(s = \\textrm{right}) = 0.7$. In the video, we learned that the chance of catching a fish given they fish on the same side as the school was 50%. Otherwise, it was 10%. We observe a person fishing on the left side. Our likelihood is: \n",
        "\n",
        "\n",
        "| Likelihood: p(m \\| s) | m = fish   | m = no fish  |\n",
        "| ----------------- |----------|----------|\n",
        "| s = left          | 0.5          | 0.5         |\n",
        "| s = right         | 0.1        |  0.9       |\n",
        "\n",
        "\n",
        "We want our full posterior to take the same 2 by 2 form. Make sure the outputs match your math answers!\n",
        "\n"
      ]
    },
    {
      "cell_type": "code",
      "metadata": {
        "execution": {},
        "id": "qIPh9YVDsT17",
        "outputId": "2e749380-446d-48b8-defe-88ab731b7524",
        "colab": {
          "base_uri": "https://localhost:8080/",
          "height": 362
        }
      },
      "source": [
        "def compute_posterior(likelihood, prior):\n",
        "  \"\"\" Use Bayes' Rule to compute posterior from likelihood and prior\n",
        "\n",
        "  Args:\n",
        "    likelihood (ndarray): i x j array with likelihood probabilities where i is\n",
        "                    number of state options, j is number of measurement options\n",
        "    prior (ndarray): i x 1 array with prior probability of each state\n",
        "\n",
        "  Returns:\n",
        "    ndarray: i x j array with posterior probabilities where i is\n",
        "            number of state options, j is number of measurement options\n",
        "\n",
        "  \"\"\"\n",
        "\n",
        "  \n",
        "  # Compute unnormalized posterior (likelihood times prior)\n",
        "  posterior = prior * likelihood # first row is s = left, second row is s = right\n",
        "\n",
        "  # Compute p(m)\n",
        "  p_m = np.sum(posterior, axis = 0)\n",
        "\n",
        "  # Normalize posterior (divide elements by p_m)\n",
        "  posterior /= p_m\n",
        "\n",
        "  return posterior\n",
        "\n",
        "\n",
        "# Make prior\n",
        "prior = np.array([0.3, 0.7]).reshape((2, 1)) # first row is s = left, second row is s = right\n",
        "\n",
        "# Make likelihood\n",
        "likelihood = np.array([[0.5, 0.5], [0.1, 0.9]]) # first row is s = left, second row is s = right\n",
        "\n",
        "# Compute posterior\n",
        "posterior = compute_posterior(likelihood, prior)\n",
        "\n",
        "# Visualize\n",
        "plot_prior_likelihood_posterior(prior, likelihood, posterior)"
      ],
      "execution_count": 17,
      "outputs": [
        {
          "output_type": "display_data",
          "data": {
            "image/png": "[encoded data removed]",
            "text/plain": [
              "<Figure size 864x288 with 3 Axes>"
            ]
          },
          "metadata": {
            "tags": [],
            "image/png": {
              "width": 834,
              "height": 345
            },
            "needs_background": "light"
          }
        }
      ]
    },
    {
      "cell_type": "markdown",
      "metadata": {
        "execution": {},
        "id": "7bucxbyqsT17"
      },
      "source": [
        "## Interactive Demo 5: What affects the posterior?\n",
        "\n",
        "Now that we can understand the implementation of *Bayes rule*, let's vary the parameters of the prior and likelihood to see how changing the prior and likelihood affect the posterior. \n",
        "\n",
        "In the demo below, you can change the prior by playing with the slider for $p( s = left)$. You can also change the likelihood by changing the probability of catching a fish given that the school is on the left and the probability of catching a fish given that the school is on the right. The fisherperson you are observing is fishing on the left.\n",
        " \n",
        "\n",
        "1.   Keeping the likelihood constant, when does the prior have the strongest influence over the posterior? Meaning, when does the posterior look most like the prior no matter whether a fish was caught or not?\n",
        "2.   What happens if the likelihoods for catching a fish are similar when you fish on the correct or incorrect side?\n",
        "3.  Set the prior probability of the state = left to 0.6 and play with the likelihood. When does the likelihood exert the most influence over the posterior?"
      ]
    },
    {
      "cell_type": "code",
      "metadata": {
        "cellView": "form",
        "execution": {},
        "id": "tC5z_HkHsT17",
        "outputId": "58b547ba-2029-4f5b-cd2b-89f88a4c8d00",
        "colab": {
          "base_uri": "https://localhost:8080/",
          "height": 459,
          "referenced_widgets": [
            "b3b209fa1faa4b0e964f3c1a215fada3",
            "96ef659119d5438bba71593d1a3e083f",
            "b25be21149a74bfc881a321a04f2b624",
            "e064605be9f54b10bea0437769349873",
            "06fcfc49ef4943a09f0b816bbe6130c9",
            "a62eb9cf414d493c8a508405fd65999b",
            "ee926c3b6d0a4535b322a67d1f03008f",
            "6e360dff18064b8bbca0a25b10b546d0",
            "e46288c5ff2b40f1bb64eb48a3115f39",
            "3d50c2ea54f24ed8ab3f1e815375ec36",
            "7064d39b96954d0fa3690019276897dd",
            "936831a73be44764a769ed0144cf7253",
            "c7295bc5999744ba994570cc4bef57ee",
            "a8a72c6a452c4498b7e6d491851e0a55",
            "d686b19a6f1244119e228d06de613921",
            "21caf2fec3c04e568adb0e80129581c3",
            "0cb59b1cc4334c06b90bd1b006c8a981",
            "4efcd0bf561b477aa24c7d52dda03d87"
          ]
        }
      },
      "source": [
        "# @markdown Execute this cell to enable the widget\n",
        "# style = {'description_width': 'initial'}\n",
        "ps_widget = widgets.FloatSlider(0.3, description='p(s = left)',\n",
        "                                min=0.01, max=0.99, step=0.01)\n",
        "p_a_s1_widget = widgets.FloatSlider(0.5, description='p(fish on left | state = left)',\n",
        "                                    min=0.01, max=0.99, step=0.01, style=style, layout=Layout(width='370px'))\n",
        "p_a_s0_widget = widgets.FloatSlider(0.1, description='p(fish on left | state = right)',\n",
        "                                    min=0.01, max=0.99, step=0.01, style=style, layout=Layout(width='370px'))\n",
        "# observed_widget = widgets.Checkbox(value=False, description='Observed fish (m)',\n",
        "#                                  disabled=False, indent=False,\n",
        "#                                  layout=Layout(display=\"flex\", justify_content=\"center\"))\n",
        "\n",
        "observed_widget = ToggleButtons(options=['Fish', 'No Fish'],\n",
        "    description='Observation (m) on the left:', disabled=False, button_style='',\n",
        "    layout=Layout(width='auto', display=\"flex\"),\n",
        "    style={'description_width': 'initial'}\n",
        ")\n",
        "\n",
        "widget_ui = VBox([ps_widget,\n",
        "                  HBox([p_a_s1_widget, p_a_s0_widget]),\n",
        "                  observed_widget])\n",
        "widget_out = interactive_output(plot_prior_likelihood,\n",
        "                                {'ps': ps_widget,\n",
        "                                'p_a_s1': p_a_s1_widget,\n",
        "                                'p_a_s0': p_a_s0_widget,\n",
        "                                'measurement': observed_widget})\n",
        "display(widget_ui, widget_out)\n",
        "\n",
        "# @widgets.interact(\n",
        "#     ps=ps_widget,\n",
        "#     p_a_s1=p_a_s1_widget,\n",
        "#     p_a_s0=p_a_s0_widget,\n",
        "#     m_right=observed_widget\n",
        "# )\n",
        "# def make_prior_likelihood_plot(ps,p_a_s1,p_a_s0,m_right):\n",
        "#     fig = plot_prior_likelihood(ps,p_a_s1,p_a_s0,m_right)\n",
        "#     plt.show(fig)\n",
        "#     plt.close(fig)\n",
        "#     return None"
      ],
      "execution_count": 15,
      "outputs": [
        {
          "output_type": "display_data",
          "data": {
            "application/vnd.jupyter.widget-view+json": {
              "model_id": "b3b209fa1faa4b0e964f3c1a215fada3",
              "version_minor": 0,
              "version_major": 2
            },
            "text/plain": [
              "VBox(children=(FloatSlider(value=0.3, description='p(s = left)', max=0.99, min=0.01, step=0.01), HBox(children…"
            ]
          },
          "metadata": {
            "tags": []
          }
        },
        {
          "output_type": "display_data",
          "data": {
            "application/vnd.jupyter.widget-view+json": {
              "model_id": "0cb59b1cc4334c06b90bd1b006c8a981",
              "version_minor": 0,
              "version_major": 2
            },
            "text/plain": [
              "Output()"
            ]
          },
          "metadata": {
            "tags": []
          }
        }
      ]
    },
    {
      "cell_type": "markdown",
      "metadata": {
        "execution": {},
        "id": "NBFUPxVasT18"
      },
      "source": [
        "[*Click for solution*](https://github.com/NeuromatchAcademy/course-content/tree/master//tutorials/W3D1_BayesianDecisions/solutions/W3D1_Tutorial1_Solution_09d33baa.py)\n",
        "\n"
      ]
    },
    {
      "cell_type": "code",
      "metadata": {
        "cellView": "form",
        "execution": {},
        "id": "bdIU0BxRsT19",
        "outputId": "38efce7d-1731-4bbd-9ab6-9222081e12dc",
        "colab": {
          "base_uri": "https://localhost:8080/",
          "height": 580,
          "referenced_widgets": [
            "0732954ce48f475ea32bf2a4c2c8af50",
            "b23d6f43f3ee4c76975a077184784a93",
            "ea124f6300944855b2fa241d40951e52",
            "4a84966d548049dbb8b258d188221228",
            "178e9fdb79b5452f96dc2c7b7cd12ec9",
            "803a045df95048daaa62599fd671958c"
          ]
        }
      },
      "source": [
        "# @title Video 8: Posterior Beliefs Exercises Discussion\n",
        "from ipywidgets import widgets\n",
        "\n",
        "out2 = widgets.Output()\n",
        "with out2:\n",
        "  from IPython.display import IFrame\n",
        "  class BiliVideo(IFrame):\n",
        "      def __init__(self, id, page=1, width=400, height=300, **kwargs):\n",
        "          self.id=id\n",
        "          src = 'https://player.bilibili.com/player.html?bvid={0}&page={1}'.format(id, page)\n",
        "          super(BiliVideo, self).__init__(src, width, height, **kwargs)\n",
        "\n",
        "  video = BiliVideo(id=\"BV1TU4y1G7SM\", width=854, height=480, fs=1)\n",
        "  print('Video available at https://www.bilibili.com/video/{0}'.format(video.id))\n",
        "  display(video)\n",
        "\n",
        "out1 = widgets.Output()\n",
        "with out1:\n",
        "  from IPython.display import YouTubeVideo\n",
        "  video = YouTubeVideo(id=\"YPQgLVolvBs\", width=854, height=480, fs=1, rel=0)\n",
        "  print('Video available at https://youtube.com/watch?v=' + video.id)\n",
        "  display(video)\n",
        "\n",
        "out = widgets.Tab([out1, out2])\n",
        "out.set_title(0, 'Youtube')\n",
        "out.set_title(1, 'Bilibili')\n",
        "\n",
        "display(out)"
      ],
      "execution_count": 18,
      "outputs": [
        {
          "output_type": "display_data",
          "data": {
            "application/vnd.jupyter.widget-view+json": {
              "model_id": "0732954ce48f475ea32bf2a4c2c8af50",
              "version_minor": 0,
              "version_major": 2
            },
            "text/plain": [
              "Tab(children=(Output(), Output()), _titles={'0': 'Youtube', '1': 'Bilibili'})"
            ]
          },
          "metadata": {
            "tags": []
          }
        }
      ]
    },
    {
      "cell_type": "markdown",
      "metadata": {
        "execution": {},
        "id": "7tRpMxv9sT1_"
      },
      "source": [
        "# Section 6: Making Bayesian fishing decisions\n",
        "\n",
        "*Estimated timing to here from start of tutorial: 1 hr, 15 min*"
      ]
    },
    {
      "cell_type": "code",
      "metadata": {
        "cellView": "form",
        "execution": {},
        "id": "vemPxYWrsT2B",
        "outputId": "b6869f75-838e-4453-bcda-bcf45efd8440",
        "colab": {
          "base_uri": "https://localhost:8080/",
          "height": 580,
          "referenced_widgets": [
            "615e9d1e0b3b4719a22de4c91fce8402",
            "642b1068f8aa4897bab9fc6a86509c1e",
            "f58c65fc6025458d976a4dd914650981",
            "7cdd72935b214da5a3872600c286ec0b",
            "b454fcc475d74c89a6f421a3e9a91164",
            "38abd68c7f8b42ac8f4dc0413c0598b2"
          ]
        }
      },
      "source": [
        "# @title Video 9: Bayesian Decisions\n",
        "from ipywidgets import widgets\n",
        "\n",
        "out2 = widgets.Output()\n",
        "with out2:\n",
        "  from IPython.display import IFrame\n",
        "  class BiliVideo(IFrame):\n",
        "      def __init__(self, id, page=1, width=400, height=300, **kwargs):\n",
        "          self.id=id\n",
        "          src = 'https://player.bilibili.com/player.html?bvid={0}&page={1}'.format(id, page)\n",
        "          super(BiliVideo, self).__init__(src, width, height, **kwargs)\n",
        "\n",
        "  video = BiliVideo(id=\"BV1954y1n7uH\", width=854, height=480, fs=1)\n",
        "  print('Video available at https://www.bilibili.com/video/{0}'.format(video.id))\n",
        "  display(video)\n",
        "\n",
        "out1 = widgets.Output()\n",
        "with out1:\n",
        "  from IPython.display import YouTubeVideo\n",
        "  video = YouTubeVideo(id=\"tz9zsmTHR68\", width=854, height=480, fs=1, rel=0)\n",
        "  print('Video available at https://youtube.com/watch?v=' + video.id)\n",
        "  display(video)\n",
        "\n",
        "out = widgets.Tab([out1, out2])\n",
        "out.set_title(0, 'Youtube')\n",
        "out.set_title(1, 'Bilibili')\n",
        "\n",
        "display(out)"
      ],
      "execution_count": 19,
      "outputs": [
        {
          "output_type": "display_data",
          "data": {
            "application/vnd.jupyter.widget-view+json": {
              "model_id": "615e9d1e0b3b4719a22de4c91fce8402",
              "version_minor": 0,
              "version_major": 2
            },
            "text/plain": [
              "Tab(children=(Output(), Output()), _titles={'0': 'Youtube', '1': 'Bilibili'})"
            ]
          },
          "metadata": {
            "tags": []
          }
        }
      ]
    },
    {
      "cell_type": "markdown",
      "metadata": {
        "execution": {},
        "id": "mRR6AbrbsT2C"
      },
      "source": [
        "\n",
        "We will explore how to consider the expected utility of an action based on our belief (the posterior distribution) about where we think the fish are. Now we have all the components of a Bayesian decision: our prior information, the likelihood given a measurement, the posterior distribution (belief) and our utility (the gains and losses). This allows us to consider the relationship between the true value of the hidden state, $s$, and what we *expect* to get if we take action, $a$, based on our belief!\n",
        "\n",
        "Let's use the following widget to think about the relationship between these probability distributions and utility function."
      ]
    },
    {
      "cell_type": "markdown",
      "metadata": {
        "execution": {},
        "id": "3gh7PDXcsT2C"
      },
      "source": [
        "## Interactive Demo! 6: What is more important, the probabilities or the utilities?\n",
        "\n",
        "We are now going to put everything we've learned together to gain some intuitions for how each of the elements that goes into a Bayesian decision comes together. Remember, the common assumption in neuroscience, psychology, economics, ecology, etc. is that we (humans and animals) are tying to maximize our expected utility. There is a lot going on in this demo as it brings everything in this tutorial together in one place - please spend time making sure you understand the controls and the plots, especially how everything relates together.\n",
        "\n",
        "1. Can you find a situation where the expected utility is the same for both actions?\n",
        "2. What is more important for determining the expected utility: the prior or a new measurement (the likelihood)?\n",
        "3. Why is this a normative model?\n",
        "4. Can you think of ways in which this model would need to be extended to describe human or animal behavior?"
      ]
    },
    {
      "cell_type": "code",
      "metadata": {
        "cellView": "form",
        "execution": {},
        "id": "pXOBzQFUsT2C",
        "outputId": "c4fb4648-0374-45e2-a89e-ef399d708289",
        "colab": {
          "base_uri": "https://localhost:8080/",
          "height": 663,
          "referenced_widgets": [
            "0b14dd6697784d4b9a3f3645635e24f3",
            "31bf8f938a8b4ad69d9964e42aa879cf",
            "085cfd8a1c6c42a19bf6f13e19543c88",
            "c7a1a579f2d04c3fb6da646b25c42dec",
            "f12851e7ff2442ea8f5f9b54a09a72a2",
            "9965611716c545648938796179fe3dc5",
            "6a4e2ca92888458bbf86a269cba672b4",
            "2ba130531ee64831a5748869adde1f01",
            "67e560ada5964f588bd44608b0e6bc6b",
            "e85e13f850d747be9fc358a26e9472ac",
            "e72ccf034f144d57af68f34c893f831b",
            "3755eebbc2e143c9934696b47c818b74",
            "4d633a6237f7440b9a39a41e5a1bf651",
            "5562933854964c18bd96e6cadb398d5d",
            "7bf5e1bbf44c43a7b3f913a6317a4194",
            "7b3d7c620d954dbb995abd365723cb11",
            "2cbe4993b3424dfc9c3122ac2efac4a2",
            "a38087c5244a4b90b8a937a230a0fc06"
          ]
        }
      },
      "source": [
        "# @markdown Execute this cell to enable the widget\n",
        "# style = {'description_width': 'initial'}\n",
        "\n",
        "ps_widget = widgets.FloatSlider(0.3, description='p(s = left)',\n",
        "                                min=0.01, max=0.99, step=0.01, layout=Layout(width='300px'))\n",
        "p_a_s1_widget = widgets.FloatSlider(0.5, description='p(fish on left | state = left)',\n",
        "                                    min=0.01, max=0.99, step=0.01, style=style, layout=Layout(width='370px'))\n",
        "p_a_s0_widget = widgets.FloatSlider(0.1, description='p(fish on left | state = right)',\n",
        "                                    min=0.01, max=0.99, step=0.01, style=style, layout=Layout(width='370px'))\n",
        "\n",
        "observed_widget = ToggleButtons(options=['Fish', 'No Fish'],\n",
        "    description='Observation (m) on the left:', disabled=False, button_style='',\n",
        "    layout=Layout(width='auto', display=\"flex\"),\n",
        "    style={'description_width': 'initial'}\n",
        ")\n",
        "\n",
        "widget_ui = VBox([ps_widget,\n",
        "                  HBox([p_a_s1_widget, p_a_s0_widget]),\n",
        "                  observed_widget])\n",
        "\n",
        "widget_out = interactive_output(plot_prior_likelihood_utility,\n",
        "                                {'ps': ps_widget,\n",
        "                                'p_a_s1': p_a_s1_widget,\n",
        "                                'p_a_s0': p_a_s0_widget,\n",
        "                                'measurement': observed_widget})\n",
        "display(widget_ui, widget_out)\n",
        "\n",
        "# @widgets.interact(\n",
        "#     ps=ps_widget,\n",
        "#     p_a_s1=p_a_s1_widget,\n",
        "#     p_a_s0=p_a_s0_widget,\n",
        "#     m_right=observed_widget\n",
        "# )\n",
        "# def make_prior_likelihood_utility_plot(ps, p_a_s1, p_a_s0,m_right):\n",
        "#     fig = plot_prior_likelihood_utility(ps, p_a_s1, p_a_s0,m_right)\n",
        "#     plt.show(fig)\n",
        "#     plt.close(fig)\n",
        "#     return None"
      ],
      "execution_count": 20,
      "outputs": [
        {
          "output_type": "display_data",
          "data": {
            "application/vnd.jupyter.widget-view+json": {
              "model_id": "0b14dd6697784d4b9a3f3645635e24f3",
              "version_minor": 0,
              "version_major": 2
            },
            "text/plain": [
              "VBox(children=(FloatSlider(value=0.3, description='p(s = left)', layout=Layout(width='300px'), max=0.99, min=0…"
            ]
          },
          "metadata": {
            "tags": []
          }
        },
        {
          "output_type": "display_data",
          "data": {
            "application/vnd.jupyter.widget-view+json": {
              "model_id": "2cbe4993b3424dfc9c3122ac2efac4a2",
              "version_minor": 0,
              "version_major": 2
            },
            "text/plain": [
              "Output()"
            ]
          },
          "metadata": {
            "tags": []
          }
        }
      ]
    },
    {
      "cell_type": "markdown",
      "metadata": {
        "execution": {},
        "id": "g9wqoOPHsT2D"
      },
      "source": [
        "[*Click for solution*](https://github.com/NeuromatchAcademy/course-content/tree/master//tutorials/W3D1_BayesianDecisions/solutions/W3D1_Tutorial1_Solution_0dad47c0.py)\n",
        "\n"
      ]
    },
    {
      "cell_type": "code",
      "metadata": {
        "cellView": "form",
        "execution": {},
        "id": "wEcfowtQsT2D",
        "outputId": "77d0f765-7158-46cc-8657-ef6bb589d670",
        "colab": {
          "base_uri": "https://localhost:8080/",
          "height": 580,
          "referenced_widgets": [
            "9e8e83d577984654b622aa8a1f3d7771",
            "49157dab90b243bead0c654d2c27423b",
            "658965f1b822430f8cfe2209ee9d8f5b",
            "131f78304f804bff805abc951247005a",
            "1926cf92d45c4c719111566a68c8f8c2",
            "9e335e07f8d945db92a8fa16340685ba"
          ]
        }
      },
      "source": [
        "# @title Video 10: Bayesian Decisions Demo Discussion\n",
        "from ipywidgets import widgets\n",
        "\n",
        "out2 = widgets.Output()\n",
        "with out2:\n",
        "  from IPython.display import IFrame\n",
        "  class BiliVideo(IFrame):\n",
        "      def __init__(self, id, page=1, width=400, height=300, **kwargs):\n",
        "          self.id=id\n",
        "          src = 'https://player.bilibili.com/player.html?bvid={0}&page={1}'.format(id, page)\n",
        "          super(BiliVideo, self).__init__(src, width, height, **kwargs)\n",
        "\n",
        "  video = BiliVideo(id=\"BV1QU4y137BS\", width=854, height=480, fs=1)\n",
        "  print('Video available at https://www.bilibili.com/video/{0}'.format(video.id))\n",
        "  display(video)\n",
        "\n",
        "out1 = widgets.Output()\n",
        "with out1:\n",
        "  from IPython.display import YouTubeVideo\n",
        "  video = YouTubeVideo(id=\"h9L0EYmUpHs\", width=854, height=480, fs=1, rel=0)\n",
        "  print('Video available at https://youtube.com/watch?v=' + video.id)\n",
        "  display(video)\n",
        "\n",
        "out = widgets.Tab([out1, out2])\n",
        "out.set_title(0, 'Youtube')\n",
        "out.set_title(1, 'Bilibili')\n",
        "\n",
        "display(out)"
      ],
      "execution_count": 21,
      "outputs": [
        {
          "output_type": "display_data",
          "data": {
            "application/vnd.jupyter.widget-view+json": {
              "model_id": "9e8e83d577984654b622aa8a1f3d7771",
              "version_minor": 0,
              "version_major": 2
            },
            "text/plain": [
              "Tab(children=(Output(), Output()), _titles={'0': 'Youtube', '1': 'Bilibili'})"
            ]
          },
          "metadata": {
            "tags": []
          }
        }
      ]
    },
    {
      "cell_type": "markdown",
      "metadata": {
        "execution": {},
        "id": "EL-5dS3BsT2D"
      },
      "source": [
        "---\n",
        "# Summary\n",
        "\n",
        "*Estimated timing of tutorial: 1 hour, 30 minutes*\n",
        "\n",
        "In this tutorial, you learned about combining prior information with new measurements to update your knowledge using Bayes Rule, in the context of a fishing problem. \n",
        "\n",
        "Specifically, we covered:\n",
        "\n",
        "* That the likelihood is the probability of the measurement given some hidden state\n",
        "\n",
        "* That how the prior and likelihood interact to create the posterior, the probability of the hidden state given a measurement, depends on how they covary\n",
        "\n",
        "* That utility is the gain from each action and state pair, and the expected utility for an action is the sum of the utility for all state pairs, weighted by the probability of that state happening. You can then choose the action with highest expected utility.\n"
      ]
    },
    {
      "cell_type": "markdown",
      "metadata": {
        "execution": {},
        "id": "YTj2R2qLsT2D"
      },
      "source": [
        "---\n",
        "# Bonus"
      ]
    },
    {
      "cell_type": "markdown",
      "metadata": {
        "execution": {},
        "id": "FFgjayT_sT2E"
      },
      "source": [
        "## Bonus Section 1: Correlation Formula\n",
        "To understand the way we calculate the correlation, we need to review the definition of covariance and correlation.\n",
        "\n",
        "Covariance:\n",
        "\n",
        "$$\n",
        "cov(X,Y) = \\sigma_{XY} = E[(X - \\mu_{x})(Y - \\mu_{y})] = E[X]E[Y] - \\mu_{x}\\mu_{y}\n",
        "$$\n",
        "\n",
        "Correlation:\n",
        "\n",
        "$$\n",
        "\\rho_{XY} = \\frac{cov(Y,Y)}{\\sqrt{V(X)V(Y)}} = \\frac{\\sigma_{XY}}{\\sigma_{X}\\sigma_{Y}}\n",
        "$$"
      ]
    }
  ]
}